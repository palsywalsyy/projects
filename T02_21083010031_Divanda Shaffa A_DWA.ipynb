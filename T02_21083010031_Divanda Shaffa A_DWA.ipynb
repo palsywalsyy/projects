{
 "cells": [
  {
   "cell_type": "markdown",
   "id": "dcac31c0-2c84-47d7-8cbf-bc9e040fba85",
   "metadata": {},
   "source": [
    "##### Nama: Divanda Shaffa A(21083010031)\n",
    "##### Kelas: Data Wrangling A"
   ]
  },
  {
   "cell_type": "markdown",
   "id": "c8a6d9b2-b1ba-46a6-89db-2db2c8447fda",
   "metadata": {},
   "source": [
    "## STRINGS\n",
    "##### Sebuah karakter / kalimat dan bisa berupa huruf atau angka. Dalam penulisannya selalu diapit oleh tanda petik satu atau tanda petik dua"
   ]
  },
  {
   "cell_type": "code",
   "execution_count": 2,
   "id": "8f533862-5b83-4af3-8004-c16188f3a348",
   "metadata": {},
   "outputs": [
    {
     "data": {
      "text/plain": [
       "'hi, im divanda'"
      ]
     },
     "execution_count": 2,
     "metadata": {},
     "output_type": "execute_result"
    }
   ],
   "source": [
    "str1 = \"hi, im divanda\"\n",
    "str1"
   ]
  },
  {
   "cell_type": "code",
   "execution_count": 3,
   "id": "c9327761-f3f3-454d-8d8c-cc148349c22f",
   "metadata": {},
   "outputs": [
    {
     "data": {
      "text/plain": [
       "'hi, im taylor swift'"
      ]
     },
     "execution_count": 3,
     "metadata": {},
     "output_type": "execute_result"
    }
   ],
   "source": [
    "str2 = str1.replace(\"divanda\", \"taylor swift\") \n",
    "str2"
   ]
  },
  {
   "cell_type": "code",
   "execution_count": 4,
   "id": "a6865b69-a11e-4d3f-ae0d-65ebbc5a8200",
   "metadata": {},
   "outputs": [
    {
     "data": {
      "text/plain": [
       "14"
      ]
     },
     "execution_count": 4,
     "metadata": {},
     "output_type": "execute_result"
    }
   ],
   "source": [
    "len(str1)"
   ]
  },
  {
   "cell_type": "code",
   "execution_count": 6,
   "id": "242d3cc8-cf7f-43b3-ae0f-9d92feb7a46e",
   "metadata": {},
   "outputs": [
    {
     "data": {
      "text/plain": [
       "'i'"
      ]
     },
     "execution_count": 6,
     "metadata": {},
     "output_type": "execute_result"
    }
   ],
   "source": [
    "#index: menunjukkan suatu urutan lokasi dari data kita.\n",
    "#index dimulai dari 0\n",
    "\n",
    "str1[1]"
   ]
  },
  {
   "cell_type": "code",
   "execution_count": 8,
   "id": "306d5e76-1a2e-466e-bd85-1520dda3d729",
   "metadata": {},
   "outputs": [
    {
     "data": {
      "text/plain": [
       "'hi, im taylor'"
      ]
     },
     "execution_count": 8,
     "metadata": {},
     "output_type": "execute_result"
    }
   ],
   "source": [
    "#menampilkan indeks mulai 0 hingga 13\n",
    "\n",
    "str2[0:13]"
   ]
  },
  {
   "cell_type": "code",
   "execution_count": 10,
   "id": "0af94f4c-26ed-4515-a70e-3e2f40ffe1d3",
   "metadata": {},
   "outputs": [
    {
     "data": {
      "text/plain": [
       "'hi, i'"
      ]
     },
     "execution_count": 10,
     "metadata": {},
     "output_type": "execute_result"
    }
   ],
   "source": [
    "#mengeluarkan output dari huruf ke-0 hingga 5\n",
    "\n",
    "str1[:5]"
   ]
  },
  {
   "cell_type": "code",
   "execution_count": 11,
   "id": "d31f3386-a0c1-4284-bf31-22d16d871d75",
   "metadata": {},
   "outputs": [
    {
     "data": {
      "text/plain": [
       "'hi, im taylor swift'"
      ]
     },
     "execution_count": 11,
     "metadata": {},
     "output_type": "execute_result"
    }
   ],
   "source": [
    "#ini menunjukkan bahwa dimulai dari awal hingga huruf terakhir dan loncat 1huruf \n",
    "\n",
    "str2[::1]"
   ]
  },
  {
   "cell_type": "code",
   "execution_count": 13,
   "id": "6550c521-d0fb-4331-a402-578d9ef97193",
   "metadata": {},
   "outputs": [
    {
     "name": "stdout",
     "output_type": "stream",
     "text": [
      "str1 str2 str3\n"
     ]
    }
   ],
   "source": [
    "#the print statement concantenates string with a space \n",
    "\n",
    "print(\"str1\", \"str2\", \"str3\")  "
   ]
  },
  {
   "cell_type": "code",
   "execution_count": 14,
   "id": "d434bbcc-471d-4a31-aa02-37ea07071632",
   "metadata": {},
   "outputs": [
    {
     "name": "stdout",
     "output_type": "stream",
     "text": [
      "str 1 1.0 False (-0-1j)\n"
     ]
    }
   ],
   "source": [
    "#the print statements convertes all argument to string\n",
    "\n",
    "print(\"str 1\", 1.0, False, -1j)"
   ]
  },
  {
   "cell_type": "code",
   "execution_count": 15,
   "id": "8c2b322e-4503-4dfb-bc72-0a1c25b1c276",
   "metadata": {},
   "outputs": [
    {
     "name": "stdout",
     "output_type": "stream",
     "text": [
      "str1str2str3\n"
     ]
    }
   ],
   "source": [
    "#string added with + are concantenated without space \n",
    "\n",
    "print(\"str1\" + \"str2\" + \"str3\")"
   ]
  },
  {
   "cell_type": "code",
   "execution_count": 88,
   "id": "8bbf6173-fd29-4936-b6fe-177304acb7bf",
   "metadata": {},
   "outputs": [
    {
     "data": {
      "text/plain": [
       "'ALL OF US ARE DEAD'"
      ]
     },
     "execution_count": 88,
     "metadata": {},
     "output_type": "execute_result"
    }
   ],
   "source": [
    "#membuat semua huruf menjadi huruf kapital\n",
    "\n",
    "contoh= \"all of us are dead\"\n",
    "contoh.upper()"
   ]
  },
  {
   "cell_type": "code",
   "execution_count": 90,
   "id": "de2b1427-795a-47b2-9b6c-e2e48d847432",
   "metadata": {},
   "outputs": [
    {
     "data": {
      "text/plain": [
       "'all of us are dead'"
      ]
     },
     "execution_count": 90,
     "metadata": {},
     "output_type": "execute_result"
    }
   ],
   "source": [
    "#membuat semua huruf menjadi huruf kecil\n",
    "\n",
    "contoh= \"ALL OF US ARE DEAD\"\n",
    "contoh.lower()"
   ]
  },
  {
   "cell_type": "code",
   "execution_count": 91,
   "id": "e5e4808d-90c0-4160-add9-384575c7c71a",
   "metadata": {},
   "outputs": [
    {
     "data": {
      "text/plain": [
       "'All of us are dead'"
      ]
     },
     "execution_count": 91,
     "metadata": {},
     "output_type": "execute_result"
    }
   ],
   "source": [
    "#membuat hanya huruf awal yang kapital\n",
    "\n",
    "contoh= \"all of us are dead\"\n",
    "contoh.capitalize()"
   ]
  },
  {
   "cell_type": "code",
   "execution_count": 101,
   "id": "fb050ca2-a5bd-4f39-a009-f03b3915311e",
   "metadata": {},
   "outputs": [
    {
     "name": "stdout",
     "output_type": "stream",
     "text": [
      "2\n"
     ]
    }
   ],
   "source": [
    "#meghitung berapa kali karakter pada paramater muncul di kalimat atau huruf string.\n",
    "\n",
    "contoh = \"i don't wanna be somebody, just wanna be me\"\n",
    "print(contoh.count(\"wanna\"))  "
   ]
  },
  {
   "cell_type": "code",
   "execution_count": 102,
   "id": "b639ff7f-5b97-437b-b2e5-dc03f083bf9a",
   "metadata": {},
   "outputs": [
    {
     "name": "stdout",
     "output_type": "stream",
     "text": [
      "2\n",
      "-1\n"
     ]
    }
   ],
   "source": [
    "#mencari karakter pada string dan jika karakter ada, akan memberikan output letak posisi pada string. Jika karakter tidak ada maka return -1.\n",
    "\n",
    "contoh = \"i love you three thousand\"\n",
    "print(contoh.find('love'))       \n",
    "print(contoh.find('hate'))        "
   ]
  },
  {
   "cell_type": "code",
   "execution_count": 105,
   "id": "9a0502f5-94f1-40f1-8099-d2b68c0e8344",
   "metadata": {},
   "outputs": [
    {
     "name": "stdout",
     "output_type": "stream",
     "text": [
      "7\n"
     ]
    }
   ],
   "source": [
    "# Dengan parameter (start, end)\n",
    "\n",
    "print(contoh.find('you', 5, 20))"
   ]
  },
  {
   "cell_type": "code",
   "execution_count": 106,
   "id": "f0f8cd8e-d812-49d2-ab58-607177249873",
   "metadata": {},
   "outputs": [
    {
     "name": "stdout",
     "output_type": "stream",
     "text": [
      "False\n"
     ]
    }
   ],
   "source": [
    "#Mengecek apakah string ini berisi text dan numeric atau keduanya. Jika iya True.\n",
    "\n",
    "contoh=\"hari ini suhu di Surabyaa mencapai 37 derajat celcius\"\n",
    "print(contoh.isalnum())"
   ]
  },
  {
   "cell_type": "markdown",
   "id": "9fb2c049-fd75-430f-8c13-d583cc81f2a7",
   "metadata": {},
   "source": [
    "## List\n",
    "##### Suatu tipe data yang digunakan untuk menyimpan data dan isinya bisa diubah-ubah (bersifat mutable) dan penulisannya harus diapit oleh tanda kurung siku"
   ]
  },
  {
   "cell_type": "code",
   "execution_count": 17,
   "id": "f5e78488-9313-4bf2-8c59-be7e64fb31ce",
   "metadata": {},
   "outputs": [
    {
     "data": {
      "text/plain": [
       "[3, 5, 76, 3]"
      ]
     },
     "execution_count": 17,
     "metadata": {},
     "output_type": "execute_result"
    }
   ],
   "source": [
    "list1 = [3,5,76,3]\n",
    "list1"
   ]
  },
  {
   "cell_type": "code",
   "execution_count": 18,
   "id": "2b8862f5-e750-4819-aa0f-318d3c0ee143",
   "metadata": {},
   "outputs": [
    {
     "data": {
      "text/plain": [
       "[3]"
      ]
     },
     "execution_count": 18,
     "metadata": {},
     "output_type": "execute_result"
    }
   ],
   "source": [
    "list1[0:1]"
   ]
  },
  {
   "cell_type": "code",
   "execution_count": 19,
   "id": "4400c4ba-0f48-4094-bca3-e2616009e44e",
   "metadata": {},
   "outputs": [
    {
     "data": {
      "text/plain": [
       "[3, 5, 76, 3, 'blue']"
      ]
     },
     "execution_count": 19,
     "metadata": {},
     "output_type": "execute_result"
    }
   ],
   "source": [
    "list1.append(\"blue\")\n",
    "list1"
   ]
  },
  {
   "cell_type": "code",
   "execution_count": 20,
   "id": "980d7124-1828-49e2-a42d-2e8976ecadff",
   "metadata": {},
   "outputs": [
    {
     "name": "stdout",
     "output_type": "stream",
     "text": [
      "3\n",
      "5\n",
      "76\n",
      "3\n",
      "blue\n"
     ]
    }
   ],
   "source": [
    "for i in list1:\n",
    "    print(i)"
   ]
  },
  {
   "cell_type": "code",
   "execution_count": 11,
   "id": "42b0b4e3-c2bb-43c6-84bd-cacdb66f9513",
   "metadata": {},
   "outputs": [
    {
     "data": {
      "text/plain": [
       "[31, 32, 33, 33, 33, 34, 35, 35, 36, 37, 38, 39, 40, 40]"
      ]
     },
     "execution_count": 11,
     "metadata": {},
     "output_type": "execute_result"
    }
   ],
   "source": [
    "list2 = [31,32,33,33,33,34,35,35,36,37,38,39,40,40]\n",
    "list2"
   ]
  },
  {
   "cell_type": "code",
   "execution_count": 13,
   "id": "a4a950cd-3c4d-4643-a48e-8c74d7218c5b",
   "metadata": {},
   "outputs": [
    {
     "name": "stdout",
     "output_type": "stream",
     "text": [
      "apple\n",
      "banana\n",
      "cherry\n"
     ]
    }
   ],
   "source": [
    "#loop list\n",
    "\n",
    "list3 = [\"apple\", \"banana\", \"cherry\"]\n",
    "for x in list3:\n",
    "  print(x)"
   ]
  },
  {
   "cell_type": "code",
   "execution_count": 27,
   "id": "8af1360c-c6f7-4948-9f6a-52e5d9f7312e",
   "metadata": {},
   "outputs": [
    {
     "data": {
      "text/plain": [
       "[10, 12, 14, 16, 18, 20, 22, 24, 26, 28]"
      ]
     },
     "execution_count": 27,
     "metadata": {},
     "output_type": "execute_result"
    }
   ],
   "source": [
    "#in python 3 range generates an interator, which can be converted to a ist using 'list(....)'.\n",
    "#it has no effect in python 2\n",
    "\n",
    "list(range(start, stop, step))\n",
    "\n",
    "#start dari angka 10 tetapi loncat 2 dan diakhiri hingga 30, maka 30 tidak termasuk"
   ]
  },
  {
   "cell_type": "code",
   "execution_count": 28,
   "id": "23333d70-4dfb-4ed3-b29a-e258b316c948",
   "metadata": {},
   "outputs": [
    {
     "data": {
      "text/plain": [
       "[-10, -9, -8, -7, -6, -5, -4, -3, -2, -1, 0, 1, 2, 3, 4, 5, 6, 7, 8, 9]"
      ]
     },
     "execution_count": 28,
     "metadata": {},
     "output_type": "execute_result"
    }
   ],
   "source": [
    "#membuat list yang dimulai dari -10 dan berakhir hingga 10, maka 10 tidak termasuk\n",
    "\n",
    "list(range(-10, 10))"
   ]
  },
  {
   "cell_type": "code",
   "execution_count": 32,
   "id": "886ac91b-b086-4718-8e9d-11ef795d349c",
   "metadata": {},
   "outputs": [
    {
     "data": {
      "text/plain": [
       "['h', 'e', 'l', 'l', 'o', ' ', 'w', 'o', 'r', 'l', 'd']"
      ]
     },
     "execution_count": 32,
     "metadata": {},
     "output_type": "execute_result"
    }
   ],
   "source": [
    "#convert a string to a list by type castinng:\n",
    "a = \"hello world\"\n",
    "s2=list(a)\n",
    "s2\n",
    "\n",
    "#membuat list berisi tiap huruf dari kata ber variabel \"a\""
   ]
  },
  {
   "cell_type": "code",
   "execution_count": 33,
   "id": "86beeb65-7334-4e43-afbb-15a435864299",
   "metadata": {},
   "outputs": [
    {
     "name": "stdout",
     "output_type": "stream",
     "text": [
      "[' ', 'd', 'e', 'h', 'l', 'l', 'l', 'o', 'o', 'r', 'w']\n"
     ]
    }
   ],
   "source": [
    "#sorting lists\n",
    "s2.sort()\n",
    "\n",
    "print(s2)\n",
    "\n",
    "#membuat list secara berurutan dimulai dari huruf atau karakter paling awal "
   ]
  },
  {
   "cell_type": "code",
   "execution_count": 39,
   "id": "56f84863-9f3b-4151-ba18-844743183d32",
   "metadata": {},
   "outputs": [
    {
     "name": "stdout",
     "output_type": "stream",
     "text": [
      "['A', 'a', 'd']\n"
     ]
    }
   ],
   "source": [
    "#create a new empty lists\n",
    "l=[]\n",
    "\n",
    "#add an elements using 'append'\n",
    "l.append(\"A\")  #indeks 0\n",
    "l.append(\"a\")  #indeks 1\n",
    "l.append(\"d\")  #indeks 2\n",
    "\n",
    "print(l)"
   ]
  },
  {
   "cell_type": "code",
   "execution_count": 40,
   "id": "09a8ed01-05be-42d1-bc24-b7afcc0c4951",
   "metadata": {},
   "outputs": [
    {
     "name": "stdout",
     "output_type": "stream",
     "text": [
      "['A', 'p', 'p']\n"
     ]
    }
   ],
   "source": [
    "#indeks 1 dan indeks 2\n",
    "#mengganti huruf di indeks1, yaitu \"a\" dengan \"p\" dan indeks2, yaitu \"d\" dengan \"p\"\n",
    "\n",
    "l[1] = \"p\"\n",
    "l[2] = \"p\"\n",
    "\n",
    "print(l)"
   ]
  },
  {
   "cell_type": "code",
   "execution_count": 42,
   "id": "3b96f5f6-b0a2-4314-89b3-306df8326ae3",
   "metadata": {},
   "outputs": [
    {
     "name": "stdout",
     "output_type": "stream",
     "text": [
      "['i', 'n', 's', 'e', 'r', 't', 'i', 'n', 's', 'e', 'r', 't', 'A', 'p', 'p']\n"
     ]
    }
   ],
   "source": [
    "#memasukkan elemen/karakter dengan spesifik ke tiap index dengan syntex \"insert\"\n",
    "\n",
    "l.insert(0, \"i\")\n",
    "l.insert(1, \"n\")\n",
    "l.insert(2, \"s\")\n",
    "l.insert(3, \"e\")\n",
    "l.insert(4, \"r\")\n",
    "l.insert(5, \"t\")\n",
    "\n",
    "print(l)"
   ]
  },
  {
   "cell_type": "code",
   "execution_count": 46,
   "id": "97468a7a-9193-49e0-8592-8d39c4c08188",
   "metadata": {},
   "outputs": [
    {
     "name": "stdout",
     "output_type": "stream",
     "text": [
      "['n', 's', 'e', 'r', 't', 'i', 'n', 's', 'e', 'r', 't', 'p', 'p']\n"
     ]
    }
   ],
   "source": [
    "#remove first element using specific value using remove\n",
    "\n",
    "l.remove(\"i\")\n",
    "\n",
    "print(l)"
   ]
  },
  {
   "cell_type": "code",
   "execution_count": 47,
   "id": "68736149-e50c-4695-9a25-cf1bf84ace10",
   "metadata": {},
   "outputs": [
    {
     "name": "stdout",
     "output_type": "stream",
     "text": [
      "['n', 's', 't', 'i', 'n', 's', 'e', 'r', 't', 'p', 'p']\n"
     ]
    }
   ],
   "source": [
    "#remove an element at a specific location using del\n",
    "\n",
    "del l[3]\n",
    "del l[2]\n",
    "\n",
    "print(l)"
   ]
  },
  {
   "cell_type": "markdown",
   "id": "d9fc554a-0ba8-4896-b682-d608c36393d1",
   "metadata": {},
   "source": [
    "## Dictionaries\n",
    "##### Tipe data yang digunakan untuk menyimpan data dalam bentuk pasangan key dan value. Syntax untuk dictionaries adalah key1:{value1, ....}: "
   ]
  },
  {
   "cell_type": "code",
   "execution_count": 6,
   "id": "a674d24b-d5bf-4cdf-8652-a3d551578e57",
   "metadata": {},
   "outputs": [
    {
     "data": {
      "text/plain": [
       "{'nama': 'divanda', 'usia': '20 tahun', 'kelas': 'data wrangling A'}"
      ]
     },
     "execution_count": 6,
     "metadata": {},
     "output_type": "execute_result"
    }
   ],
   "source": [
    "dict1 = {\"nama\" : \"divanda\", \"usia\" : \"20 tahun\", \"kelas\" : \"data wrangling A\"}\n",
    "dict1"
   ]
  },
  {
   "cell_type": "code",
   "execution_count": 28,
   "id": "16fafcba-26cf-4edf-89ff-f06e8cdae7f0",
   "metadata": {},
   "outputs": [
    {
     "data": {
      "text/plain": [
       "{'calories': [420, 380, 390], 'duration': [50, 40, 45]}"
      ]
     },
     "execution_count": 28,
     "metadata": {},
     "output_type": "execute_result"
    }
   ],
   "source": [
    "dict2 = {\n",
    "  \"calories\": [420, 380, 390],\n",
    "  \"duration\": [50, 40, 45]\n",
    "}\n",
    "\n",
    "dict2"
   ]
  },
  {
   "cell_type": "code",
   "execution_count": 24,
   "id": "cf7d02ee-9a43-4fbd-be91-e0c6fd27eb6e",
   "metadata": {},
   "outputs": [
    {
     "data": {
      "text/plain": [
       "{'calories': (120, 180, 200), 'duration': [50, 40, 45]}"
      ]
     },
     "execution_count": 24,
     "metadata": {},
     "output_type": "execute_result"
    }
   ],
   "source": [
    " #mengubah entri yang sudah ada\n",
    "    \n",
    "dict2['calories'] = 120, 180, 200;\n",
    "dict2"
   ]
  },
  {
   "cell_type": "code",
   "execution_count": 29,
   "id": "cbf8f07b-a079-4ced-a04a-c4710ac0b7da",
   "metadata": {},
   "outputs": [
    {
     "data": {
      "text/plain": [
       "{'calories': [420, 380, 390]}"
      ]
     },
     "execution_count": 29,
     "metadata": {},
     "output_type": "execute_result"
    }
   ],
   "source": [
    "#menghapus entri dengan key 'Name'\n",
    "\n",
    "del dict2['duration'] \n",
    "dict2"
   ]
  },
  {
   "cell_type": "code",
   "execution_count": 30,
   "id": "61ad5a59-104c-463b-bafe-fba66e7de136",
   "metadata": {},
   "outputs": [
    {
     "data": {
      "text/plain": [
       "1"
      ]
     },
     "execution_count": 30,
     "metadata": {},
     "output_type": "execute_result"
    }
   ],
   "source": [
    "#Memberikan panjang total Dictionary. Ini sama dengan jumlah item dalam Dictionary.\n",
    "\n",
    "len(dict2)"
   ]
  },
  {
   "cell_type": "code",
   "execution_count": 31,
   "id": "48447905-a325-4f1a-93be-15dfce586778",
   "metadata": {},
   "outputs": [
    {
     "data": {
      "text/plain": [
       "{'calories': [420, 380, 390]}"
      ]
     },
     "execution_count": 31,
     "metadata": {},
     "output_type": "execute_result"
    }
   ],
   "source": [
    "#mengembalikan salinan Dictionary\n",
    "\n",
    "dict2.copy()"
   ]
  },
  {
   "cell_type": "code",
   "execution_count": 32,
   "id": "1cb88946-3ae7-4344-8490-526877ee1984",
   "metadata": {},
   "outputs": [],
   "source": [
    "#menghapus semua elemen Dictionary\n",
    "\n",
    "dict2.clear()"
   ]
  },
  {
   "cell_type": "code",
   "execution_count": 33,
   "id": "659ac5c9-173b-4909-a0ab-286a9348e3af",
   "metadata": {},
   "outputs": [
    {
     "name": "stdout",
     "output_type": "stream",
     "text": [
      "{'brand': 'Ford', 'year': 1964}\n"
     ]
    }
   ],
   "source": [
    "#menghapus element dengan spesifik key \n",
    "\n",
    "car = {\n",
    "  \"brand\": \"Ford\",\n",
    "  \"model\": \"Mustang\",\n",
    "  \"year\": 1964\n",
    "}\n",
    "\n",
    "car.pop(\"model\")\n",
    "\n",
    "print(car)"
   ]
  },
  {
   "cell_type": "code",
   "execution_count": 34,
   "id": "e26afa07-8d4f-438a-871a-204c86a2f884",
   "metadata": {},
   "outputs": [
    {
     "data": {
      "text/plain": [
       "dict_values(['Ford', 1964])"
      ]
     },
     "execution_count": 34,
     "metadata": {},
     "output_type": "execute_result"
    }
   ],
   "source": [
    "#mengembalikan semua nilai values dalam dict \n",
    "\n",
    "car.values()"
   ]
  },
  {
   "cell_type": "markdown",
   "id": "5cf0995c-97fd-4a43-aef5-9031ae8e0bc5",
   "metadata": {},
   "source": [
    "## Tugas\n",
    "##### 1. Buat List 100 nomor random.\n",
    "##### 2. Buat List baru dari List acak ini, dengan angka yang habis dibagi 3.\n",
    "##### 3. Hitung panjang kedua List ini dan simpan selisihnya dalam variabel baru.\n",
    "##### 4. Dengan menggunakan loop sebanyak 10 kali, lakukan langkah 1, 2, dan 3.\n",
    "##### 5. Temukan rata-rata aritmatika.\n"
   ]
  },
  {
   "cell_type": "code",
   "execution_count": 36,
   "id": "eea73b8f-5083-4e0b-89a7-1b7a0d59b4ee",
   "metadata": {},
   "outputs": [],
   "source": [
    "from random import randint\n",
    "from random import choice"
   ]
  },
  {
   "cell_type": "code",
   "execution_count": 37,
   "id": "c4114482-c62b-4258-8bab-b703de1c762a",
   "metadata": {},
   "outputs": [
    {
     "name": "stdout",
     "output_type": "stream",
     "text": [
      "[63, 33, 5, 5, 11, 37, 51, 54, 5, 52, 28, 60, 3, 59, 30, 6, 88, 27, 74, 1, 33, 48, 82, 74, 24, 4, 52, 53, 87, 40, 98, 81, 45, 96, 72, 95, 80, 55, 67, 27, 88, 60, 81, 19, 69, 65, 51, 10, 13, 77, 84, 45, 16, 11, 40, 42, 73, 90, 6, 67, 3, 56, 30, 52, 35, 14, 23, 58, 91, 18, 45, 15, 34, 42, 92, 34, 16, 16, 17, 60, 33, 25, 42, 60, 19, 26, 63, 49, 66, 56, 87, 44, 35, 9, 50, 48, 35, 27, 34, 91]\n",
      "\n",
      "jumlah bilangan : 100\n"
     ]
    }
   ],
   "source": [
    "from random import random\n",
    "list1 = []\n",
    "\n",
    "i=0\n",
    "for i in range(100):\n",
    "    bilangan = randint(1, 100)\n",
    "    list1.append(bilangan)\n",
    "    i+=1\n",
    "    \n",
    "print(list1)\n",
    "print(\"\\njumlah bilangan :\", i)"
   ]
  },
  {
   "cell_type": "code",
   "execution_count": 38,
   "id": "b98d0b18-c152-4ed8-9052-2124f82a8e89",
   "metadata": {},
   "outputs": [
    {
     "name": "stdout",
     "output_type": "stream",
     "text": [
      "[63, 33, 51, 54, 60, 3, 30, 6, 27, 33, 48, 24, 87, 81, 45, 96, 72, 27, 60, 81, 69, 51, 84, 45, 42, 90, 6, 3, 30, 18, 45, 15, 42, 60, 33, 42, 60, 63, 66, 87, 9, 48, 27]\n",
      "\n",
      "jumlah bilangan yang habis dibagi 3 :  43\n"
     ]
    }
   ],
   "source": [
    "#membuat List baru dari List acak dengan angka yang habis dibagi 3.\n",
    "list2 = []\n",
    "\n",
    "for i in list1:\n",
    "    if i % 3 == 0:\n",
    "        list2.append(i)\n",
    "\n",
    "count = len([num for num in list2 if num % 3 == 0])\n",
    "\n",
    "print(list2)\n",
    "print(\"\\njumlah bilangan yang habis dibagi 3 : \", count)"
   ]
  },
  {
   "cell_type": "code",
   "execution_count": 83,
   "id": "0093b104-dbd2-43a4-9142-d74c951ff20b",
   "metadata": {},
   "outputs": [
    {
     "name": "stdout",
     "output_type": "stream",
     "text": [
      "Panjang list 1 : 100\n",
      "Panjang list 2 : 37\n",
      "Selisih :  63\n"
     ]
    }
   ],
   "source": [
    "#menghitung panjang kedua List dan menyimpan selisihnya dalam variabel baru.\n",
    "panjanglist1 = len(list1)\n",
    "panjanglist2 = len(list2)\n",
    "\n",
    "selisih = panjanglist1 - panjanglist2\n",
    "\n",
    "print(\"Panjang list 1 :\", panjanglist1)\n",
    "print(\"Panjang list 2 :\", panjanglist2)\n",
    "print(\"Selisih : \", selisih)"
   ]
  },
  {
   "cell_type": "code",
   "execution_count": 39,
   "id": "19ce2789-79aa-443c-a9eb-81ffeee4f8e9",
   "metadata": {},
   "outputs": [
    {
     "name": "stdout",
     "output_type": "stream",
     "text": [
      "92\n",
      "14\n",
      "5\n",
      "26\n",
      "28\n",
      "18\n",
      "34\n",
      "13\n",
      "74\n",
      "88\n"
     ]
    }
   ],
   "source": [
    "#menggunakan loop sebanyak 10 kali, lakukan langkah 1, 2, dan 3.\n",
    "listacak = []\n",
    "list3 = []\n",
    "\n",
    "for i in range(10):\n",
    "    x = choice(list1)\n",
    "    print(x)\n",
    "    listacak.append(x)\n",
    "    if x % 3 == 0:\n",
    "        list3.append(x)\n",
    "\n",
    "a = len(listacak)\n",
    "b = len(list3)\n",
    "c = a-b"
   ]
  },
  {
   "cell_type": "code",
   "execution_count": 40,
   "id": "df8cd887-d391-4510-98fb-e178f44b8f29",
   "metadata": {},
   "outputs": [
    {
     "name": "stdout",
     "output_type": "stream",
     "text": [
      "\n",
      "List acak :  [18]\n",
      "Jumlah elemen list yang abis dibagi 3 : 1\n",
      "Selisih antara jumlah elemen listacak dengan jumlah elemen list3 :  9\n"
     ]
    }
   ],
   "source": [
    "print(\"\\nList acak : \",list3)\n",
    "print(\"Jumlah elemen list yang abis dibagi 3 :\",b)\n",
    "print(\"Selisih antara jumlah elemen listacak dengan jumlah elemen list3 : \", c)"
   ]
  },
  {
   "cell_type": "code",
   "execution_count": 41,
   "id": "b1811ca6-dc44-407e-b52b-699d237c5b84",
   "metadata": {},
   "outputs": [
    {
     "name": "stdout",
     "output_type": "stream",
     "text": [
      "Rata-rata:  39.2\n"
     ]
    }
   ],
   "source": [
    "#menemukan rata-rata aritmatika\n",
    "rata = sum(listacak) / len(listacak)\n",
    "print(\"Rata-rata: \",rata)"
   ]
  },
  {
   "cell_type": "markdown",
   "id": "a09eacde-bd00-46cb-be94-97ec60a21817",
   "metadata": {},
   "source": [
    "## Exercise week 3"
   ]
  },
  {
   "cell_type": "code",
   "execution_count": 50,
   "id": "23d48fe9-681e-49cb-b920-401b9bc1c8ab",
   "metadata": {},
   "outputs": [
    {
     "data": {
      "text/plain": [
       "[    0   1\n",
       " 0 NaN NaN,\n",
       "              0   1\n",
       " 0  DATA SENSUS NaN,\n",
       "     0         1   2          3\n",
       " 0 NaN  Facebook NaN  Instagram\n",
       " 1 NaN   Twitter NaN    Youtube,\n",
       "                 Provinsi  \\\n",
       "                 Provinsi   \n",
       "                 Provinsi   \n",
       " 0                   ACEH   \n",
       " 1         SUMATERA UTARA   \n",
       " 2         SUMATERA BARAT   \n",
       " 3                   RIAU   \n",
       " 4                  JAMBI   \n",
       " 5       SUMATERA SELATAN   \n",
       " 6               BENGKULU   \n",
       " 7                LAMPUNG   \n",
       " 8   KEP. BANGKA BELITUNG   \n",
       " 9              KEP. RIAU   \n",
       " 10           DKI JAKARTA   \n",
       " 11            JAWA BARAT   \n",
       " 12           JAWA TENGAH   \n",
       " 13         DI YOGYAKARTA   \n",
       " 14            JAWA TIMUR   \n",
       " 15                BANTEN   \n",
       " 16                  BALI   \n",
       " 17   NUSA TENGGARA BARAT   \n",
       " 18   NUSA TENGGARA TIMUR   \n",
       " 19      KALIMANTAN BARAT   \n",
       " 20     KALIMANTAN TENGAH   \n",
       " 21    KALIMANTAN SELATAN   \n",
       " 22      KALIMANTAN TIMUR   \n",
       " 23      KALIMANTAN UTARA   \n",
       " 24        SULAWESI UTARA   \n",
       " 25       SULAWESI TENGAH   \n",
       " 26      SULAWESI SELATAN   \n",
       " 27     SULAWESI TENGGARA   \n",
       " 28             GORONTALO   \n",
       " 29        SULAWESI BARAT   \n",
       " 30                MALUKU   \n",
       " 31          MALUKU UTARA   \n",
       " 32           PAPUA BARAT   \n",
       " 33                 PAPUA   \n",
       " 34             INDONESIA   \n",
       " \n",
       "    Banyaknya Desa/Kelurahan Menurut Jenis Bencana Alam dalam Tiga Tahun Terakhir (Desa)  \\\n",
       "                                                                           Tanah Longsor   \n",
       "                                                                                    2021   \n",
       " 0                                                 198                                     \n",
       " 1                                                 483                                     \n",
       " 2                                                 222                                     \n",
       " 3                                                  21                                     \n",
       " 4                                                  57                                     \n",
       " 5                                                 103                                     \n",
       " 6                                                  81                                     \n",
       " 7                                                  70                                     \n",
       " 8                                                   1                                     \n",
       " 9                                                  25                                     \n",
       " 10                                                  7                                     \n",
       " 11                                              1 288                                     \n",
       " 12                                              1 190                                     \n",
       " 13                                                 59                                     \n",
       " 14                                                511                                     \n",
       " 15                                                 96                                     \n",
       " 16                                                105                                     \n",
       " 17                                                 44                                     \n",
       " 18                                                610                                     \n",
       " 19                                                 66                                     \n",
       " 20                                                 24                                     \n",
       " 21                                                 74                                     \n",
       " 22                                                 74                                     \n",
       " 23                                                 42                                     \n",
       " 24                                                218                                     \n",
       " 25                                                133                                     \n",
       " 26                                                251                                     \n",
       " 27                                                 46                                     \n",
       " 28                                                 65                                     \n",
       " 29                                                144                                     \n",
       " 30                                                 58                                     \n",
       " 31                                                 80                                     \n",
       " 32                                                 72                                     \n",
       " 33                                                146                                     \n",
       " 34                                              6 664                                     \n",
       " \n",
       "                                                                     \\\n",
       "     Banjir Banjir Bandang Gempa Bumi Tsunami Gelombang Pasang Laut   \n",
       "       2021           2021       2021    2021                  2021   \n",
       " 0    1 435             81        493       2                   106   \n",
       " 1      732             52        964       4                    78   \n",
       " 2      342             65        364       0                    57   \n",
       " 3      455              1          0       0                    15   \n",
       " 4      476             17         36       0                     2   \n",
       " 5      380             36         49       0                     3   \n",
       " 6      171             15         66       0                    14   \n",
       " 7      328             23         47       0                    35   \n",
       " 8       59              0          0       0                    17   \n",
       " 9       61              1          0       0                    69   \n",
       " 10     109              0          1       0                     5   \n",
       " 11   1 193            100        601       0                    91   \n",
       " 12   1 249             69        114       0                   128   \n",
       " 13      50              1         52       0                    12   \n",
       " 14   1 176             96      2 449       4                    87   \n",
       " 15     419             41        158       1                    39   \n",
       " 16      39              5         79       0                    34   \n",
       " 17     187             54        100       0                    44   \n",
       " 18     570            151        246       0                   218   \n",
       " 19     864             22          0       0                    48   \n",
       " 20     735              9          0       0                    12   \n",
       " 21     929             31          0       0                    30   \n",
       " 22     343              5          6       0                     9   \n",
       " 23     200              0         18       0                     3   \n",
       " 24     288             37        349       0                    95   \n",
       " 25     567             57        556       0                   117   \n",
       " 26     620             52        272       0                    39   \n",
       " 27     240             10         43       0                    58   \n",
       " 28     259             24         95       0                    37   \n",
       " 29     125              7        498       0                    35   \n",
       " 30     153              2        106       0                   165   \n",
       " 31     270             20        589       0                   124   \n",
       " 32     138              0        318       0                    30   \n",
       " 33     204              9         57       0                    57   \n",
       " 34  15 366          1 093      8 726      11                 1 913   \n",
       " \n",
       "                                                                               \\\n",
       "    Angin Puyuh / Angin Puting Beliung / Topan Gunung Meletus Kebakaran Hutan   \n",
       "                                          2021           2021            2021   \n",
       " 0                                         108              1              43   \n",
       " 1                                         483             82              59   \n",
       " 2                                         248              0              18   \n",
       " 3                                          53              0             194   \n",
       " 4                                          44              0              16   \n",
       " 5                                          90              0              64   \n",
       " 6                                          17              0               4   \n",
       " 7                                         158              0              11   \n",
       " 8                                          77              0              14   \n",
       " 9                                          40              0              57   \n",
       " 10                                          0              0               1   \n",
       " 11                                        412              0              76   \n",
       " 12                                        619             26              49   \n",
       " 13                                         84              3               4   \n",
       " 14                                        486             74              50   \n",
       " 15                                        107              0               8   \n",
       " 16                                         46              0               8   \n",
       " 17                                         65              0              19   \n",
       " 18                                      1 219             54             144   \n",
       " 19                                         53              0             135   \n",
       " 20                                         16              0              66   \n",
       " 21                                         70              0              60   \n",
       " 22                                         26              0              52   \n",
       " 23                                          3              0              13   \n",
       " 24                                        107              0              25   \n",
       " 25                                         85              0              29   \n",
       " 26                                        293              0              22   \n",
       " 27                                        104              0              12   \n",
       " 28                                         34              0               9   \n",
       " 29                                         26              0               8   \n",
       " 30                                         54              0              26   \n",
       " 31                                         42              1              16   \n",
       " 32                                          6              0              12   \n",
       " 33                                         11              0              14   \n",
       " 34                                      5 286            241           1 338   \n",
       " \n",
       "                                       \n",
       "    Kekeringan Tidak Ada Bencana Alam  \n",
       "          2021                   2021  \n",
       " 0         173                  4 406  \n",
       " 1         127                  3 827  \n",
       " 2          43                    513  \n",
       " 3          51                  1 224  \n",
       " 4          16                  1 001  \n",
       " 5          98                  2 644  \n",
       " 6          19                  1 195  \n",
       " 7          30                  2 093  \n",
       " 8           0                    265  \n",
       " 9          27                    241  \n",
       " 10          0                    152  \n",
       " 11        442                  3 081  \n",
       " 12        278                  5 637  \n",
       " 13         31                    233  \n",
       " 14        156                  4 655  \n",
       " 15         77                    914  \n",
       " 16          2                    482  \n",
       " 17         88                    748  \n",
       " 18        454                  1 487  \n",
       " 19         75                  1 158  \n",
       " 20         37                    789  \n",
       " 21         35                    973  \n",
       " 22         32                    628  \n",
       " 23          6                    248  \n",
       " 24         24                  1 075  \n",
       " 25         42                    984  \n",
       " 26         60                  1 863  \n",
       " 27         16                  1 852  \n",
       " 28         57                    352  \n",
       " 29         22                    105  \n",
       " 30         26                    798  \n",
       " 31         12                    423  \n",
       " 32          5                  1 482  \n",
       " 33          9                  5 142  \n",
       " 34      2 570                 52 670  ]"
      ]
     },
     "execution_count": 50,
     "metadata": {},
     "output_type": "execute_result"
    }
   ],
   "source": [
    "#bagaimana menampilkan data dari HTML ke dataframe agar dapat ditampilkan sesuai dengan yang diinginkan?\n",
    "\n",
    "import pandas as pd\n",
    "\n",
    "url = 'https://www.bps.go.id/indicator/168/954/1/banyaknya-desa-kelurahan-menurut-jenis-bencana-alam-dalam-tiga-tahun-terakhir.html'\n",
    "df = pd.read_html(url)\n",
    "df"
   ]
  },
  {
   "cell_type": "code",
   "execution_count": 57,
   "id": "b060e0f9-4311-46da-9c9c-59d5c1df7def",
   "metadata": {},
   "outputs": [
    {
     "name": "stdout",
     "output_type": "stream",
     "text": [
      "Collecting PyPDF2\n",
      "  Downloading pypdf2-3.0.1-py3-none-any.whl (232 kB)\n",
      "Collecting typing_extensions>=3.10.0.0\n",
      "  Downloading typing_extensions-4.5.0-py3-none-any.whl (27 kB)\n",
      "Installing collected packages: typing-extensions, PyPDF2\n",
      "  Attempting uninstall: typing-extensions\n",
      "    Found existing installation: typing-extensions 3.7.4.3\n",
      "    Uninstalling typing-extensions-3.7.4.3:\n",
      "      Successfully uninstalled typing-extensions-3.7.4.3\n",
      "Successfully installed PyPDF2-3.0.1 typing-extensions-4.5.0\n"
     ]
    }
   ],
   "source": [
    " # install PyPDF2\n",
    "!pip install PyPDF2"
   ]
  },
  {
   "cell_type": "code",
   "execution_count": 61,
   "id": "3e896953-22ab-49e9-b42b-74e0489f0b6d",
   "metadata": {},
   "outputs": [
    {
     "name": "stdout",
     "output_type": "stream",
     "text": [
      "2\n",
      "DATA SEBARAN BANJIR\n",
      "NO DESA KECAMATAN KETINGGIAN BANJIR JUMLAH KK JIWA YANG TERDAMPAK\n",
      "1Pulau Limbung Sungai Raya 80cm 775 2365\n",
      "2Muara Baru Sungai Raya 80cm 145 513\n",
      "3Pulau Jambu sungai raya 80cm 280 884\n",
      "4Gunung Tamang sungai raya 80cm 559 1986\n",
      "5Kali Bandung Sungai Raya 80cm 203 589\n",
      "6Sungai Asam Sungai Raya 80cm 770 3277\n",
      "8Betuah Terentang 80cm 262 1187\n",
      "9Teluk Bayur Terentang 80cm 250 618\n",
      "10 permata Terentang 80cm 247 627\n",
      "11 Teluk Empening Terentang 80cm 202 677\n",
      "12 Radak Satu Terentang 80cm 300 1202\n",
      "13 Radak dua Terentang 80cm 130 425\n",
      "14 Terentang Hilir Terentang 80cm 145 513\n",
      "15 Radak Baru Terentang 80cm 197 630\n",
      "17 Tanjung Beringin Batu Ampar 70cm 220 660\n",
      "18 Medan Mas Batu Ampar 70cm 150 423\n"
     ]
    }
   ],
   "source": [
    "# importing all the required modules\n",
    "import PyPDF2\n",
    "\n",
    "# creating a pdf reader object\n",
    "reader = PyPDF2.PdfReader(r'C:\\Users\\shaff\\Downloads\\data-banjir-2021-di-wilayah-kubu-raya.pdf')\n",
    "\n",
    "# print the number of pages in pdf file\n",
    "print(len(reader.pages))\n",
    "\n",
    "# print the text of the first page\n",
    "print(reader.pages[0].extract_text())"
   ]
  }
 ],
 "metadata": {
  "kernelspec": {
   "display_name": "Python 3",
   "language": "python",
   "name": "python3"
  },
  "language_info": {
   "codemirror_mode": {
    "name": "ipython",
    "version": 3
   },
   "file_extension": ".py",
   "mimetype": "text/x-python",
   "name": "python",
   "nbconvert_exporter": "python",
   "pygments_lexer": "ipython3",
   "version": "3.8.8"
  }
 },
 "nbformat": 4,
 "nbformat_minor": 5
}
