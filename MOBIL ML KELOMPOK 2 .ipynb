{
 "cells": [
  {
   "cell_type": "markdown",
   "id": "8f3b3fe1-652b-4ebd-a0c1-e4be09f8784a",
   "metadata": {},
   "source": [
    "Step 1 : Load the data set and storing it in data-frame (Retrieving Dataset) \n",
    "======================="
   ]
  },
  {
   "cell_type": "code",
   "execution_count": 1,
   "id": "25cfa7bd-350b-488b-ba31-b71c73b4e2e2",
   "metadata": {},
   "outputs": [],
   "source": [
    "### Reading the Data\n",
    "# import library python\n",
    "import pandas as pd\n",
    "import numpy as np\n",
    "import matplotlib.pyplot as plt\n",
    "import seaborn as sns\n",
    "import csv\n",
    "import warnings\n",
    "warnings.filterwarnings(\"ignore\")\n",
    "from datetime import datetime, timedelta"
   ]
  },
  {
   "cell_type": "code",
   "execution_count": 2,
   "id": "a41516f2-364d-4687-8362-a596f385e429",
   "metadata": {},
   "outputs": [
    {
     "data": {
      "text/html": [
       "<div>\n",
       "<style scoped>\n",
       "    .dataframe tbody tr th:only-of-type {\n",
       "        vertical-align: middle;\n",
       "    }\n",
       "\n",
       "    .dataframe tbody tr th {\n",
       "        vertical-align: top;\n",
       "    }\n",
       "\n",
       "    .dataframe thead th {\n",
       "        text-align: right;\n",
       "    }\n",
       "</style>\n",
       "<table border=\"1\" class=\"dataframe\">\n",
       "  <thead>\n",
       "    <tr style=\"text-align: right;\">\n",
       "      <th></th>\n",
       "      <th>car_ID</th>\n",
       "      <th>symboling</th>\n",
       "      <th>CarName</th>\n",
       "      <th>fueltype</th>\n",
       "      <th>aspiration</th>\n",
       "      <th>doornumber</th>\n",
       "      <th>carbody</th>\n",
       "      <th>drivewheel</th>\n",
       "      <th>enginelocation</th>\n",
       "      <th>wheelbase</th>\n",
       "      <th>...</th>\n",
       "      <th>enginesize</th>\n",
       "      <th>fueisystem</th>\n",
       "      <th>boreratio</th>\n",
       "      <th>stroke</th>\n",
       "      <th>compressionratio</th>\n",
       "      <th>horsepower</th>\n",
       "      <th>peakrpm</th>\n",
       "      <th>citympg</th>\n",
       "      <th>highwaympg</th>\n",
       "      <th>price</th>\n",
       "    </tr>\n",
       "  </thead>\n",
       "  <tbody>\n",
       "    <tr>\n",
       "      <th>0</th>\n",
       "      <td>3</td>\n",
       "      <td>NaN</td>\n",
       "      <td>alfa-romero</td>\n",
       "      <td>gas</td>\n",
       "      <td>std</td>\n",
       "      <td>two</td>\n",
       "      <td>convertible</td>\n",
       "      <td>rwd</td>\n",
       "      <td>front</td>\n",
       "      <td>88.6</td>\n",
       "      <td>...</td>\n",
       "      <td>130</td>\n",
       "      <td>mpfi</td>\n",
       "      <td>3.47</td>\n",
       "      <td>2.68</td>\n",
       "      <td>9.0</td>\n",
       "      <td>111.0</td>\n",
       "      <td>5000.0</td>\n",
       "      <td>21</td>\n",
       "      <td>27</td>\n",
       "      <td>13495.0</td>\n",
       "    </tr>\n",
       "    <tr>\n",
       "      <th>1</th>\n",
       "      <td>3</td>\n",
       "      <td>NaN</td>\n",
       "      <td>alfa-romero</td>\n",
       "      <td>gas</td>\n",
       "      <td>std</td>\n",
       "      <td>two</td>\n",
       "      <td>convertible</td>\n",
       "      <td>rwd</td>\n",
       "      <td>front</td>\n",
       "      <td>88.6</td>\n",
       "      <td>...</td>\n",
       "      <td>130</td>\n",
       "      <td>mpfi</td>\n",
       "      <td>3.47</td>\n",
       "      <td>2.68</td>\n",
       "      <td>9.0</td>\n",
       "      <td>111.0</td>\n",
       "      <td>5000.0</td>\n",
       "      <td>21</td>\n",
       "      <td>27</td>\n",
       "      <td>16500.0</td>\n",
       "    </tr>\n",
       "    <tr>\n",
       "      <th>2</th>\n",
       "      <td>1</td>\n",
       "      <td>NaN</td>\n",
       "      <td>alfa-romero</td>\n",
       "      <td>gas</td>\n",
       "      <td>std</td>\n",
       "      <td>two</td>\n",
       "      <td>hatchback</td>\n",
       "      <td>rwd</td>\n",
       "      <td>front</td>\n",
       "      <td>94.5</td>\n",
       "      <td>...</td>\n",
       "      <td>152</td>\n",
       "      <td>mpfi</td>\n",
       "      <td>2.68</td>\n",
       "      <td>3.47</td>\n",
       "      <td>9.0</td>\n",
       "      <td>154.0</td>\n",
       "      <td>5000.0</td>\n",
       "      <td>19</td>\n",
       "      <td>26</td>\n",
       "      <td>16500.0</td>\n",
       "    </tr>\n",
       "    <tr>\n",
       "      <th>3</th>\n",
       "      <td>2</td>\n",
       "      <td>164.0</td>\n",
       "      <td>audi</td>\n",
       "      <td>gas</td>\n",
       "      <td>std</td>\n",
       "      <td>four</td>\n",
       "      <td>sedan</td>\n",
       "      <td>fwd</td>\n",
       "      <td>front</td>\n",
       "      <td>99.8</td>\n",
       "      <td>...</td>\n",
       "      <td>109</td>\n",
       "      <td>mpfi</td>\n",
       "      <td>3.19</td>\n",
       "      <td>3.40</td>\n",
       "      <td>10.0</td>\n",
       "      <td>102.0</td>\n",
       "      <td>5500.0</td>\n",
       "      <td>24</td>\n",
       "      <td>30</td>\n",
       "      <td>13950.0</td>\n",
       "    </tr>\n",
       "    <tr>\n",
       "      <th>4</th>\n",
       "      <td>2</td>\n",
       "      <td>164.0</td>\n",
       "      <td>audi</td>\n",
       "      <td>gas</td>\n",
       "      <td>std</td>\n",
       "      <td>four</td>\n",
       "      <td>sedan</td>\n",
       "      <td>4wd</td>\n",
       "      <td>front</td>\n",
       "      <td>99.4</td>\n",
       "      <td>...</td>\n",
       "      <td>136</td>\n",
       "      <td>mpfi</td>\n",
       "      <td>3.19</td>\n",
       "      <td>3.40</td>\n",
       "      <td>8.0</td>\n",
       "      <td>115.0</td>\n",
       "      <td>5500.0</td>\n",
       "      <td>18</td>\n",
       "      <td>22</td>\n",
       "      <td>17450.0</td>\n",
       "    </tr>\n",
       "    <tr>\n",
       "      <th>...</th>\n",
       "      <td>...</td>\n",
       "      <td>...</td>\n",
       "      <td>...</td>\n",
       "      <td>...</td>\n",
       "      <td>...</td>\n",
       "      <td>...</td>\n",
       "      <td>...</td>\n",
       "      <td>...</td>\n",
       "      <td>...</td>\n",
       "      <td>...</td>\n",
       "      <td>...</td>\n",
       "      <td>...</td>\n",
       "      <td>...</td>\n",
       "      <td>...</td>\n",
       "      <td>...</td>\n",
       "      <td>...</td>\n",
       "      <td>...</td>\n",
       "      <td>...</td>\n",
       "      <td>...</td>\n",
       "      <td>...</td>\n",
       "      <td>...</td>\n",
       "    </tr>\n",
       "    <tr>\n",
       "      <th>200</th>\n",
       "      <td>-1</td>\n",
       "      <td>95.0</td>\n",
       "      <td>volvo</td>\n",
       "      <td>gas</td>\n",
       "      <td>std</td>\n",
       "      <td>four</td>\n",
       "      <td>sedan</td>\n",
       "      <td>rwd</td>\n",
       "      <td>front</td>\n",
       "      <td>109.1</td>\n",
       "      <td>...</td>\n",
       "      <td>141</td>\n",
       "      <td>mpfi</td>\n",
       "      <td>3.78</td>\n",
       "      <td>3.15</td>\n",
       "      <td>9.5</td>\n",
       "      <td>114.0</td>\n",
       "      <td>5400.0</td>\n",
       "      <td>23</td>\n",
       "      <td>28</td>\n",
       "      <td>16845.0</td>\n",
       "    </tr>\n",
       "    <tr>\n",
       "      <th>201</th>\n",
       "      <td>-1</td>\n",
       "      <td>95.0</td>\n",
       "      <td>volvo</td>\n",
       "      <td>gas</td>\n",
       "      <td>turbo</td>\n",
       "      <td>four</td>\n",
       "      <td>sedan</td>\n",
       "      <td>rwd</td>\n",
       "      <td>front</td>\n",
       "      <td>109.1</td>\n",
       "      <td>...</td>\n",
       "      <td>141</td>\n",
       "      <td>mpfi</td>\n",
       "      <td>3.78</td>\n",
       "      <td>3.15</td>\n",
       "      <td>8.7</td>\n",
       "      <td>160.0</td>\n",
       "      <td>5300.0</td>\n",
       "      <td>19</td>\n",
       "      <td>25</td>\n",
       "      <td>19045.0</td>\n",
       "    </tr>\n",
       "    <tr>\n",
       "      <th>202</th>\n",
       "      <td>-1</td>\n",
       "      <td>95.0</td>\n",
       "      <td>volvo</td>\n",
       "      <td>gas</td>\n",
       "      <td>std</td>\n",
       "      <td>four</td>\n",
       "      <td>sedan</td>\n",
       "      <td>rwd</td>\n",
       "      <td>front</td>\n",
       "      <td>109.1</td>\n",
       "      <td>...</td>\n",
       "      <td>173</td>\n",
       "      <td>mpfi</td>\n",
       "      <td>3.58</td>\n",
       "      <td>2.87</td>\n",
       "      <td>8.8</td>\n",
       "      <td>134.0</td>\n",
       "      <td>5500.0</td>\n",
       "      <td>18</td>\n",
       "      <td>23</td>\n",
       "      <td>21485.0</td>\n",
       "    </tr>\n",
       "    <tr>\n",
       "      <th>203</th>\n",
       "      <td>-1</td>\n",
       "      <td>95.0</td>\n",
       "      <td>volvo</td>\n",
       "      <td>diesel</td>\n",
       "      <td>turbo</td>\n",
       "      <td>four</td>\n",
       "      <td>sedan</td>\n",
       "      <td>rwd</td>\n",
       "      <td>front</td>\n",
       "      <td>109.1</td>\n",
       "      <td>...</td>\n",
       "      <td>145</td>\n",
       "      <td>idi</td>\n",
       "      <td>3.01</td>\n",
       "      <td>3.40</td>\n",
       "      <td>23.0</td>\n",
       "      <td>106.0</td>\n",
       "      <td>4800.0</td>\n",
       "      <td>26</td>\n",
       "      <td>27</td>\n",
       "      <td>22470.0</td>\n",
       "    </tr>\n",
       "    <tr>\n",
       "      <th>204</th>\n",
       "      <td>-1</td>\n",
       "      <td>95.0</td>\n",
       "      <td>volvo</td>\n",
       "      <td>gas</td>\n",
       "      <td>turbo</td>\n",
       "      <td>four</td>\n",
       "      <td>sedan</td>\n",
       "      <td>rwd</td>\n",
       "      <td>front</td>\n",
       "      <td>109.1</td>\n",
       "      <td>...</td>\n",
       "      <td>141</td>\n",
       "      <td>mpfi</td>\n",
       "      <td>3.78</td>\n",
       "      <td>3.15</td>\n",
       "      <td>9.5</td>\n",
       "      <td>114.0</td>\n",
       "      <td>5400.0</td>\n",
       "      <td>19</td>\n",
       "      <td>25</td>\n",
       "      <td>22625.0</td>\n",
       "    </tr>\n",
       "  </tbody>\n",
       "</table>\n",
       "<p>205 rows × 26 columns</p>\n",
       "</div>"
      ],
      "text/plain": [
       "     car_ID  symboling      CarName fueltype aspiration doornumber  \\\n",
       "0         3        NaN  alfa-romero      gas        std        two   \n",
       "1         3        NaN  alfa-romero      gas        std        two   \n",
       "2         1        NaN  alfa-romero      gas        std        two   \n",
       "3         2      164.0         audi      gas        std       four   \n",
       "4         2      164.0         audi      gas        std       four   \n",
       "..      ...        ...          ...      ...        ...        ...   \n",
       "200      -1       95.0        volvo      gas        std       four   \n",
       "201      -1       95.0        volvo      gas      turbo       four   \n",
       "202      -1       95.0        volvo      gas        std       four   \n",
       "203      -1       95.0        volvo   diesel      turbo       four   \n",
       "204      -1       95.0        volvo      gas      turbo       four   \n",
       "\n",
       "         carbody drivewheel enginelocation  wheelbase  ...  enginesize  \\\n",
       "0    convertible        rwd          front       88.6  ...         130   \n",
       "1    convertible        rwd          front       88.6  ...         130   \n",
       "2      hatchback        rwd          front       94.5  ...         152   \n",
       "3          sedan        fwd          front       99.8  ...         109   \n",
       "4          sedan        4wd          front       99.4  ...         136   \n",
       "..           ...        ...            ...        ...  ...         ...   \n",
       "200        sedan        rwd          front      109.1  ...         141   \n",
       "201        sedan        rwd          front      109.1  ...         141   \n",
       "202        sedan        rwd          front      109.1  ...         173   \n",
       "203        sedan        rwd          front      109.1  ...         145   \n",
       "204        sedan        rwd          front      109.1  ...         141   \n",
       "\n",
       "     fueisystem  boreratio  stroke compressionratio horsepower  peakrpm  \\\n",
       "0          mpfi       3.47    2.68              9.0      111.0   5000.0   \n",
       "1          mpfi       3.47    2.68              9.0      111.0   5000.0   \n",
       "2          mpfi       2.68    3.47              9.0      154.0   5000.0   \n",
       "3          mpfi       3.19    3.40             10.0      102.0   5500.0   \n",
       "4          mpfi       3.19    3.40              8.0      115.0   5500.0   \n",
       "..          ...        ...     ...              ...        ...      ...   \n",
       "200        mpfi       3.78    3.15              9.5      114.0   5400.0   \n",
       "201        mpfi       3.78    3.15              8.7      160.0   5300.0   \n",
       "202        mpfi       3.58    2.87              8.8      134.0   5500.0   \n",
       "203         idi       3.01    3.40             23.0      106.0   4800.0   \n",
       "204        mpfi       3.78    3.15              9.5      114.0   5400.0   \n",
       "\n",
       "    citympg  highwaympg    price  \n",
       "0        21          27  13495.0  \n",
       "1        21          27  16500.0  \n",
       "2        19          26  16500.0  \n",
       "3        24          30  13950.0  \n",
       "4        18          22  17450.0  \n",
       "..      ...         ...      ...  \n",
       "200      23          28  16845.0  \n",
       "201      19          25  19045.0  \n",
       "202      18          23  21485.0  \n",
       "203      26          27  22470.0  \n",
       "204      19          25  22625.0  \n",
       "\n",
       "[205 rows x 26 columns]"
      ]
     },
     "execution_count": 2,
     "metadata": {},
     "output_type": "execute_result"
    }
   ],
   "source": [
    "# read csv file\n",
    "df = pd.read_csv('CarPrice.csv')\n",
    "df"
   ]
  },
  {
   "cell_type": "code",
   "execution_count": 4,
   "id": "e6528c9a-ad1e-405a-b867-852c64075d34",
   "metadata": {},
   "outputs": [
    {
     "data": {
      "text/html": [
       "<div>\n",
       "<style scoped>\n",
       "    .dataframe tbody tr th:only-of-type {\n",
       "        vertical-align: middle;\n",
       "    }\n",
       "\n",
       "    .dataframe tbody tr th {\n",
       "        vertical-align: top;\n",
       "    }\n",
       "\n",
       "    .dataframe thead th {\n",
       "        text-align: right;\n",
       "    }\n",
       "</style>\n",
       "<table border=\"1\" class=\"dataframe\">\n",
       "  <thead>\n",
       "    <tr style=\"text-align: right;\">\n",
       "      <th></th>\n",
       "      <th>car_ID</th>\n",
       "      <th>symboling</th>\n",
       "      <th>CarName</th>\n",
       "      <th>fueltype</th>\n",
       "      <th>aspiration</th>\n",
       "      <th>doornumber</th>\n",
       "      <th>carbody</th>\n",
       "      <th>drivewheel</th>\n",
       "      <th>enginelocation</th>\n",
       "      <th>wheelbase</th>\n",
       "      <th>...</th>\n",
       "      <th>enginesize</th>\n",
       "      <th>fueisystem</th>\n",
       "      <th>boreratio</th>\n",
       "      <th>stroke</th>\n",
       "      <th>compressionratio</th>\n",
       "      <th>horsepower</th>\n",
       "      <th>peakrpm</th>\n",
       "      <th>citympg</th>\n",
       "      <th>highwaympg</th>\n",
       "      <th>price</th>\n",
       "    </tr>\n",
       "  </thead>\n",
       "  <tbody>\n",
       "    <tr>\n",
       "      <th>0</th>\n",
       "      <td>3</td>\n",
       "      <td>NaN</td>\n",
       "      <td>alfa-romero</td>\n",
       "      <td>gas</td>\n",
       "      <td>std</td>\n",
       "      <td>two</td>\n",
       "      <td>convertible</td>\n",
       "      <td>rwd</td>\n",
       "      <td>front</td>\n",
       "      <td>88.6</td>\n",
       "      <td>...</td>\n",
       "      <td>130</td>\n",
       "      <td>mpfi</td>\n",
       "      <td>3.47</td>\n",
       "      <td>2.68</td>\n",
       "      <td>9.0</td>\n",
       "      <td>111.0</td>\n",
       "      <td>5000.0</td>\n",
       "      <td>21</td>\n",
       "      <td>27</td>\n",
       "      <td>13495.0</td>\n",
       "    </tr>\n",
       "    <tr>\n",
       "      <th>1</th>\n",
       "      <td>3</td>\n",
       "      <td>NaN</td>\n",
       "      <td>alfa-romero</td>\n",
       "      <td>gas</td>\n",
       "      <td>std</td>\n",
       "      <td>two</td>\n",
       "      <td>convertible</td>\n",
       "      <td>rwd</td>\n",
       "      <td>front</td>\n",
       "      <td>88.6</td>\n",
       "      <td>...</td>\n",
       "      <td>130</td>\n",
       "      <td>mpfi</td>\n",
       "      <td>3.47</td>\n",
       "      <td>2.68</td>\n",
       "      <td>9.0</td>\n",
       "      <td>111.0</td>\n",
       "      <td>5000.0</td>\n",
       "      <td>21</td>\n",
       "      <td>27</td>\n",
       "      <td>16500.0</td>\n",
       "    </tr>\n",
       "    <tr>\n",
       "      <th>2</th>\n",
       "      <td>1</td>\n",
       "      <td>NaN</td>\n",
       "      <td>alfa-romero</td>\n",
       "      <td>gas</td>\n",
       "      <td>std</td>\n",
       "      <td>two</td>\n",
       "      <td>hatchback</td>\n",
       "      <td>rwd</td>\n",
       "      <td>front</td>\n",
       "      <td>94.5</td>\n",
       "      <td>...</td>\n",
       "      <td>152</td>\n",
       "      <td>mpfi</td>\n",
       "      <td>2.68</td>\n",
       "      <td>3.47</td>\n",
       "      <td>9.0</td>\n",
       "      <td>154.0</td>\n",
       "      <td>5000.0</td>\n",
       "      <td>19</td>\n",
       "      <td>26</td>\n",
       "      <td>16500.0</td>\n",
       "    </tr>\n",
       "    <tr>\n",
       "      <th>3</th>\n",
       "      <td>2</td>\n",
       "      <td>164.0</td>\n",
       "      <td>audi</td>\n",
       "      <td>gas</td>\n",
       "      <td>std</td>\n",
       "      <td>four</td>\n",
       "      <td>sedan</td>\n",
       "      <td>fwd</td>\n",
       "      <td>front</td>\n",
       "      <td>99.8</td>\n",
       "      <td>...</td>\n",
       "      <td>109</td>\n",
       "      <td>mpfi</td>\n",
       "      <td>3.19</td>\n",
       "      <td>3.40</td>\n",
       "      <td>10.0</td>\n",
       "      <td>102.0</td>\n",
       "      <td>5500.0</td>\n",
       "      <td>24</td>\n",
       "      <td>30</td>\n",
       "      <td>13950.0</td>\n",
       "    </tr>\n",
       "    <tr>\n",
       "      <th>4</th>\n",
       "      <td>2</td>\n",
       "      <td>164.0</td>\n",
       "      <td>audi</td>\n",
       "      <td>gas</td>\n",
       "      <td>std</td>\n",
       "      <td>four</td>\n",
       "      <td>sedan</td>\n",
       "      <td>4wd</td>\n",
       "      <td>front</td>\n",
       "      <td>99.4</td>\n",
       "      <td>...</td>\n",
       "      <td>136</td>\n",
       "      <td>mpfi</td>\n",
       "      <td>3.19</td>\n",
       "      <td>3.40</td>\n",
       "      <td>8.0</td>\n",
       "      <td>115.0</td>\n",
       "      <td>5500.0</td>\n",
       "      <td>18</td>\n",
       "      <td>22</td>\n",
       "      <td>17450.0</td>\n",
       "    </tr>\n",
       "  </tbody>\n",
       "</table>\n",
       "<p>5 rows × 26 columns</p>\n",
       "</div>"
      ],
      "text/plain": [
       "   car_ID  symboling      CarName fueltype aspiration doornumber      carbody  \\\n",
       "0       3        NaN  alfa-romero      gas        std        two  convertible   \n",
       "1       3        NaN  alfa-romero      gas        std        two  convertible   \n",
       "2       1        NaN  alfa-romero      gas        std        two    hatchback   \n",
       "3       2      164.0         audi      gas        std       four        sedan   \n",
       "4       2      164.0         audi      gas        std       four        sedan   \n",
       "\n",
       "  drivewheel enginelocation  wheelbase  ...  enginesize  fueisystem  \\\n",
       "0        rwd          front       88.6  ...         130        mpfi   \n",
       "1        rwd          front       88.6  ...         130        mpfi   \n",
       "2        rwd          front       94.5  ...         152        mpfi   \n",
       "3        fwd          front       99.8  ...         109        mpfi   \n",
       "4        4wd          front       99.4  ...         136        mpfi   \n",
       "\n",
       "   boreratio  stroke compressionratio horsepower  peakrpm citympg  highwaympg  \\\n",
       "0       3.47    2.68              9.0      111.0   5000.0      21          27   \n",
       "1       3.47    2.68              9.0      111.0   5000.0      21          27   \n",
       "2       2.68    3.47              9.0      154.0   5000.0      19          26   \n",
       "3       3.19    3.40             10.0      102.0   5500.0      24          30   \n",
       "4       3.19    3.40              8.0      115.0   5500.0      18          22   \n",
       "\n",
       "     price  \n",
       "0  13495.0  \n",
       "1  16500.0  \n",
       "2  16500.0  \n",
       "3  13950.0  \n",
       "4  17450.0  \n",
       "\n",
       "[5 rows x 26 columns]"
      ]
     },
     "execution_count": 4,
     "metadata": {},
     "output_type": "execute_result"
    }
   ],
   "source": [
    "df.head()"
   ]
  },
  {
   "cell_type": "code",
   "execution_count": 5,
   "id": "f2b59142-d98e-401c-aee4-31dc4671c4ba",
   "metadata": {},
   "outputs": [
    {
     "data": {
      "text/plain": [
       "(205, 26)"
      ]
     },
     "execution_count": 5,
     "metadata": {},
     "output_type": "execute_result"
    }
   ],
   "source": [
    "# shape of the data\n",
    "df.shape"
   ]
  },
  {
   "cell_type": "code",
   "execution_count": 6,
   "id": "2827da51-c373-4dce-b1be-56f444bd4ddf",
   "metadata": {},
   "outputs": [
    {
     "name": "stdout",
     "output_type": "stream",
     "text": [
      "<class 'pandas.core.frame.DataFrame'>\n",
      "RangeIndex: 205 entries, 0 to 204\n",
      "Data columns (total 26 columns):\n",
      " #   Column            Non-Null Count  Dtype  \n",
      "---  ------            --------------  -----  \n",
      " 0   car_ID            205 non-null    int64  \n",
      " 1   symboling         164 non-null    float64\n",
      " 2   CarName           205 non-null    object \n",
      " 3   fueltype          205 non-null    object \n",
      " 4   aspiration        205 non-null    object \n",
      " 5   doornumber        205 non-null    object \n",
      " 6   carbody           205 non-null    object \n",
      " 7   drivewheel        205 non-null    object \n",
      " 8   enginelocation    205 non-null    object \n",
      " 9   wheelbase         205 non-null    float64\n",
      " 10  carlength         205 non-null    float64\n",
      " 11  carwidth          205 non-null    float64\n",
      " 12  carheight         205 non-null    float64\n",
      " 13  curbweight        205 non-null    int64  \n",
      " 14  enginetype        205 non-null    object \n",
      " 15  cylindernumber    205 non-null    object \n",
      " 16  enginesize        205 non-null    int64  \n",
      " 17  fueisystem        205 non-null    object \n",
      " 18  boreratio         201 non-null    float64\n",
      " 19  stroke            201 non-null    float64\n",
      " 20  compressionratio  205 non-null    float64\n",
      " 21  horsepower        203 non-null    float64\n",
      " 22  peakrpm           203 non-null    float64\n",
      " 23  citympg           205 non-null    int64  \n",
      " 24  highwaympg        205 non-null    int64  \n",
      " 25  price             201 non-null    float64\n",
      "dtypes: float64(11), int64(5), object(10)\n",
      "memory usage: 41.8+ KB\n"
     ]
    }
   ],
   "source": [
    "# information of the data\n",
    "df.info()"
   ]
  },
  {
   "cell_type": "code",
   "execution_count": 7,
   "id": "73f2a1a4-b64b-48c1-b826-53e39f6f39f7",
   "metadata": {},
   "outputs": [
    {
     "data": {
      "text/html": [
       "<div>\n",
       "<style scoped>\n",
       "    .dataframe tbody tr th:only-of-type {\n",
       "        vertical-align: middle;\n",
       "    }\n",
       "\n",
       "    .dataframe tbody tr th {\n",
       "        vertical-align: top;\n",
       "    }\n",
       "\n",
       "    .dataframe thead th {\n",
       "        text-align: right;\n",
       "    }\n",
       "</style>\n",
       "<table border=\"1\" class=\"dataframe\">\n",
       "  <thead>\n",
       "    <tr style=\"text-align: right;\">\n",
       "      <th></th>\n",
       "      <th>car_ID</th>\n",
       "      <th>symboling</th>\n",
       "      <th>wheelbase</th>\n",
       "      <th>carlength</th>\n",
       "      <th>carwidth</th>\n",
       "      <th>carheight</th>\n",
       "      <th>curbweight</th>\n",
       "      <th>enginesize</th>\n",
       "      <th>boreratio</th>\n",
       "      <th>stroke</th>\n",
       "      <th>compressionratio</th>\n",
       "      <th>horsepower</th>\n",
       "      <th>peakrpm</th>\n",
       "      <th>citympg</th>\n",
       "      <th>highwaympg</th>\n",
       "      <th>price</th>\n",
       "    </tr>\n",
       "  </thead>\n",
       "  <tbody>\n",
       "    <tr>\n",
       "      <th>count</th>\n",
       "      <td>205.000000</td>\n",
       "      <td>164.000000</td>\n",
       "      <td>205.000000</td>\n",
       "      <td>205.000000</td>\n",
       "      <td>205.000000</td>\n",
       "      <td>205.000000</td>\n",
       "      <td>205.000000</td>\n",
       "      <td>205.000000</td>\n",
       "      <td>201.000000</td>\n",
       "      <td>201.000000</td>\n",
       "      <td>205.000000</td>\n",
       "      <td>203.000000</td>\n",
       "      <td>203.000000</td>\n",
       "      <td>205.000000</td>\n",
       "      <td>205.000000</td>\n",
       "      <td>201.000000</td>\n",
       "    </tr>\n",
       "    <tr>\n",
       "      <th>mean</th>\n",
       "      <td>0.834146</td>\n",
       "      <td>122.000000</td>\n",
       "      <td>98.756585</td>\n",
       "      <td>174.049268</td>\n",
       "      <td>65.907805</td>\n",
       "      <td>53.724878</td>\n",
       "      <td>2555.565854</td>\n",
       "      <td>126.907317</td>\n",
       "      <td>3.329751</td>\n",
       "      <td>3.255423</td>\n",
       "      <td>10.142537</td>\n",
       "      <td>104.256158</td>\n",
       "      <td>5125.369458</td>\n",
       "      <td>25.219512</td>\n",
       "      <td>30.751220</td>\n",
       "      <td>13207.129353</td>\n",
       "    </tr>\n",
       "    <tr>\n",
       "      <th>std</th>\n",
       "      <td>1.245307</td>\n",
       "      <td>35.442168</td>\n",
       "      <td>6.021776</td>\n",
       "      <td>12.337289</td>\n",
       "      <td>2.145204</td>\n",
       "      <td>2.443522</td>\n",
       "      <td>520.680204</td>\n",
       "      <td>41.642693</td>\n",
       "      <td>0.273539</td>\n",
       "      <td>0.316717</td>\n",
       "      <td>3.972040</td>\n",
       "      <td>39.714369</td>\n",
       "      <td>479.334560</td>\n",
       "      <td>6.542142</td>\n",
       "      <td>6.886443</td>\n",
       "      <td>7947.066342</td>\n",
       "    </tr>\n",
       "    <tr>\n",
       "      <th>min</th>\n",
       "      <td>-2.000000</td>\n",
       "      <td>65.000000</td>\n",
       "      <td>86.600000</td>\n",
       "      <td>141.100000</td>\n",
       "      <td>60.300000</td>\n",
       "      <td>47.800000</td>\n",
       "      <td>1488.000000</td>\n",
       "      <td>61.000000</td>\n",
       "      <td>2.540000</td>\n",
       "      <td>2.070000</td>\n",
       "      <td>7.000000</td>\n",
       "      <td>48.000000</td>\n",
       "      <td>4150.000000</td>\n",
       "      <td>13.000000</td>\n",
       "      <td>16.000000</td>\n",
       "      <td>5118.000000</td>\n",
       "    </tr>\n",
       "    <tr>\n",
       "      <th>25%</th>\n",
       "      <td>0.000000</td>\n",
       "      <td>94.000000</td>\n",
       "      <td>94.500000</td>\n",
       "      <td>166.300000</td>\n",
       "      <td>64.100000</td>\n",
       "      <td>52.000000</td>\n",
       "      <td>2145.000000</td>\n",
       "      <td>97.000000</td>\n",
       "      <td>3.150000</td>\n",
       "      <td>3.110000</td>\n",
       "      <td>8.600000</td>\n",
       "      <td>70.000000</td>\n",
       "      <td>4800.000000</td>\n",
       "      <td>19.000000</td>\n",
       "      <td>25.000000</td>\n",
       "      <td>7775.000000</td>\n",
       "    </tr>\n",
       "    <tr>\n",
       "      <th>50%</th>\n",
       "      <td>1.000000</td>\n",
       "      <td>115.000000</td>\n",
       "      <td>97.000000</td>\n",
       "      <td>173.200000</td>\n",
       "      <td>65.500000</td>\n",
       "      <td>54.100000</td>\n",
       "      <td>2414.000000</td>\n",
       "      <td>120.000000</td>\n",
       "      <td>3.310000</td>\n",
       "      <td>3.290000</td>\n",
       "      <td>9.000000</td>\n",
       "      <td>95.000000</td>\n",
       "      <td>5200.000000</td>\n",
       "      <td>24.000000</td>\n",
       "      <td>30.000000</td>\n",
       "      <td>10295.000000</td>\n",
       "    </tr>\n",
       "    <tr>\n",
       "      <th>75%</th>\n",
       "      <td>2.000000</td>\n",
       "      <td>150.000000</td>\n",
       "      <td>102.400000</td>\n",
       "      <td>183.100000</td>\n",
       "      <td>66.900000</td>\n",
       "      <td>55.500000</td>\n",
       "      <td>2935.000000</td>\n",
       "      <td>141.000000</td>\n",
       "      <td>3.590000</td>\n",
       "      <td>3.410000</td>\n",
       "      <td>9.400000</td>\n",
       "      <td>116.000000</td>\n",
       "      <td>5500.000000</td>\n",
       "      <td>30.000000</td>\n",
       "      <td>34.000000</td>\n",
       "      <td>16500.000000</td>\n",
       "    </tr>\n",
       "    <tr>\n",
       "      <th>max</th>\n",
       "      <td>3.000000</td>\n",
       "      <td>256.000000</td>\n",
       "      <td>120.900000</td>\n",
       "      <td>208.100000</td>\n",
       "      <td>72.300000</td>\n",
       "      <td>59.800000</td>\n",
       "      <td>4066.000000</td>\n",
       "      <td>326.000000</td>\n",
       "      <td>3.940000</td>\n",
       "      <td>4.170000</td>\n",
       "      <td>23.000000</td>\n",
       "      <td>288.000000</td>\n",
       "      <td>6600.000000</td>\n",
       "      <td>49.000000</td>\n",
       "      <td>54.000000</td>\n",
       "      <td>45400.000000</td>\n",
       "    </tr>\n",
       "  </tbody>\n",
       "</table>\n",
       "</div>"
      ],
      "text/plain": [
       "           car_ID   symboling   wheelbase   carlength    carwidth   carheight  \\\n",
       "count  205.000000  164.000000  205.000000  205.000000  205.000000  205.000000   \n",
       "mean     0.834146  122.000000   98.756585  174.049268   65.907805   53.724878   \n",
       "std      1.245307   35.442168    6.021776   12.337289    2.145204    2.443522   \n",
       "min     -2.000000   65.000000   86.600000  141.100000   60.300000   47.800000   \n",
       "25%      0.000000   94.000000   94.500000  166.300000   64.100000   52.000000   \n",
       "50%      1.000000  115.000000   97.000000  173.200000   65.500000   54.100000   \n",
       "75%      2.000000  150.000000  102.400000  183.100000   66.900000   55.500000   \n",
       "max      3.000000  256.000000  120.900000  208.100000   72.300000   59.800000   \n",
       "\n",
       "        curbweight  enginesize   boreratio      stroke  compressionratio  \\\n",
       "count   205.000000  205.000000  201.000000  201.000000        205.000000   \n",
       "mean   2555.565854  126.907317    3.329751    3.255423         10.142537   \n",
       "std     520.680204   41.642693    0.273539    0.316717          3.972040   \n",
       "min    1488.000000   61.000000    2.540000    2.070000          7.000000   \n",
       "25%    2145.000000   97.000000    3.150000    3.110000          8.600000   \n",
       "50%    2414.000000  120.000000    3.310000    3.290000          9.000000   \n",
       "75%    2935.000000  141.000000    3.590000    3.410000          9.400000   \n",
       "max    4066.000000  326.000000    3.940000    4.170000         23.000000   \n",
       "\n",
       "       horsepower      peakrpm     citympg  highwaympg         price  \n",
       "count  203.000000   203.000000  205.000000  205.000000    201.000000  \n",
       "mean   104.256158  5125.369458   25.219512   30.751220  13207.129353  \n",
       "std     39.714369   479.334560    6.542142    6.886443   7947.066342  \n",
       "min     48.000000  4150.000000   13.000000   16.000000   5118.000000  \n",
       "25%     70.000000  4800.000000   19.000000   25.000000   7775.000000  \n",
       "50%     95.000000  5200.000000   24.000000   30.000000  10295.000000  \n",
       "75%    116.000000  5500.000000   30.000000   34.000000  16500.000000  \n",
       "max    288.000000  6600.000000   49.000000   54.000000  45400.000000  "
      ]
     },
     "execution_count": 7,
     "metadata": {},
     "output_type": "execute_result"
    }
   ],
   "source": [
    "# description of the data\n",
    "df.describe()"
   ]
  },
  {
   "cell_type": "markdown",
   "id": "a4131f0b-4fab-402c-a7ec-edf161fb3a6e",
   "metadata": {},
   "source": [
    "Step 2 : Cek dan Atasi Missing Value\n",
    "======================="
   ]
  },
  {
   "cell_type": "code",
   "execution_count": 8,
   "id": "5f6eaf23-0a59-410b-ad54-6b3a737fd1bb",
   "metadata": {},
   "outputs": [
    {
     "data": {
      "text/plain": [
       "car_ID               0\n",
       "symboling           41\n",
       "CarName              0\n",
       "fueltype             0\n",
       "aspiration           0\n",
       "doornumber           0\n",
       "carbody              0\n",
       "drivewheel           0\n",
       "enginelocation       0\n",
       "wheelbase            0\n",
       "carlength            0\n",
       "carwidth             0\n",
       "carheight            0\n",
       "curbweight           0\n",
       "enginetype           0\n",
       "cylindernumber       0\n",
       "enginesize           0\n",
       "fueisystem           0\n",
       "boreratio            4\n",
       "stroke               4\n",
       "compressionratio     0\n",
       "horsepower           2\n",
       "peakrpm              2\n",
       "citympg              0\n",
       "highwaympg           0\n",
       "price                4\n",
       "dtype: int64"
      ]
     },
     "execution_count": 8,
     "metadata": {},
     "output_type": "execute_result"
    }
   ],
   "source": [
    "# Cek jumlah data yang kosong(null value)\n",
    "df.isnull().sum()\n",
    "#sehingga langkah berikutnya adalah kami mengatasi missing value atau data kosong tersebut"
   ]
  },
  {
   "cell_type": "code",
   "execution_count": 9,
   "id": "65967767-a8f3-4d33-b6e0-c93aeef7aee9",
   "metadata": {},
   "outputs": [
    {
     "data": {
      "text/html": [
       "<div>\n",
       "<style scoped>\n",
       "    .dataframe tbody tr th:only-of-type {\n",
       "        vertical-align: middle;\n",
       "    }\n",
       "\n",
       "    .dataframe tbody tr th {\n",
       "        vertical-align: top;\n",
       "    }\n",
       "\n",
       "    .dataframe thead th {\n",
       "        text-align: right;\n",
       "    }\n",
       "</style>\n",
       "<table border=\"1\" class=\"dataframe\">\n",
       "  <thead>\n",
       "    <tr style=\"text-align: right;\">\n",
       "      <th></th>\n",
       "      <th>Total</th>\n",
       "      <th>Percent</th>\n",
       "    </tr>\n",
       "  </thead>\n",
       "  <tbody>\n",
       "    <tr>\n",
       "      <th>symboling</th>\n",
       "      <td>41</td>\n",
       "      <td>0.200000</td>\n",
       "    </tr>\n",
       "    <tr>\n",
       "      <th>price</th>\n",
       "      <td>4</td>\n",
       "      <td>0.019512</td>\n",
       "    </tr>\n",
       "    <tr>\n",
       "      <th>stroke</th>\n",
       "      <td>4</td>\n",
       "      <td>0.019512</td>\n",
       "    </tr>\n",
       "    <tr>\n",
       "      <th>boreratio</th>\n",
       "      <td>4</td>\n",
       "      <td>0.019512</td>\n",
       "    </tr>\n",
       "    <tr>\n",
       "      <th>peakrpm</th>\n",
       "      <td>2</td>\n",
       "      <td>0.009756</td>\n",
       "    </tr>\n",
       "    <tr>\n",
       "      <th>horsepower</th>\n",
       "      <td>2</td>\n",
       "      <td>0.009756</td>\n",
       "    </tr>\n",
       "    <tr>\n",
       "      <th>highwaympg</th>\n",
       "      <td>0</td>\n",
       "      <td>0.000000</td>\n",
       "    </tr>\n",
       "    <tr>\n",
       "      <th>citympg</th>\n",
       "      <td>0</td>\n",
       "      <td>0.000000</td>\n",
       "    </tr>\n",
       "    <tr>\n",
       "      <th>compressionratio</th>\n",
       "      <td>0</td>\n",
       "      <td>0.000000</td>\n",
       "    </tr>\n",
       "    <tr>\n",
       "      <th>fueisystem</th>\n",
       "      <td>0</td>\n",
       "      <td>0.000000</td>\n",
       "    </tr>\n",
       "    <tr>\n",
       "      <th>enginesize</th>\n",
       "      <td>0</td>\n",
       "      <td>0.000000</td>\n",
       "    </tr>\n",
       "    <tr>\n",
       "      <th>cylindernumber</th>\n",
       "      <td>0</td>\n",
       "      <td>0.000000</td>\n",
       "    </tr>\n",
       "    <tr>\n",
       "      <th>enginetype</th>\n",
       "      <td>0</td>\n",
       "      <td>0.000000</td>\n",
       "    </tr>\n",
       "    <tr>\n",
       "      <th>car_ID</th>\n",
       "      <td>0</td>\n",
       "      <td>0.000000</td>\n",
       "    </tr>\n",
       "    <tr>\n",
       "      <th>carheight</th>\n",
       "      <td>0</td>\n",
       "      <td>0.000000</td>\n",
       "    </tr>\n",
       "    <tr>\n",
       "      <th>carwidth</th>\n",
       "      <td>0</td>\n",
       "      <td>0.000000</td>\n",
       "    </tr>\n",
       "    <tr>\n",
       "      <th>carlength</th>\n",
       "      <td>0</td>\n",
       "      <td>0.000000</td>\n",
       "    </tr>\n",
       "    <tr>\n",
       "      <th>wheelbase</th>\n",
       "      <td>0</td>\n",
       "      <td>0.000000</td>\n",
       "    </tr>\n",
       "    <tr>\n",
       "      <th>enginelocation</th>\n",
       "      <td>0</td>\n",
       "      <td>0.000000</td>\n",
       "    </tr>\n",
       "    <tr>\n",
       "      <th>drivewheel</th>\n",
       "      <td>0</td>\n",
       "      <td>0.000000</td>\n",
       "    </tr>\n",
       "    <tr>\n",
       "      <th>carbody</th>\n",
       "      <td>0</td>\n",
       "      <td>0.000000</td>\n",
       "    </tr>\n",
       "    <tr>\n",
       "      <th>doornumber</th>\n",
       "      <td>0</td>\n",
       "      <td>0.000000</td>\n",
       "    </tr>\n",
       "    <tr>\n",
       "      <th>aspiration</th>\n",
       "      <td>0</td>\n",
       "      <td>0.000000</td>\n",
       "    </tr>\n",
       "    <tr>\n",
       "      <th>fueltype</th>\n",
       "      <td>0</td>\n",
       "      <td>0.000000</td>\n",
       "    </tr>\n",
       "    <tr>\n",
       "      <th>CarName</th>\n",
       "      <td>0</td>\n",
       "      <td>0.000000</td>\n",
       "    </tr>\n",
       "    <tr>\n",
       "      <th>curbweight</th>\n",
       "      <td>0</td>\n",
       "      <td>0.000000</td>\n",
       "    </tr>\n",
       "  </tbody>\n",
       "</table>\n",
       "</div>"
      ],
      "text/plain": [
       "                  Total   Percent\n",
       "symboling            41  0.200000\n",
       "price                 4  0.019512\n",
       "stroke                4  0.019512\n",
       "boreratio             4  0.019512\n",
       "peakrpm               2  0.009756\n",
       "horsepower            2  0.009756\n",
       "highwaympg            0  0.000000\n",
       "citympg               0  0.000000\n",
       "compressionratio      0  0.000000\n",
       "fueisystem            0  0.000000\n",
       "enginesize            0  0.000000\n",
       "cylindernumber        0  0.000000\n",
       "enginetype            0  0.000000\n",
       "car_ID                0  0.000000\n",
       "carheight             0  0.000000\n",
       "carwidth              0  0.000000\n",
       "carlength             0  0.000000\n",
       "wheelbase             0  0.000000\n",
       "enginelocation        0  0.000000\n",
       "drivewheel            0  0.000000\n",
       "carbody               0  0.000000\n",
       "doornumber            0  0.000000\n",
       "aspiration            0  0.000000\n",
       "fueltype              0  0.000000\n",
       "CarName               0  0.000000\n",
       "curbweight            0  0.000000"
      ]
     },
     "execution_count": 9,
     "metadata": {},
     "output_type": "execute_result"
    }
   ],
   "source": [
    "# agar lebih jelas dan fair cek data kosong dengan persentase  \n",
    "total = df.isnull().sum().sort_values(ascending=False)\n",
    "percent = (df.isnull().sum()/df.isnull().count()).sort_values(ascending=False)\n",
    "missing_data = pd.concat([total, percent], axis=1, keys=['Total', 'Percent'])\n",
    "missing_datatotal = df.isnull().sum().sort_values(ascending=False)\n",
    "percent = (df.isnull().sum()/df.isnull().count()).sort_values(ascending=False)\n",
    "missing_data = pd.concat([total, percent], axis=1, keys=['Total', 'Percent'])\n",
    "missing_data"
   ]
  },
  {
   "cell_type": "code",
   "execution_count": 10,
   "id": "839f9a2d-d275-4023-9aac-239c1b895cf0",
   "metadata": {},
   "outputs": [],
   "source": [
    "# Drop missing value rows using dropna() function\n",
    "# Atasi missing value dengan drop\n",
    "dfdrop = df.dropna(subset=[\"price\",\"stroke\", 'boreratio','peakrpm', 'horsepower'])"
   ]
  },
  {
   "cell_type": "code",
   "execution_count": 11,
   "id": "7c65a861-f980-48bd-b463-08f43d1108f4",
   "metadata": {},
   "outputs": [
    {
     "data": {
      "text/plain": [
       "car_ID               0\n",
       "symboling           35\n",
       "CarName              0\n",
       "fueltype             0\n",
       "aspiration           0\n",
       "doornumber           0\n",
       "carbody              0\n",
       "drivewheel           0\n",
       "enginelocation       0\n",
       "wheelbase            0\n",
       "carlength            0\n",
       "carwidth             0\n",
       "carheight            0\n",
       "curbweight           0\n",
       "enginetype           0\n",
       "cylindernumber       0\n",
       "enginesize           0\n",
       "fueisystem           0\n",
       "boreratio            0\n",
       "stroke               0\n",
       "compressionratio     0\n",
       "horsepower           0\n",
       "peakrpm              0\n",
       "citympg              0\n",
       "highwaympg           0\n",
       "price                0\n",
       "dtype: int64"
      ]
     },
     "execution_count": 11,
     "metadata": {},
     "output_type": "execute_result"
    }
   ],
   "source": [
    "dfdrop.isnull().sum()"
   ]
  },
  {
   "cell_type": "code",
   "execution_count": 12,
   "id": "a7903c6c-c314-47ce-a94d-6424abc053c5",
   "metadata": {},
   "outputs": [],
   "source": [
    "# Atasi missing value dengan fillna (kolom__year_resale_value), \n",
    "# karena memiliki jumlah data dengan data kosong terbanyak\n",
    "dfdrop['symboling']=dfdrop.symboling.fillna(df.symboling.mean())"
   ]
  },
  {
   "cell_type": "code",
   "execution_count": 13,
   "id": "48aef5f7-6ec2-4a34-910a-4ff66d76ecba",
   "metadata": {},
   "outputs": [
    {
     "data": {
      "text/plain": [
       "car_ID              0\n",
       "symboling           0\n",
       "CarName             0\n",
       "fueltype            0\n",
       "aspiration          0\n",
       "doornumber          0\n",
       "carbody             0\n",
       "drivewheel          0\n",
       "enginelocation      0\n",
       "wheelbase           0\n",
       "carlength           0\n",
       "carwidth            0\n",
       "carheight           0\n",
       "curbweight          0\n",
       "enginetype          0\n",
       "cylindernumber      0\n",
       "enginesize          0\n",
       "fueisystem          0\n",
       "boreratio           0\n",
       "stroke              0\n",
       "compressionratio    0\n",
       "horsepower          0\n",
       "peakrpm             0\n",
       "citympg             0\n",
       "highwaympg          0\n",
       "price               0\n",
       "dtype: int64"
      ]
     },
     "execution_count": 13,
     "metadata": {},
     "output_type": "execute_result"
    }
   ],
   "source": [
    "dfdrop.isnull().sum()"
   ]
  },
  {
   "cell_type": "code",
   "execution_count": 14,
   "id": "d5a0af7b-36be-46fa-87f9-3fa95dfeeba2",
   "metadata": {},
   "outputs": [
    {
     "data": {
      "text/html": [
       "<div>\n",
       "<style scoped>\n",
       "    .dataframe tbody tr th:only-of-type {\n",
       "        vertical-align: middle;\n",
       "    }\n",
       "\n",
       "    .dataframe tbody tr th {\n",
       "        vertical-align: top;\n",
       "    }\n",
       "\n",
       "    .dataframe thead th {\n",
       "        text-align: right;\n",
       "    }\n",
       "</style>\n",
       "<table border=\"1\" class=\"dataframe\">\n",
       "  <thead>\n",
       "    <tr style=\"text-align: right;\">\n",
       "      <th></th>\n",
       "      <th>car_ID</th>\n",
       "      <th>symboling</th>\n",
       "      <th>CarName</th>\n",
       "      <th>fueltype</th>\n",
       "      <th>aspiration</th>\n",
       "      <th>doornumber</th>\n",
       "      <th>carbody</th>\n",
       "      <th>drivewheel</th>\n",
       "      <th>enginelocation</th>\n",
       "      <th>wheelbase</th>\n",
       "      <th>...</th>\n",
       "      <th>enginesize</th>\n",
       "      <th>fueisystem</th>\n",
       "      <th>boreratio</th>\n",
       "      <th>stroke</th>\n",
       "      <th>compressionratio</th>\n",
       "      <th>horsepower</th>\n",
       "      <th>peakrpm</th>\n",
       "      <th>citympg</th>\n",
       "      <th>highwaympg</th>\n",
       "      <th>price</th>\n",
       "    </tr>\n",
       "  </thead>\n",
       "  <tbody>\n",
       "  </tbody>\n",
       "</table>\n",
       "<p>0 rows × 26 columns</p>\n",
       "</div>"
      ],
      "text/plain": [
       "Empty DataFrame\n",
       "Columns: [car_ID, symboling, CarName, fueltype, aspiration, doornumber, carbody, drivewheel, enginelocation, wheelbase, carlength, carwidth, carheight, curbweight, enginetype, cylindernumber, enginesize, fueisystem, boreratio, stroke, compressionratio, horsepower, peakrpm, citympg, highwaympg, price]\n",
       "Index: []\n",
       "\n",
       "[0 rows x 26 columns]"
      ]
     },
     "execution_count": 14,
     "metadata": {},
     "output_type": "execute_result"
    }
   ],
   "source": [
    "# checking for duplicates\n",
    "dfdrop.loc[dfdrop.duplicated()]"
   ]
  },
  {
   "cell_type": "markdown",
   "id": "021d410a-0462-40f8-97d1-d48a1ce67815",
   "metadata": {},
   "source": [
    "Step 3 : Visualisasi data\n",
    "======================="
   ]
  },
  {
   "cell_type": "code",
   "execution_count": 15,
   "id": "f77c33f9-4da8-4273-8ea8-e043b6ca1b6e",
   "metadata": {},
   "outputs": [
    {
     "data": {
      "text/plain": [
       "Text(0, 0.5, 'Count of Cars')"
      ]
     },
     "execution_count": 15,
     "metadata": {},
     "output_type": "execute_result"
    },
    {
     "data": {
      "image/png": "[encoded data removed]",
      "text/plain": [
       "<Figure size 1080x576 with 1 Axes>"
      ]
     },
     "metadata": {
      "needs_background": "light"
     },
     "output_type": "display_data"
    }
   ],
   "source": [
    "# Visualizing the different car names available\n",
    "\n",
    "plt.rcParams['figure.figsize'] = [15,8]\n",
    "ax=dfdrop['CarName'].value_counts().plot(kind='bar',stacked=True, colormap = 'plasma')\n",
    "ax.title.set_text('CarName')\n",
    "plt.xlabel(\"Names of the Car\",fontweight = 'bold')\n",
    "plt.ylabel(\"Count of Cars\",fontweight = 'bold')"
   ]
  },
  {
   "cell_type": "code",
   "execution_count": 16,
   "id": "be1624c2-ca70-4144-9f86-48de77284860",
   "metadata": {},
   "outputs": [
    {
     "data": {
      "text/plain": [
       "<AxesSubplot:title={'center':'Car Price Distribution Plot'}, xlabel='price', ylabel='Density'>"
      ]
     },
     "execution_count": 16,
     "metadata": {},
     "output_type": "execute_result"
    },
    {
     "data": {
      "image/png": "[encoded data removed]",
      "text/plain": [
       "<Figure size 576x576 with 1 Axes>"
      ]
     },
     "metadata": {
      "needs_background": "light"
     },
     "output_type": "display_data"
    }
   ],
   "source": [
    "# Mengetahui distribusi harga mobil \n",
    "plt.figure(figsize=(8,8))\n",
    "\n",
    "plt.title('Car Price Distribution Plot')\n",
    "sns.distplot(dfdrop['price'])"
   ]
  },
  {
   "cell_type": "code",
   "execution_count": 17,
   "id": "0af964b6-c278-4c02-a0f5-6db1274ff8a1",
   "metadata": {},
   "outputs": [
    {
     "data": {
      "text/plain": [
       "[Text(0.5, 0, 'Number of cylinders'),\n",
       " Text(0, 0.5, 'Frequency of Number of cylinders')]"
      ]
     },
     "execution_count": 17,
     "metadata": {},
     "output_type": "execute_result"
    },
    {
     "data": {
      "image/png": "[encoded data removed]",
      "text/plain": [
       "<Figure size 1800x432 with 1 Axes>"
      ]
     },
     "metadata": {
      "needs_background": "light"
     },
     "output_type": "display_data"
    }
   ],
   "source": [
    "# Mengetahui berapa banyak mobil berdasrkan mesin silinder\n",
    "plt.figure(figsize=(25, 6))\n",
    "\n",
    "plt.subplot(1,3,1)\n",
    "plt1 = dfdrop['cylindernumber'].value_counts().plot(kind='bar',colormap = 'PiYG')\n",
    "plt.title('Number of cylinders')\n",
    "plt1.set(xlabel = 'Number of cylinders', ylabel='Frequency of Number of cylinders')"
   ]
  },
  {
   "cell_type": "code",
   "execution_count": 18,
   "id": "ab63388f-6157-4718-84cf-d9529e86e1be",
   "metadata": {},
   "outputs": [
    {
     "data": {
      "text/plain": [
       "[Text(0.5, 0, 'Fuel Type'), Text(0, 0.5, 'Frequency of Fuel type')]"
      ]
     },
     "execution_count": 18,
     "metadata": {},
     "output_type": "execute_result"
    },
    {
     "data": {
      "image/png": "[encoded data removed]",
      "text/plain": [
       "<Figure size 1080x576 with 1 Axes>"
      ]
     },
     "metadata": {
      "needs_background": "light"
     },
     "output_type": "display_data"
    }
   ],
   "source": [
    "# Mengetahui berapa banyak mobil berdasarkan bahan bakar\n",
    "plt.subplot(1,3,2)\n",
    "plt1 = dfdrop['fueltype'].value_counts().plot(kind = 'bar',colormap = 'PiYG')\n",
    "plt.title('Fuel Type')\n",
    "plt1.set(xlabel = 'Fuel Type', ylabel='Frequency of Fuel type')\n"
   ]
  },
  {
   "cell_type": "code",
   "execution_count": 19,
   "id": "a77e4449-2348-43a5-a72e-7943acca5596",
   "metadata": {},
   "outputs": [
    {
     "data": {
      "text/plain": [
       "[Text(0.5, 0, 'Car Body'), Text(0, 0.5, 'Frequency of Car Body')]"
      ]
     },
     "execution_count": 19,
     "metadata": {},
     "output_type": "execute_result"
    },
    {
     "data": {
      "image/png": "[encoded data removed]",
      "text/plain": [
       "<Figure size 1080x576 with 1 Axes>"
      ]
     },
     "metadata": {
      "needs_background": "light"
     },
     "output_type": "display_data"
    }
   ],
   "source": [
    "# Mengetahu banyaknya mobil berdasarkan carbody \n",
    "plt.subplot(1,3,3)\n",
    "plt1 = dfdrop['carbody'].value_counts().plot(kind = 'bar',colormap = 'Set2')\n",
    "plt.title('Car body')\n",
    "plt1.set(xlabel = 'Car Body', ylabel='Frequency of Car Body')"
   ]
  },
  {
   "cell_type": "code",
   "execution_count": 20,
   "id": "2237b8d1-db2a-4443-b598-5c7ba1abe838",
   "metadata": {},
   "outputs": [
    {
     "data": {
      "image/png": "[encoded data removed]",
      "text/plain": [
       "<Figure size 1440x576 with 2 Axes>"
      ]
     },
     "metadata": {
      "needs_background": "light"
     },
     "output_type": "display_data"
    }
   ],
   "source": [
    "# Mengetahui jumlah mobil berdasarkan jenis atau tipe mesin\n",
    "plt.figure(figsize=(20,8))\n",
    "\n",
    "plt.subplot(1,2,1)\n",
    "plt.title('Engine Type Histogram')\n",
    "sns.countplot(dfdrop.enginetype, palette=(\"Dark2\"))\n",
    "\n",
    "plt.subplot(1,2,2)\n",
    "plt.title('Engine Type vs Price')\n",
    "sns.boxplot(x=dfdrop.enginetype, y=dfdrop.price, palette=(\"BrBG\"))\n",
    "\n",
    "plt.show()"
   ]
  },
  {
   "cell_type": "code",
   "execution_count": 21,
   "id": "76ca2f39-8a04-4974-84bd-2911ec2c573b",
   "metadata": {},
   "outputs": [
    {
     "data": {
      "image/png": "[encoded data removed]",
      "text/plain": [
       "<Figure size 576x432 with 1 Axes>"
      ]
     },
     "metadata": {
      "needs_background": "light"
     },
     "output_type": "display_data"
    }
   ],
   "source": [
    "# Mengetahui harga mobil berdasarkan engine type \n",
    "df1 = pd.DataFrame(dfdrop.groupby(['enginetype'])['price'].mean().sort_values(ascending = False))\n",
    "df1.plot.bar(figsize=(8,6), colormap = \"Set1\")\n",
    "plt.title('Engine Type vs Average Price')\n",
    "plt.show()"
   ]
  },
  {
   "cell_type": "code",
   "execution_count": 22,
   "id": "ed7aaba1-1590-4a21-9a4e-cedf6b835050",
   "metadata": {},
   "outputs": [
    {
     "data": {
      "text/plain": [
       "<Figure size 1800x432 with 0 Axes>"
      ]
     },
     "metadata": {},
     "output_type": "display_data"
    },
    {
     "data": {
      "image/png": "[encoded data removed]",
      "text/plain": [
       "<Figure size 1080x576 with 1 Axes>"
      ]
     },
     "metadata": {
      "needs_background": "light"
     },
     "output_type": "display_data"
    },
    {
     "data": {
      "image/png": "[encoded data removed]",
      "text/plain": [
       "<Figure size 1080x576 with 1 Axes>"
      ]
     },
     "metadata": {
      "needs_background": "light"
     },
     "output_type": "display_data"
    },
    {
     "data": {
      "image/png": "[encoded data removed]",
      "text/plain": [
       "<Figure size 1080x576 with 1 Axes>"
      ]
     },
     "metadata": {
      "needs_background": "light"
     },
     "output_type": "display_data"
    }
   ],
   "source": [
    "plt.figure(figsize=(25, 6))\n",
    "\n",
    "df2 = pd.DataFrame(dfdrop.groupby(['CarName'])['price'].mean().sort_values(ascending = False))\n",
    "df2.plot.bar(colormap = 'Set2')\n",
    "plt.title('Car Name vs Average Price')\n",
    "plt.show()\n",
    "\n",
    "df3 = pd.DataFrame(dfdrop.groupby(['fueltype'])['price'].mean().sort_values(ascending = False))\n",
    "df3.plot.bar(colormap = 'Set1')\n",
    "plt.title('Fuel Type vs Average Price')\n",
    "plt.show()\n",
    "\n",
    "df4 = pd.DataFrame(dfdrop.groupby(['carbody'])['price'].mean().sort_values(ascending = False))\n",
    "df4.plot.bar()\n",
    "plt.title('Car Type vs Average Price')\n",
    "plt.show()"
   ]
  },
  {
   "cell_type": "code",
   "execution_count": 22,
   "id": "31b6ad78-62f8-4954-93fe-ebb23f30c375",
   "metadata": {},
   "outputs": [
    {
     "data": {
      "image/png": "[encoded data removed]",
      "text/plain": [
       "<Figure size 1080x360 with 2 Axes>"
      ]
     },
     "metadata": {
      "needs_background": "light"
     },
     "output_type": "display_data"
    },
    {
     "data": {
      "image/png": "[encoded data removed]",
      "text/plain": [
       "<Figure size 1080x360 with 2 Axes>"
      ]
     },
     "metadata": {
      "needs_background": "light"
     },
     "output_type": "display_data"
    }
   ],
   "source": [
    "plt.figure(figsize=(15,5))\n",
    "\n",
    "plt.subplot(1,2,1)\n",
    "plt.title('Door Number Histogram')\n",
    "sns.countplot(dfdrop.doornumber, palette=(\"plasma\"))\n",
    "\n",
    "plt.subplot(1,2,2)\n",
    "plt.title('Door Number vs Price')\n",
    "sns.boxplot(x=dfdrop.doornumber, y=dfdrop.price, palette=(\"plasma\"))\n",
    "\n",
    "plt.show()\n",
    "\n",
    "plt.figure(figsize=(15,5))\n",
    "\n",
    "plt.subplot(1,2,1)\n",
    "plt.title('Aspiration Histogram')\n",
    "sns.countplot(dfdrop.aspiration, palette=(\"plasma\"))\n",
    "\n",
    "plt.subplot(1,2,2)\n",
    "plt.title('Aspiration vs Price')\n",
    "sns.boxplot(x=dfdrop.aspiration, y=dfdrop.price, palette=(\"plasma\"))\n",
    "\n",
    "plt.show()"
   ]
  },
  {
   "cell_type": "code",
   "execution_count": 23,
   "id": "d8431b1c-067f-4887-abaf-cee6cc11164e",
   "metadata": {},
   "outputs": [
    {
     "data": {
      "image/png": "[encoded data removed]",
      "text/plain": [
       "<Figure size 1080x1440 with 8 Axes>"
      ]
     },
     "metadata": {
      "needs_background": "light"
     },
     "output_type": "display_data"
    }
   ],
   "source": [
    "def plot_count(x,fig):\n",
    "    plt.subplot(4,2,fig)\n",
    "    plt.title(x+' Histogram')\n",
    "    sns.countplot(dfdrop[x],palette=(\"magma\"))\n",
    "    plt.subplot(4,2,(fig+1))\n",
    "    plt.title(x+' vs Price')\n",
    "    sns.boxplot(x=dfdrop[x], y=dfdrop.price, palette=(\"magma\"))\n",
    "    \n",
    "plt.figure(figsize=(15,20))\n",
    "\n",
    "plot_count('enginelocation', 1)\n",
    "plot_count('cylindernumber', 3)\n",
    "plot_count('fueltype', 5)\n",
    "plot_count('drivewheel', 7)\n",
    "\n",
    "plt.tight_layout()"
   ]
  },
  {
   "cell_type": "code",
   "execution_count": 24,
   "id": "55a29b2b-b74d-4015-a71d-cca1a5bc7679",
   "metadata": {},
   "outputs": [
    {
     "data": {
      "text/plain": [
       "<Figure size 1800x432 with 0 Axes>"
      ]
     },
     "metadata": {},
     "output_type": "display_data"
    },
    {
     "data": {
      "image/png": "[encoded data removed]",
      "text/plain": [
       "<Figure size 1080x576 with 1 Axes>"
      ]
     },
     "metadata": {
      "needs_background": "light"
     },
     "output_type": "display_data"
    }
   ],
   "source": [
    "plt.figure(figsize=(25, 6))\n",
    "\n",
    "df5 = pd.DataFrame(dfdrop.groupby(['drivewheel'])['price'].mean().sort_values(ascending = False))\n",
    "df5.plot.bar(colormap = 'plasma')\n",
    "plt.title('Drive Wheel vs Average Price')\n",
    "plt.show()"
   ]
  },
  {
   "cell_type": "code",
   "execution_count": 25,
   "id": "5e0fb559-83ae-434d-a890-8ccb298d704e",
   "metadata": {},
   "outputs": [
    {
     "data": {
      "image/png": "[encoded data removed]",
      "text/plain": [
       "<Figure size 720x1440 with 4 Axes>"
      ]
     },
     "metadata": {
      "needs_background": "light"
     },
     "output_type": "display_data"
    }
   ],
   "source": [
    "def scatter(x,fig):\n",
    "    plt.subplot(5,2,fig)\n",
    "    plt.scatter(dfdrop[x],dfdrop['price'])\n",
    "    plt.title(x+' vs Price')\n",
    "    plt.ylabel('Price')\n",
    "    plt.xlabel(x)\n",
    "\n",
    "plt.figure(figsize=(10,20))\n",
    "\n",
    "scatter('carlength', 1)\n",
    "scatter('carwidth', 2)\n",
    "scatter('carheight', 3)\n",
    "scatter('curbweight', 4)\n",
    "\n",
    "plt.tight_layout()"
   ]
  },
  {
   "cell_type": "code",
   "execution_count": 26,
   "id": "b763953b-2d1e-4d26-896e-4f07dadcb3e9",
   "metadata": {},
   "outputs": [
    {
     "data": {
      "image/png": "[encoded data removed]",
      "text/plain": [
       "<Figure size 864x288 with 3 Axes>"
      ]
     },
     "metadata": {
      "needs_background": "light"
     },
     "output_type": "display_data"
    },
    {
     "data": {
      "image/png": "[encoded data removed]",
      "text/plain": [
       "<Figure size 864x288 with 3 Axes>"
      ]
     },
     "metadata": {
      "needs_background": "light"
     },
     "output_type": "display_data"
    },
    {
     "data": {
      "image/png": "[encoded data removed]",
      "text/plain": [
       "<Figure size 864x288 with 3 Axes>"
      ]
     },
     "metadata": {
      "needs_background": "light"
     },
     "output_type": "display_data"
    }
   ],
   "source": [
    "def pp(x,y,z):\n",
    "    sns.pairplot(dfdrop, x_vars=[x,y,z], y_vars='price',size=4, aspect=1, kind='scatter')\n",
    "    plt.show()\n",
    "\n",
    "pp('enginesize', 'boreratio', 'stroke')\n",
    "pp('compressionratio', 'horsepower', 'peakrpm')\n",
    "pp('wheelbase', 'citympg', 'highwaympg')"
   ]
  },
  {
   "cell_type": "markdown",
   "id": "013b6eec-c96c-4df7-b308-0075cb7231f6",
   "metadata": {},
   "source": [
    "Step 4 : Preparation data\n",
    "======================="
   ]
  },
  {
   "cell_type": "code",
   "execution_count": 23,
   "id": "ff9f4863-cad6-4a26-9683-8ff1c20708f6",
   "metadata": {},
   "outputs": [
    {
     "data": {
      "text/html": [
       "<div>\n",
       "<style scoped>\n",
       "    .dataframe tbody tr th:only-of-type {\n",
       "        vertical-align: middle;\n",
       "    }\n",
       "\n",
       "    .dataframe tbody tr th {\n",
       "        vertical-align: top;\n",
       "    }\n",
       "\n",
       "    .dataframe thead th {\n",
       "        text-align: right;\n",
       "    }\n",
       "</style>\n",
       "<table border=\"1\" class=\"dataframe\">\n",
       "  <thead>\n",
       "    <tr style=\"text-align: right;\">\n",
       "      <th></th>\n",
       "      <th>car_ID</th>\n",
       "      <th>symboling</th>\n",
       "      <th>CarName</th>\n",
       "      <th>fueltype</th>\n",
       "      <th>aspiration</th>\n",
       "      <th>doornumber</th>\n",
       "      <th>carbody</th>\n",
       "      <th>drivewheel</th>\n",
       "      <th>enginelocation</th>\n",
       "      <th>wheelbase</th>\n",
       "      <th>...</th>\n",
       "      <th>fueisystem</th>\n",
       "      <th>boreratio</th>\n",
       "      <th>stroke</th>\n",
       "      <th>compressionratio</th>\n",
       "      <th>horsepower</th>\n",
       "      <th>peakrpm</th>\n",
       "      <th>citympg</th>\n",
       "      <th>highwaympg</th>\n",
       "      <th>price</th>\n",
       "      <th>Car_category</th>\n",
       "    </tr>\n",
       "  </thead>\n",
       "  <tbody>\n",
       "    <tr>\n",
       "      <th>0</th>\n",
       "      <td>3</td>\n",
       "      <td>122.0</td>\n",
       "      <td>alfa-romero</td>\n",
       "      <td>gas</td>\n",
       "      <td>std</td>\n",
       "      <td>two</td>\n",
       "      <td>convertible</td>\n",
       "      <td>rwd</td>\n",
       "      <td>front</td>\n",
       "      <td>88.6</td>\n",
       "      <td>...</td>\n",
       "      <td>mpfi</td>\n",
       "      <td>3.47</td>\n",
       "      <td>2.68</td>\n",
       "      <td>9.0</td>\n",
       "      <td>111.0</td>\n",
       "      <td>5000.0</td>\n",
       "      <td>21</td>\n",
       "      <td>27</td>\n",
       "      <td>13495</td>\n",
       "      <td>Medium</td>\n",
       "    </tr>\n",
       "    <tr>\n",
       "      <th>1</th>\n",
       "      <td>3</td>\n",
       "      <td>122.0</td>\n",
       "      <td>alfa-romero</td>\n",
       "      <td>gas</td>\n",
       "      <td>std</td>\n",
       "      <td>two</td>\n",
       "      <td>convertible</td>\n",
       "      <td>rwd</td>\n",
       "      <td>front</td>\n",
       "      <td>88.6</td>\n",
       "      <td>...</td>\n",
       "      <td>mpfi</td>\n",
       "      <td>3.47</td>\n",
       "      <td>2.68</td>\n",
       "      <td>9.0</td>\n",
       "      <td>111.0</td>\n",
       "      <td>5000.0</td>\n",
       "      <td>21</td>\n",
       "      <td>27</td>\n",
       "      <td>16500</td>\n",
       "      <td>Medium</td>\n",
       "    </tr>\n",
       "    <tr>\n",
       "      <th>2</th>\n",
       "      <td>1</td>\n",
       "      <td>122.0</td>\n",
       "      <td>alfa-romero</td>\n",
       "      <td>gas</td>\n",
       "      <td>std</td>\n",
       "      <td>two</td>\n",
       "      <td>hatchback</td>\n",
       "      <td>rwd</td>\n",
       "      <td>front</td>\n",
       "      <td>94.5</td>\n",
       "      <td>...</td>\n",
       "      <td>mpfi</td>\n",
       "      <td>2.68</td>\n",
       "      <td>3.47</td>\n",
       "      <td>9.0</td>\n",
       "      <td>154.0</td>\n",
       "      <td>5000.0</td>\n",
       "      <td>19</td>\n",
       "      <td>26</td>\n",
       "      <td>16500</td>\n",
       "      <td>Medium</td>\n",
       "    </tr>\n",
       "    <tr>\n",
       "      <th>3</th>\n",
       "      <td>2</td>\n",
       "      <td>164.0</td>\n",
       "      <td>audi</td>\n",
       "      <td>gas</td>\n",
       "      <td>std</td>\n",
       "      <td>four</td>\n",
       "      <td>sedan</td>\n",
       "      <td>fwd</td>\n",
       "      <td>front</td>\n",
       "      <td>99.8</td>\n",
       "      <td>...</td>\n",
       "      <td>mpfi</td>\n",
       "      <td>3.19</td>\n",
       "      <td>3.40</td>\n",
       "      <td>10.0</td>\n",
       "      <td>102.0</td>\n",
       "      <td>5500.0</td>\n",
       "      <td>24</td>\n",
       "      <td>30</td>\n",
       "      <td>13950</td>\n",
       "      <td>Medium</td>\n",
       "    </tr>\n",
       "    <tr>\n",
       "      <th>4</th>\n",
       "      <td>2</td>\n",
       "      <td>164.0</td>\n",
       "      <td>audi</td>\n",
       "      <td>gas</td>\n",
       "      <td>std</td>\n",
       "      <td>four</td>\n",
       "      <td>sedan</td>\n",
       "      <td>4wd</td>\n",
       "      <td>front</td>\n",
       "      <td>99.4</td>\n",
       "      <td>...</td>\n",
       "      <td>mpfi</td>\n",
       "      <td>3.19</td>\n",
       "      <td>3.40</td>\n",
       "      <td>8.0</td>\n",
       "      <td>115.0</td>\n",
       "      <td>5500.0</td>\n",
       "      <td>18</td>\n",
       "      <td>22</td>\n",
       "      <td>17450</td>\n",
       "      <td>Medium</td>\n",
       "    </tr>\n",
       "  </tbody>\n",
       "</table>\n",
       "<p>5 rows × 27 columns</p>\n",
       "</div>"
      ],
      "text/plain": [
       "   car_ID  symboling      CarName fueltype aspiration doornumber      carbody  \\\n",
       "0       3      122.0  alfa-romero      gas        std        two  convertible   \n",
       "1       3      122.0  alfa-romero      gas        std        two  convertible   \n",
       "2       1      122.0  alfa-romero      gas        std        two    hatchback   \n",
       "3       2      164.0         audi      gas        std       four        sedan   \n",
       "4       2      164.0         audi      gas        std       four        sedan   \n",
       "\n",
       "  drivewheel enginelocation  wheelbase  ...  fueisystem  boreratio  stroke  \\\n",
       "0        rwd          front       88.6  ...        mpfi       3.47    2.68   \n",
       "1        rwd          front       88.6  ...        mpfi       3.47    2.68   \n",
       "2        rwd          front       94.5  ...        mpfi       2.68    3.47   \n",
       "3        fwd          front       99.8  ...        mpfi       3.19    3.40   \n",
       "4        4wd          front       99.4  ...        mpfi       3.19    3.40   \n",
       "\n",
       "   compressionratio horsepower peakrpm  citympg highwaympg  price  \\\n",
       "0               9.0      111.0  5000.0       21         27  13495   \n",
       "1               9.0      111.0  5000.0       21         27  16500   \n",
       "2               9.0      154.0  5000.0       19         26  16500   \n",
       "3              10.0      102.0  5500.0       24         30  13950   \n",
       "4               8.0      115.0  5500.0       18         22  17450   \n",
       "\n",
       "   Car_category  \n",
       "0        Medium  \n",
       "1        Medium  \n",
       "2        Medium  \n",
       "3        Medium  \n",
       "4        Medium  \n",
       "\n",
       "[5 rows x 27 columns]"
      ]
     },
     "execution_count": 23,
     "metadata": {},
     "output_type": "execute_result"
    }
   ],
   "source": [
    "# Binning the Car Companies based on avg prices of each car Company.\n",
    "# Membuat kolom baru 'kategori mobil' berdasarkan rata-rata harga mobil tiap perusahaan mobil\n",
    "dfdrop['price'] = dfdrop['price'].astype('int')\n",
    "df_auto_temp = dfdrop.copy()\n",
    "t = df_auto_temp.groupby(['CarName'])['price'].mean()\n",
    "df_auto_temp = df_auto_temp.merge(t.reset_index(), how='left',on='CarName')\n",
    "bins = [0,10000,20000,40000]\n",
    "label =['Low','Medium','Highend']\n",
    "dfdrop['Car_category'] = pd.cut(df_auto_temp['price_y'],bins,right=False,labels=label)\n",
    "dfdrop.head()"
   ]
  },
  {
   "cell_type": "code",
   "execution_count": 24,
   "id": "e751b392-6354-4503-ae93-fd61f860f6a0",
   "metadata": {},
   "outputs": [],
   "source": [
    "sig_col = ['price','Car_category','enginetype','fueltype', 'aspiration','carbody','cylindernumber', 'drivewheel',\n",
    "            'wheelbase','curbweight', 'enginesize', 'boreratio','horsepower', \n",
    "                    'citympg','highwaympg', 'carlength','carwidth']"
   ]
  },
  {
   "cell_type": "code",
   "execution_count": 25,
   "id": "ee7e85c4-f43b-4a31-8e34-57c99f102091",
   "metadata": {},
   "outputs": [],
   "source": [
    "dfdrop = dfdrop[sig_col]"
   ]
  },
  {
   "cell_type": "markdown",
   "id": "81fe9e11-b400-46f3-8b7d-d09f81a55e20",
   "metadata": {},
   "source": [
    "## Pada step ini data pada kolom yang memiliki tpe atau bentuk data kategorik akan dirubah ke data integer dengan menggunakan dummy agar dapat dianalisis lebih lanjut ke tahap modeling data"
   ]
  },
  {
   "cell_type": "code",
   "execution_count": 26,
   "id": "70a24808-8e39-4ac8-9ec0-6668e1c7fff5",
   "metadata": {},
   "outputs": [],
   "source": [
    "# Ubah beberapa kolom data ke bentuk dummy, dr tipe data string (kategorik) ke integer\n",
    "sig_cat_col = ['Car_category','fueltype','aspiration','carbody','drivewheel','enginetype','cylindernumber']"
   ]
  },
  {
   "cell_type": "code",
   "execution_count": 27,
   "id": "8cf9e4c4-3b6f-49f1-9a4f-63c373d5e029",
   "metadata": {},
   "outputs": [
    {
     "data": {
      "text/plain": [
       "(195, 26)"
      ]
     },
     "execution_count": 27,
     "metadata": {},
     "output_type": "execute_result"
    }
   ],
   "source": [
    "# Get the dummy variables for the categorical feature and store it in a new variable - 'dummies'\n",
    "\n",
    "dummies = pd.get_dummies(dfdrop[sig_cat_col])\n",
    "dummies.shape"
   ]
  },
  {
   "cell_type": "code",
   "execution_count": 28,
   "id": "1dec4293-1efb-4c16-a88a-bd8369164738",
   "metadata": {},
   "outputs": [
    {
     "data": {
      "text/plain": [
       "(195, 19)"
      ]
     },
     "execution_count": 28,
     "metadata": {},
     "output_type": "execute_result"
    }
   ],
   "source": [
    "dummies = pd.get_dummies(dfdrop[sig_cat_col], drop_first = True)\n",
    "dummies.shape"
   ]
  },
  {
   "cell_type": "code",
   "execution_count": 29,
   "id": "3c6f375b-e08a-4386-a2a0-26f941936ab9",
   "metadata": {},
   "outputs": [
    {
     "data": {
      "text/html": [
       "<div>\n",
       "<style scoped>\n",
       "    .dataframe tbody tr th:only-of-type {\n",
       "        vertical-align: middle;\n",
       "    }\n",
       "\n",
       "    .dataframe tbody tr th {\n",
       "        vertical-align: top;\n",
       "    }\n",
       "\n",
       "    .dataframe thead th {\n",
       "        text-align: right;\n",
       "    }\n",
       "</style>\n",
       "<table border=\"1\" class=\"dataframe\">\n",
       "  <thead>\n",
       "    <tr style=\"text-align: right;\">\n",
       "      <th></th>\n",
       "      <th>price</th>\n",
       "      <th>Car_category</th>\n",
       "      <th>enginetype</th>\n",
       "      <th>fueltype</th>\n",
       "      <th>aspiration</th>\n",
       "      <th>carbody</th>\n",
       "      <th>cylindernumber</th>\n",
       "      <th>drivewheel</th>\n",
       "      <th>wheelbase</th>\n",
       "      <th>curbweight</th>\n",
       "      <th>...</th>\n",
       "      <th>drivewheel_rwd</th>\n",
       "      <th>enginetype_l</th>\n",
       "      <th>enginetype_ohc</th>\n",
       "      <th>enginetype_ohcf</th>\n",
       "      <th>enginetype_ohcv</th>\n",
       "      <th>cylindernumber_five</th>\n",
       "      <th>cylindernumber_four</th>\n",
       "      <th>cylindernumber_six</th>\n",
       "      <th>cylindernumber_three</th>\n",
       "      <th>cylindernumber_twelve</th>\n",
       "    </tr>\n",
       "  </thead>\n",
       "  <tbody>\n",
       "    <tr>\n",
       "      <th>0</th>\n",
       "      <td>13495</td>\n",
       "      <td>Medium</td>\n",
       "      <td>dohc</td>\n",
       "      <td>gas</td>\n",
       "      <td>std</td>\n",
       "      <td>convertible</td>\n",
       "      <td>four</td>\n",
       "      <td>rwd</td>\n",
       "      <td>88.6</td>\n",
       "      <td>2548</td>\n",
       "      <td>...</td>\n",
       "      <td>1</td>\n",
       "      <td>0</td>\n",
       "      <td>0</td>\n",
       "      <td>0</td>\n",
       "      <td>0</td>\n",
       "      <td>0</td>\n",
       "      <td>1</td>\n",
       "      <td>0</td>\n",
       "      <td>0</td>\n",
       "      <td>0</td>\n",
       "    </tr>\n",
       "    <tr>\n",
       "      <th>1</th>\n",
       "      <td>16500</td>\n",
       "      <td>Medium</td>\n",
       "      <td>dohc</td>\n",
       "      <td>gas</td>\n",
       "      <td>std</td>\n",
       "      <td>convertible</td>\n",
       "      <td>four</td>\n",
       "      <td>rwd</td>\n",
       "      <td>88.6</td>\n",
       "      <td>2548</td>\n",
       "      <td>...</td>\n",
       "      <td>1</td>\n",
       "      <td>0</td>\n",
       "      <td>0</td>\n",
       "      <td>0</td>\n",
       "      <td>0</td>\n",
       "      <td>0</td>\n",
       "      <td>1</td>\n",
       "      <td>0</td>\n",
       "      <td>0</td>\n",
       "      <td>0</td>\n",
       "    </tr>\n",
       "    <tr>\n",
       "      <th>2</th>\n",
       "      <td>16500</td>\n",
       "      <td>Medium</td>\n",
       "      <td>ohcv</td>\n",
       "      <td>gas</td>\n",
       "      <td>std</td>\n",
       "      <td>hatchback</td>\n",
       "      <td>six</td>\n",
       "      <td>rwd</td>\n",
       "      <td>94.5</td>\n",
       "      <td>2823</td>\n",
       "      <td>...</td>\n",
       "      <td>1</td>\n",
       "      <td>0</td>\n",
       "      <td>0</td>\n",
       "      <td>0</td>\n",
       "      <td>1</td>\n",
       "      <td>0</td>\n",
       "      <td>0</td>\n",
       "      <td>1</td>\n",
       "      <td>0</td>\n",
       "      <td>0</td>\n",
       "    </tr>\n",
       "    <tr>\n",
       "      <th>3</th>\n",
       "      <td>13950</td>\n",
       "      <td>Medium</td>\n",
       "      <td>ohc</td>\n",
       "      <td>gas</td>\n",
       "      <td>std</td>\n",
       "      <td>sedan</td>\n",
       "      <td>four</td>\n",
       "      <td>fwd</td>\n",
       "      <td>99.8</td>\n",
       "      <td>2337</td>\n",
       "      <td>...</td>\n",
       "      <td>0</td>\n",
       "      <td>0</td>\n",
       "      <td>1</td>\n",
       "      <td>0</td>\n",
       "      <td>0</td>\n",
       "      <td>0</td>\n",
       "      <td>1</td>\n",
       "      <td>0</td>\n",
       "      <td>0</td>\n",
       "      <td>0</td>\n",
       "    </tr>\n",
       "    <tr>\n",
       "      <th>4</th>\n",
       "      <td>17450</td>\n",
       "      <td>Medium</td>\n",
       "      <td>ohc</td>\n",
       "      <td>gas</td>\n",
       "      <td>std</td>\n",
       "      <td>sedan</td>\n",
       "      <td>five</td>\n",
       "      <td>4wd</td>\n",
       "      <td>99.4</td>\n",
       "      <td>2824</td>\n",
       "      <td>...</td>\n",
       "      <td>0</td>\n",
       "      <td>0</td>\n",
       "      <td>1</td>\n",
       "      <td>0</td>\n",
       "      <td>0</td>\n",
       "      <td>1</td>\n",
       "      <td>0</td>\n",
       "      <td>0</td>\n",
       "      <td>0</td>\n",
       "      <td>0</td>\n",
       "    </tr>\n",
       "    <tr>\n",
       "      <th>...</th>\n",
       "      <td>...</td>\n",
       "      <td>...</td>\n",
       "      <td>...</td>\n",
       "      <td>...</td>\n",
       "      <td>...</td>\n",
       "      <td>...</td>\n",
       "      <td>...</td>\n",
       "      <td>...</td>\n",
       "      <td>...</td>\n",
       "      <td>...</td>\n",
       "      <td>...</td>\n",
       "      <td>...</td>\n",
       "      <td>...</td>\n",
       "      <td>...</td>\n",
       "      <td>...</td>\n",
       "      <td>...</td>\n",
       "      <td>...</td>\n",
       "      <td>...</td>\n",
       "      <td>...</td>\n",
       "      <td>...</td>\n",
       "      <td>...</td>\n",
       "    </tr>\n",
       "    <tr>\n",
       "      <th>200</th>\n",
       "      <td>16845</td>\n",
       "      <td>NaN</td>\n",
       "      <td>ohc</td>\n",
       "      <td>gas</td>\n",
       "      <td>std</td>\n",
       "      <td>sedan</td>\n",
       "      <td>four</td>\n",
       "      <td>rwd</td>\n",
       "      <td>109.1</td>\n",
       "      <td>2952</td>\n",
       "      <td>...</td>\n",
       "      <td>1</td>\n",
       "      <td>0</td>\n",
       "      <td>1</td>\n",
       "      <td>0</td>\n",
       "      <td>0</td>\n",
       "      <td>0</td>\n",
       "      <td>1</td>\n",
       "      <td>0</td>\n",
       "      <td>0</td>\n",
       "      <td>0</td>\n",
       "    </tr>\n",
       "    <tr>\n",
       "      <th>201</th>\n",
       "      <td>19045</td>\n",
       "      <td>NaN</td>\n",
       "      <td>ohc</td>\n",
       "      <td>gas</td>\n",
       "      <td>turbo</td>\n",
       "      <td>sedan</td>\n",
       "      <td>four</td>\n",
       "      <td>rwd</td>\n",
       "      <td>109.1</td>\n",
       "      <td>3049</td>\n",
       "      <td>...</td>\n",
       "      <td>1</td>\n",
       "      <td>0</td>\n",
       "      <td>1</td>\n",
       "      <td>0</td>\n",
       "      <td>0</td>\n",
       "      <td>0</td>\n",
       "      <td>1</td>\n",
       "      <td>0</td>\n",
       "      <td>0</td>\n",
       "      <td>0</td>\n",
       "    </tr>\n",
       "    <tr>\n",
       "      <th>202</th>\n",
       "      <td>21485</td>\n",
       "      <td>NaN</td>\n",
       "      <td>ohcv</td>\n",
       "      <td>gas</td>\n",
       "      <td>std</td>\n",
       "      <td>sedan</td>\n",
       "      <td>six</td>\n",
       "      <td>rwd</td>\n",
       "      <td>109.1</td>\n",
       "      <td>3012</td>\n",
       "      <td>...</td>\n",
       "      <td>1</td>\n",
       "      <td>0</td>\n",
       "      <td>0</td>\n",
       "      <td>0</td>\n",
       "      <td>1</td>\n",
       "      <td>0</td>\n",
       "      <td>0</td>\n",
       "      <td>1</td>\n",
       "      <td>0</td>\n",
       "      <td>0</td>\n",
       "    </tr>\n",
       "    <tr>\n",
       "      <th>203</th>\n",
       "      <td>22470</td>\n",
       "      <td>NaN</td>\n",
       "      <td>ohc</td>\n",
       "      <td>diesel</td>\n",
       "      <td>turbo</td>\n",
       "      <td>sedan</td>\n",
       "      <td>six</td>\n",
       "      <td>rwd</td>\n",
       "      <td>109.1</td>\n",
       "      <td>3217</td>\n",
       "      <td>...</td>\n",
       "      <td>1</td>\n",
       "      <td>0</td>\n",
       "      <td>1</td>\n",
       "      <td>0</td>\n",
       "      <td>0</td>\n",
       "      <td>0</td>\n",
       "      <td>0</td>\n",
       "      <td>1</td>\n",
       "      <td>0</td>\n",
       "      <td>0</td>\n",
       "    </tr>\n",
       "    <tr>\n",
       "      <th>204</th>\n",
       "      <td>22625</td>\n",
       "      <td>NaN</td>\n",
       "      <td>ohc</td>\n",
       "      <td>gas</td>\n",
       "      <td>turbo</td>\n",
       "      <td>sedan</td>\n",
       "      <td>four</td>\n",
       "      <td>rwd</td>\n",
       "      <td>109.1</td>\n",
       "      <td>3062</td>\n",
       "      <td>...</td>\n",
       "      <td>1</td>\n",
       "      <td>0</td>\n",
       "      <td>1</td>\n",
       "      <td>0</td>\n",
       "      <td>0</td>\n",
       "      <td>0</td>\n",
       "      <td>1</td>\n",
       "      <td>0</td>\n",
       "      <td>0</td>\n",
       "      <td>0</td>\n",
       "    </tr>\n",
       "  </tbody>\n",
       "</table>\n",
       "<p>195 rows × 36 columns</p>\n",
       "</div>"
      ],
      "text/plain": [
       "     price Car_category enginetype fueltype aspiration      carbody  \\\n",
       "0    13495       Medium       dohc      gas        std  convertible   \n",
       "1    16500       Medium       dohc      gas        std  convertible   \n",
       "2    16500       Medium       ohcv      gas        std    hatchback   \n",
       "3    13950       Medium        ohc      gas        std        sedan   \n",
       "4    17450       Medium        ohc      gas        std        sedan   \n",
       "..     ...          ...        ...      ...        ...          ...   \n",
       "200  16845          NaN        ohc      gas        std        sedan   \n",
       "201  19045          NaN        ohc      gas      turbo        sedan   \n",
       "202  21485          NaN       ohcv      gas        std        sedan   \n",
       "203  22470          NaN        ohc   diesel      turbo        sedan   \n",
       "204  22625          NaN        ohc      gas      turbo        sedan   \n",
       "\n",
       "    cylindernumber drivewheel  wheelbase  curbweight  ...  drivewheel_rwd  \\\n",
       "0             four        rwd       88.6        2548  ...               1   \n",
       "1             four        rwd       88.6        2548  ...               1   \n",
       "2              six        rwd       94.5        2823  ...               1   \n",
       "3             four        fwd       99.8        2337  ...               0   \n",
       "4             five        4wd       99.4        2824  ...               0   \n",
       "..             ...        ...        ...         ...  ...             ...   \n",
       "200           four        rwd      109.1        2952  ...               1   \n",
       "201           four        rwd      109.1        3049  ...               1   \n",
       "202            six        rwd      109.1        3012  ...               1   \n",
       "203            six        rwd      109.1        3217  ...               1   \n",
       "204           four        rwd      109.1        3062  ...               1   \n",
       "\n",
       "     enginetype_l  enginetype_ohc  enginetype_ohcf  enginetype_ohcv  \\\n",
       "0               0               0                0                0   \n",
       "1               0               0                0                0   \n",
       "2               0               0                0                1   \n",
       "3               0               1                0                0   \n",
       "4               0               1                0                0   \n",
       "..            ...             ...              ...              ...   \n",
       "200             0               1                0                0   \n",
       "201             0               1                0                0   \n",
       "202             0               0                0                1   \n",
       "203             0               1                0                0   \n",
       "204             0               1                0                0   \n",
       "\n",
       "     cylindernumber_five  cylindernumber_four  cylindernumber_six  \\\n",
       "0                      0                    1                   0   \n",
       "1                      0                    1                   0   \n",
       "2                      0                    0                   1   \n",
       "3                      0                    1                   0   \n",
       "4                      1                    0                   0   \n",
       "..                   ...                  ...                 ...   \n",
       "200                    0                    1                   0   \n",
       "201                    0                    1                   0   \n",
       "202                    0                    0                   1   \n",
       "203                    0                    0                   1   \n",
       "204                    0                    1                   0   \n",
       "\n",
       "     cylindernumber_three  cylindernumber_twelve  \n",
       "0                       0                      0  \n",
       "1                       0                      0  \n",
       "2                       0                      0  \n",
       "3                       0                      0  \n",
       "4                       0                      0  \n",
       "..                    ...                    ...  \n",
       "200                     0                      0  \n",
       "201                     0                      0  \n",
       "202                     0                      0  \n",
       "203                     0                      0  \n",
       "204                     0                      0  \n",
       "\n",
       "[195 rows x 36 columns]"
      ]
     },
     "execution_count": 29,
     "metadata": {},
     "output_type": "execute_result"
    }
   ],
   "source": [
    "# Add result data dummies\n",
    "dfdrop = pd.concat([dfdrop, dummies], axis = 1)\n",
    "dfdrop"
   ]
  },
  {
   "cell_type": "code",
   "execution_count": 30,
   "id": "d8f42d17-dc5e-4348-b617-42793c3f851d",
   "metadata": {},
   "outputs": [
    {
     "data": {
      "text/plain": [
       "(195, 29)"
      ]
     },
     "execution_count": 30,
     "metadata": {},
     "output_type": "execute_result"
    }
   ],
   "source": [
    "# Drop the original cat variables as dummies are already created\n",
    "\n",
    "dfdrop.drop( sig_cat_col, axis = 1, inplace = True)\n",
    "dfdrop.shape"
   ]
  },
  {
   "cell_type": "markdown",
   "id": "88419396-674b-4263-947a-52064d70ec88",
   "metadata": {},
   "source": [
    "Step 5 : Splitting data training dan testing\n",
    "======================="
   ]
  },
  {
   "cell_type": "code",
   "execution_count": 50,
   "id": "690600eb-1ff5-49e9-96ec-3e9d0172d984",
   "metadata": {},
   "outputs": [],
   "source": [
    "# Memisahkan variabel target (y_train) dan variaabel x_train\n",
    "target = 'price'\n",
    "x = dfdrop.drop('price',axis = 1)\n",
    "y = dfdrop[target]"
   ]
  },
  {
   "cell_type": "code",
   "execution_count": 49,
   "id": "b081890b-ad75-4a28-a727-42512b377e4e",
   "metadata": {},
   "outputs": [],
   "source": [
    "from sklearn.model_selection import train_test_split\n",
    "x_train, x_test, y_train, y_test = train_test_split(x, y , train_size = 0.8, test_size = 0.2, random_state = 100)"
   ]
  },
  {
   "cell_type": "code",
   "execution_count": 33,
   "id": "d9e4b101-0588-469b-a155-bcb7dc6fc66f",
   "metadata": {},
   "outputs": [
    {
     "data": {
      "text/html": [
       "<div>\n",
       "<style scoped>\n",
       "    .dataframe tbody tr th:only-of-type {\n",
       "        vertical-align: middle;\n",
       "    }\n",
       "\n",
       "    .dataframe tbody tr th {\n",
       "        vertical-align: top;\n",
       "    }\n",
       "\n",
       "    .dataframe thead th {\n",
       "        text-align: right;\n",
       "    }\n",
       "</style>\n",
       "<table border=\"1\" class=\"dataframe\">\n",
       "  <thead>\n",
       "    <tr style=\"text-align: right;\">\n",
       "      <th></th>\n",
       "      <th>price</th>\n",
       "      <th>wheelbase</th>\n",
       "      <th>curbweight</th>\n",
       "      <th>enginesize</th>\n",
       "      <th>boreratio</th>\n",
       "      <th>horsepower</th>\n",
       "      <th>citympg</th>\n",
       "      <th>highwaympg</th>\n",
       "      <th>carlength</th>\n",
       "      <th>carwidth</th>\n",
       "      <th>...</th>\n",
       "      <th>drivewheel_rwd</th>\n",
       "      <th>enginetype_l</th>\n",
       "      <th>enginetype_ohc</th>\n",
       "      <th>enginetype_ohcf</th>\n",
       "      <th>enginetype_ohcv</th>\n",
       "      <th>cylindernumber_five</th>\n",
       "      <th>cylindernumber_four</th>\n",
       "      <th>cylindernumber_six</th>\n",
       "      <th>cylindernumber_three</th>\n",
       "      <th>cylindernumber_twelve</th>\n",
       "    </tr>\n",
       "  </thead>\n",
       "  <tbody>\n",
       "    <tr>\n",
       "      <th>0</th>\n",
       "      <td>13495</td>\n",
       "      <td>88.6</td>\n",
       "      <td>2548</td>\n",
       "      <td>130</td>\n",
       "      <td>3.47</td>\n",
       "      <td>111.0</td>\n",
       "      <td>21</td>\n",
       "      <td>27</td>\n",
       "      <td>168.8</td>\n",
       "      <td>64.1</td>\n",
       "      <td>...</td>\n",
       "      <td>1</td>\n",
       "      <td>0</td>\n",
       "      <td>0</td>\n",
       "      <td>0</td>\n",
       "      <td>0</td>\n",
       "      <td>0</td>\n",
       "      <td>1</td>\n",
       "      <td>0</td>\n",
       "      <td>0</td>\n",
       "      <td>0</td>\n",
       "    </tr>\n",
       "    <tr>\n",
       "      <th>1</th>\n",
       "      <td>16500</td>\n",
       "      <td>88.6</td>\n",
       "      <td>2548</td>\n",
       "      <td>130</td>\n",
       "      <td>3.47</td>\n",
       "      <td>111.0</td>\n",
       "      <td>21</td>\n",
       "      <td>27</td>\n",
       "      <td>168.8</td>\n",
       "      <td>64.1</td>\n",
       "      <td>...</td>\n",
       "      <td>1</td>\n",
       "      <td>0</td>\n",
       "      <td>0</td>\n",
       "      <td>0</td>\n",
       "      <td>0</td>\n",
       "      <td>0</td>\n",
       "      <td>1</td>\n",
       "      <td>0</td>\n",
       "      <td>0</td>\n",
       "      <td>0</td>\n",
       "    </tr>\n",
       "    <tr>\n",
       "      <th>2</th>\n",
       "      <td>16500</td>\n",
       "      <td>94.5</td>\n",
       "      <td>2823</td>\n",
       "      <td>152</td>\n",
       "      <td>2.68</td>\n",
       "      <td>154.0</td>\n",
       "      <td>19</td>\n",
       "      <td>26</td>\n",
       "      <td>171.2</td>\n",
       "      <td>65.5</td>\n",
       "      <td>...</td>\n",
       "      <td>1</td>\n",
       "      <td>0</td>\n",
       "      <td>0</td>\n",
       "      <td>0</td>\n",
       "      <td>1</td>\n",
       "      <td>0</td>\n",
       "      <td>0</td>\n",
       "      <td>1</td>\n",
       "      <td>0</td>\n",
       "      <td>0</td>\n",
       "    </tr>\n",
       "    <tr>\n",
       "      <th>3</th>\n",
       "      <td>13950</td>\n",
       "      <td>99.8</td>\n",
       "      <td>2337</td>\n",
       "      <td>109</td>\n",
       "      <td>3.19</td>\n",
       "      <td>102.0</td>\n",
       "      <td>24</td>\n",
       "      <td>30</td>\n",
       "      <td>176.6</td>\n",
       "      <td>66.2</td>\n",
       "      <td>...</td>\n",
       "      <td>0</td>\n",
       "      <td>0</td>\n",
       "      <td>1</td>\n",
       "      <td>0</td>\n",
       "      <td>0</td>\n",
       "      <td>0</td>\n",
       "      <td>1</td>\n",
       "      <td>0</td>\n",
       "      <td>0</td>\n",
       "      <td>0</td>\n",
       "    </tr>\n",
       "    <tr>\n",
       "      <th>4</th>\n",
       "      <td>17450</td>\n",
       "      <td>99.4</td>\n",
       "      <td>2824</td>\n",
       "      <td>136</td>\n",
       "      <td>3.19</td>\n",
       "      <td>115.0</td>\n",
       "      <td>18</td>\n",
       "      <td>22</td>\n",
       "      <td>176.6</td>\n",
       "      <td>66.4</td>\n",
       "      <td>...</td>\n",
       "      <td>0</td>\n",
       "      <td>0</td>\n",
       "      <td>1</td>\n",
       "      <td>0</td>\n",
       "      <td>0</td>\n",
       "      <td>1</td>\n",
       "      <td>0</td>\n",
       "      <td>0</td>\n",
       "      <td>0</td>\n",
       "      <td>0</td>\n",
       "    </tr>\n",
       "  </tbody>\n",
       "</table>\n",
       "<p>5 rows × 29 columns</p>\n",
       "</div>"
      ],
      "text/plain": [
       "   price  wheelbase  curbweight  enginesize  boreratio  horsepower  citympg  \\\n",
       "0  13495       88.6        2548         130       3.47       111.0       21   \n",
       "1  16500       88.6        2548         130       3.47       111.0       21   \n",
       "2  16500       94.5        2823         152       2.68       154.0       19   \n",
       "3  13950       99.8        2337         109       3.19       102.0       24   \n",
       "4  17450       99.4        2824         136       3.19       115.0       18   \n",
       "\n",
       "   highwaympg  carlength  carwidth  ...  drivewheel_rwd  enginetype_l  \\\n",
       "0          27      168.8      64.1  ...               1             0   \n",
       "1          27      168.8      64.1  ...               1             0   \n",
       "2          26      171.2      65.5  ...               1             0   \n",
       "3          30      176.6      66.2  ...               0             0   \n",
       "4          22      176.6      66.4  ...               0             0   \n",
       "\n",
       "   enginetype_ohc  enginetype_ohcf  enginetype_ohcv  cylindernumber_five  \\\n",
       "0               0                0                0                    0   \n",
       "1               0                0                0                    0   \n",
       "2               0                0                1                    0   \n",
       "3               1                0                0                    0   \n",
       "4               1                0                0                    1   \n",
       "\n",
       "   cylindernumber_four  cylindernumber_six  cylindernumber_three  \\\n",
       "0                    1                   0                     0   \n",
       "1                    1                   0                     0   \n",
       "2                    0                   1                     0   \n",
       "3                    1                   0                     0   \n",
       "4                    0                   0                     0   \n",
       "\n",
       "   cylindernumber_twelve  \n",
       "0                      0  \n",
       "1                      0  \n",
       "2                      0  \n",
       "3                      0  \n",
       "4                      0  \n",
       "\n",
       "[5 rows x 29 columns]"
      ]
     },
     "execution_count": 33,
     "metadata": {},
     "output_type": "execute_result"
    }
   ],
   "source": [
    "dfdrop.head()"
   ]
  },
  {
   "cell_type": "markdown",
   "id": "2435c15d-ac1f-43d6-99cc-f6e42c31fe80",
   "metadata": {},
   "source": [
    "Step 6 : Rescaling Features Data With Min Max Scaller\n",
    "======================="
   ]
  },
  {
   "cell_type": "code",
   "execution_count": 34,
   "id": "c8d8c8a2-eeb1-4257-9d9a-e2190f4b7836",
   "metadata": {},
   "outputs": [],
   "source": [
    "from sklearn.preprocessing import MinMaxScaler\n",
    "\n",
    "scaler = MinMaxScaler()\n",
    "num_vars = ['wheelbase', 'curbweight', 'enginesize', 'boreratio', 'horsepower','carlength','carwidth','price']\n",
    "dfdrop[num_vars] = scaler.fit_transform(dfdrop[num_vars])"
   ]
  },
  {
   "cell_type": "code",
   "execution_count": 35,
   "id": "4195b44b-a7af-48f9-a2ad-5bf17d43a295",
   "metadata": {},
   "outputs": [
    {
     "data": {
      "text/html": [
       "<div>\n",
       "<style scoped>\n",
       "    .dataframe tbody tr th:only-of-type {\n",
       "        vertical-align: middle;\n",
       "    }\n",
       "\n",
       "    .dataframe tbody tr th {\n",
       "        vertical-align: top;\n",
       "    }\n",
       "\n",
       "    .dataframe thead th {\n",
       "        text-align: right;\n",
       "    }\n",
       "</style>\n",
       "<table border=\"1\" class=\"dataframe\">\n",
       "  <thead>\n",
       "    <tr style=\"text-align: right;\">\n",
       "      <th></th>\n",
       "      <th>price</th>\n",
       "      <th>wheelbase</th>\n",
       "      <th>curbweight</th>\n",
       "      <th>enginesize</th>\n",
       "      <th>boreratio</th>\n",
       "      <th>horsepower</th>\n",
       "      <th>citympg</th>\n",
       "      <th>highwaympg</th>\n",
       "      <th>carlength</th>\n",
       "      <th>carwidth</th>\n",
       "      <th>...</th>\n",
       "      <th>drivewheel_rwd</th>\n",
       "      <th>enginetype_l</th>\n",
       "      <th>enginetype_ohc</th>\n",
       "      <th>enginetype_ohcf</th>\n",
       "      <th>enginetype_ohcv</th>\n",
       "      <th>cylindernumber_five</th>\n",
       "      <th>cylindernumber_four</th>\n",
       "      <th>cylindernumber_six</th>\n",
       "      <th>cylindernumber_three</th>\n",
       "      <th>cylindernumber_twelve</th>\n",
       "    </tr>\n",
       "  </thead>\n",
       "  <tbody>\n",
       "    <tr>\n",
       "      <th>0</th>\n",
       "      <td>0.207959</td>\n",
       "      <td>0.058309</td>\n",
       "      <td>0.411171</td>\n",
       "      <td>0.260377</td>\n",
       "      <td>0.664286</td>\n",
       "      <td>0.294393</td>\n",
       "      <td>21</td>\n",
       "      <td>27</td>\n",
       "      <td>0.413433</td>\n",
       "      <td>0.324786</td>\n",
       "      <td>...</td>\n",
       "      <td>1</td>\n",
       "      <td>0</td>\n",
       "      <td>0</td>\n",
       "      <td>0</td>\n",
       "      <td>0</td>\n",
       "      <td>0</td>\n",
       "      <td>1</td>\n",
       "      <td>0</td>\n",
       "      <td>0</td>\n",
       "      <td>0</td>\n",
       "    </tr>\n",
       "    <tr>\n",
       "      <th>1</th>\n",
       "      <td>0.282558</td>\n",
       "      <td>0.058309</td>\n",
       "      <td>0.411171</td>\n",
       "      <td>0.260377</td>\n",
       "      <td>0.664286</td>\n",
       "      <td>0.294393</td>\n",
       "      <td>21</td>\n",
       "      <td>27</td>\n",
       "      <td>0.413433</td>\n",
       "      <td>0.324786</td>\n",
       "      <td>...</td>\n",
       "      <td>1</td>\n",
       "      <td>0</td>\n",
       "      <td>0</td>\n",
       "      <td>0</td>\n",
       "      <td>0</td>\n",
       "      <td>0</td>\n",
       "      <td>1</td>\n",
       "      <td>0</td>\n",
       "      <td>0</td>\n",
       "      <td>0</td>\n",
       "    </tr>\n",
       "    <tr>\n",
       "      <th>2</th>\n",
       "      <td>0.282558</td>\n",
       "      <td>0.230321</td>\n",
       "      <td>0.517843</td>\n",
       "      <td>0.343396</td>\n",
       "      <td>0.100000</td>\n",
       "      <td>0.495327</td>\n",
       "      <td>19</td>\n",
       "      <td>26</td>\n",
       "      <td>0.449254</td>\n",
       "      <td>0.444444</td>\n",
       "      <td>...</td>\n",
       "      <td>1</td>\n",
       "      <td>0</td>\n",
       "      <td>0</td>\n",
       "      <td>0</td>\n",
       "      <td>1</td>\n",
       "      <td>0</td>\n",
       "      <td>0</td>\n",
       "      <td>1</td>\n",
       "      <td>0</td>\n",
       "      <td>0</td>\n",
       "    </tr>\n",
       "    <tr>\n",
       "      <th>3</th>\n",
       "      <td>0.219254</td>\n",
       "      <td>0.384840</td>\n",
       "      <td>0.329325</td>\n",
       "      <td>0.181132</td>\n",
       "      <td>0.464286</td>\n",
       "      <td>0.252336</td>\n",
       "      <td>24</td>\n",
       "      <td>30</td>\n",
       "      <td>0.529851</td>\n",
       "      <td>0.504274</td>\n",
       "      <td>...</td>\n",
       "      <td>0</td>\n",
       "      <td>0</td>\n",
       "      <td>1</td>\n",
       "      <td>0</td>\n",
       "      <td>0</td>\n",
       "      <td>0</td>\n",
       "      <td>1</td>\n",
       "      <td>0</td>\n",
       "      <td>0</td>\n",
       "      <td>0</td>\n",
       "    </tr>\n",
       "    <tr>\n",
       "      <th>4</th>\n",
       "      <td>0.306142</td>\n",
       "      <td>0.373178</td>\n",
       "      <td>0.518231</td>\n",
       "      <td>0.283019</td>\n",
       "      <td>0.464286</td>\n",
       "      <td>0.313084</td>\n",
       "      <td>18</td>\n",
       "      <td>22</td>\n",
       "      <td>0.529851</td>\n",
       "      <td>0.521368</td>\n",
       "      <td>...</td>\n",
       "      <td>0</td>\n",
       "      <td>0</td>\n",
       "      <td>1</td>\n",
       "      <td>0</td>\n",
       "      <td>0</td>\n",
       "      <td>1</td>\n",
       "      <td>0</td>\n",
       "      <td>0</td>\n",
       "      <td>0</td>\n",
       "      <td>0</td>\n",
       "    </tr>\n",
       "  </tbody>\n",
       "</table>\n",
       "<p>5 rows × 29 columns</p>\n",
       "</div>"
      ],
      "text/plain": [
       "      price  wheelbase  curbweight  enginesize  boreratio  horsepower  \\\n",
       "0  0.207959   0.058309    0.411171    0.260377   0.664286    0.294393   \n",
       "1  0.282558   0.058309    0.411171    0.260377   0.664286    0.294393   \n",
       "2  0.282558   0.230321    0.517843    0.343396   0.100000    0.495327   \n",
       "3  0.219254   0.384840    0.329325    0.181132   0.464286    0.252336   \n",
       "4  0.306142   0.373178    0.518231    0.283019   0.464286    0.313084   \n",
       "\n",
       "   citympg  highwaympg  carlength  carwidth  ...  drivewheel_rwd  \\\n",
       "0       21          27   0.413433  0.324786  ...               1   \n",
       "1       21          27   0.413433  0.324786  ...               1   \n",
       "2       19          26   0.449254  0.444444  ...               1   \n",
       "3       24          30   0.529851  0.504274  ...               0   \n",
       "4       18          22   0.529851  0.521368  ...               0   \n",
       "\n",
       "   enginetype_l  enginetype_ohc  enginetype_ohcf  enginetype_ohcv  \\\n",
       "0             0               0                0                0   \n",
       "1             0               0                0                0   \n",
       "2             0               0                0                1   \n",
       "3             0               1                0                0   \n",
       "4             0               1                0                0   \n",
       "\n",
       "   cylindernumber_five  cylindernumber_four  cylindernumber_six  \\\n",
       "0                    0                    1                   0   \n",
       "1                    0                    1                   0   \n",
       "2                    0                    0                   1   \n",
       "3                    0                    1                   0   \n",
       "4                    1                    0                   0   \n",
       "\n",
       "   cylindernumber_three  cylindernumber_twelve  \n",
       "0                     0                      0  \n",
       "1                     0                      0  \n",
       "2                     0                      0  \n",
       "3                     0                      0  \n",
       "4                     0                      0  \n",
       "\n",
       "[5 rows x 29 columns]"
      ]
     },
     "execution_count": 35,
     "metadata": {},
     "output_type": "execute_result"
    }
   ],
   "source": [
    "dfdrop.head()"
   ]
  },
  {
   "cell_type": "code",
   "execution_count": 36,
   "id": "dd7cfcc1-f64f-42eb-ac8e-b3a41c9a527b",
   "metadata": {},
   "outputs": [
    {
     "data": {
      "image/png": "[encoded data removed]",
      "text/plain": [
       "<Figure size 720x720 with 2 Axes>"
      ]
     },
     "metadata": {
      "needs_background": "light"
     },
     "output_type": "display_data"
    }
   ],
   "source": [
    "# Let's check the correlation coefficients to see which variables are highly correlated\n",
    "\n",
    "plt.figure(figsize = (10, 10))\n",
    "sns.heatmap(dfdrop.corr(), cmap=\"magma\")\n",
    "plt.show()"
   ]
  },
  {
   "cell_type": "code",
   "execution_count": 41,
   "id": "f954c97b-f6ef-4484-9cea-35a51c25ff69",
   "metadata": {},
   "outputs": [
    {
     "data": {
      "image/png": "[encoded data removed]",
      "text/plain": [
       "<Figure size 1296x1080 with 6 Axes>"
      ]
     },
     "metadata": {
      "needs_background": "light"
     },
     "output_type": "display_data"
    }
   ],
   "source": [
    "# Scatter Plot of independent variables vs dependent variables\n",
    "col = ['highwaympg','citympg','horsepower','enginesize','curbweight','carwidth']\n",
    "\n",
    "fig,axes = plt.subplots(2,3,figsize=(18,15))\n",
    "for seg,col in enumerate(col):\n",
    "    x,y = seg//3,seg%3\n",
    "    an=sns.scatterplot(x=col, y='price' ,data=dfdrop, ax=axes[x,y])\n",
    "    plt.setp(an.get_xticklabels(), rotation=45)\n",
    "   \n",
    "plt.subplots_adjust(hspace=0.5)"
   ]
  },
  {
   "cell_type": "markdown",
   "id": "3b3cb371-d43b-4894-b42f-5f15b7de7c92",
   "metadata": {},
   "source": [
    "Step 7 : Building dan Evaluation Model Regresi (Compare)\n",
    "======================="
   ]
  },
  {
   "cell_type": "raw",
   "id": "cbe675b2-bf7a-45a9-b1e1-a6825c7c93ae",
   "metadata": {},
   "source": [
    "Pada step ini dilakukan pembuatan model regresi baik itu regresi linier, polinomial, ridge, dan lasso"
   ]
  },
  {
   "cell_type": "markdown",
   "id": "797750f9-8ae6-4492-a322-a85a6df1db54",
   "metadata": {},
   "source": [
    "## Regresi Linier"
   ]
  },
  {
   "cell_type": "code",
   "execution_count": 47,
   "id": "dc8416d9-6be0-44b6-b730-832c1bf2c318",
   "metadata": {},
   "outputs": [
    {
     "data": {
      "text/plain": [
       "LinearRegression()"
      ]
     },
     "execution_count": 47,
     "metadata": {},
     "output_type": "execute_result"
    }
   ],
   "source": [
    "# memodelkan data dg regresi linier\n",
    "from sklearn.linear_model import LinearRegression\n",
    "from sklearn.metrics import mean_squared_error, r2_score\n",
    "\n",
    "lin_model = LinearRegression()\n",
    "lin_model.fit(x_train, y_train)"
   ]
  },
  {
   "cell_type": "code",
   "execution_count": 48,
   "id": "e03b703d-f122-4902-b757-10611363a1a6",
   "metadata": {},
   "outputs": [
    {
     "name": "stdout",
     "output_type": "stream",
     "text": [
      "Performa model untuk data training adalah\n",
      "-----------------------------------------\n",
      "RMSE adalah 2007.3274371305858\n",
      "R2 adalah 0.9369853081075963\n",
      "-----------------------------------------\n"
     ]
    }
   ],
   "source": [
    "# Evaluasi Model untuk Training (Regresi Linear)\n",
    "y_train_predict = lin_model.predict(x_train)\n",
    "rmse  = (np.sqrt(mean_squared_error(y_train, y_train_predict)))\n",
    "r2 = r2_score(y_train, y_train_predict)\n",
    "print(\"Performa model untuk data training adalah\")\n",
    "print(\"-----------------------------------------\")\n",
    "print(\"RMSE adalah {}\".format(rmse))\n",
    "print(\"R2 adalah {}\".format(r2))\n",
    "print(\"-----------------------------------------\")"
   ]
  },
  {
   "cell_type": "code",
   "execution_count": 44,
   "id": "7a9791b7-3591-4322-a9dd-0897aa8e6d59",
   "metadata": {},
   "outputs": [
    {
     "name": "stdout",
     "output_type": "stream",
     "text": [
      "Performa model untuk data testing adalah\n",
      "-----------------------------------------\n",
      "RMSE adalah 3840.026092641645\n",
      "R2 adalah 0.7795772281485468\n",
      "-----------------------------------------\n"
     ]
    }
   ],
   "source": [
    "# Evaluasi model untuk data testing (Regresi Linear)\n",
    "y_test_predict = lin_model.predict(x_test)\n",
    "rmse  = (np.sqrt(mean_squared_error(y_test, y_test_predict)))\n",
    "r2 = r2_score(y_test, y_test_predict)\n",
    "print(\"Performa model untuk data testing adalah\")\n",
    "print(\"-----------------------------------------\")\n",
    "print(\"RMSE adalah {}\".format(rmse))\n",
    "print(\"R2 adalah {}\".format(r2))\n",
    "print(\"-----------------------------------------\")"
   ]
  },
  {
   "cell_type": "markdown",
   "id": "1fd67634-ffef-4645-bae9-db06259d3476",
   "metadata": {},
   "source": [
    "## Regresi Polinomial"
   ]
  },
  {
   "cell_type": "code",
   "execution_count": 45,
   "id": "13098aad-f39d-4f1c-9237-aeda8baeb413",
   "metadata": {},
   "outputs": [],
   "source": [
    "from sklearn.preprocessing import PolynomialFeatures\n",
    "import statsmodels.api as sm \n",
    "import numpy as np\n",
    "import matplotlib.pyplot as plt\n",
    "from sklearn.linear_model import LinearRegression\n",
    "from sklearn.preprocessing import PolynomialFeatures\n",
    "from sklearn.metrics import mean_squared_error , r2_score"
   ]
  },
  {
   "cell_type": "code",
   "execution_count": 46,
   "id": "4e4ae068-a4d9-4b90-92c0-1691f0157a4b",
   "metadata": {},
   "outputs": [],
   "source": [
    "polynomial_features = PolynomialFeatures(degree=2)\n",
    "x_poly = polynomial_features.fit_transform(x_train)\n",
    "poly_model = LinearRegression()\n",
    "poly_model.fit(x_poly, y_train)\n",
    "x_poly_test = polynomial_features.fit_transform(x_test)"
   ]
  },
  {
   "cell_type": "code",
   "execution_count": 47,
   "id": "98d393ac-19e6-46eb-a386-646ceeda09e6",
   "metadata": {},
   "outputs": [
    {
     "name": "stdout",
     "output_type": "stream",
     "text": [
      "Performa model polinomial derajat 2 untuk data training adalah\n",
      "--------------------------------------------------------------\n",
      "RMSE adalah 531.7284563754473\n",
      "R2 adalah 0.9955783416627773\n",
      "--------------------------------------------------------------\n"
     ]
    }
   ],
   "source": [
    "# Evaluasi Model untuk Training (Regresi Linear)\n",
    "y_train_predict_poly = poly_model.predict(x_poly)\n",
    "rmse  = (np.sqrt(mean_squared_error(y_train, y_train_predict_poly)))\n",
    "r2 = r2_score(y_train, y_train_predict_poly)\n",
    "print(\"Performa model polinomial derajat 2 untuk data training adalah\")\n",
    "print(\"--------------------------------------------------------------\")\n",
    "print(\"RMSE adalah {}\".format(rmse))\n",
    "print(\"R2 adalah {}\".format(r2))\n",
    "print(\"--------------------------------------------------------------\")"
   ]
  },
  {
   "cell_type": "code",
   "execution_count": 48,
   "id": "d692aca0-2074-4b00-8168-c8c6fe65d8e2",
   "metadata": {},
   "outputs": [
    {
     "name": "stdout",
     "output_type": "stream",
     "text": [
      "Performa model untuk data testing adalah\n",
      "-----------------------------------------\n",
      "RMSE adalah 4992377584.192834\n",
      "R2 adalah -372565775799.97894\n",
      "-----------------------------------------\n"
     ]
    }
   ],
   "source": [
    "# Evaluasi model untuk data testing (Regresi Linear)\n",
    "y_test_predict_poly = poly_model.predict(x_poly_test)\n",
    "rmse  = (np.sqrt(mean_squared_error(y_test, y_test_predict_poly)))\n",
    "r2 = r2_score(y_test, y_test_predict_poly)\n",
    "print(\"Performa model untuk data testing adalah\")\n",
    "print(\"-----------------------------------------\")\n",
    "print(\"RMSE adalah {}\".format(rmse))\n",
    "print(\"R2 adalah {}\".format(r2))\n",
    "print(\"-----------------------------------------\")"
   ]
  },
  {
   "cell_type": "markdown",
   "id": "c0181e8e-a08d-4227-bed8-035da7dc7d5a",
   "metadata": {},
   "source": [
    "## Regresi Ridge"
   ]
  },
  {
   "cell_type": "code",
   "execution_count": 49,
   "id": "47daca17-579c-4dbe-8058-047eabe260d3",
   "metadata": {},
   "outputs": [
    {
     "data": {
      "text/html": [
       "<style>#sk-container-id-2 {color: black;background-color: white;}#sk-container-id-2 pre{padding: 0;}#sk-container-id-2 div.sk-toggleable {background-color: white;}#sk-container-id-2 label.sk-toggleable__label {cursor: pointer;display: block;width: 100%;margin-bottom: 0;padding: 0.3em;box-sizing: border-box;text-align: center;}#sk-container-id-2 label.sk-toggleable__label-arrow:before {content: \"▸\";float: left;margin-right: 0.25em;color: #696969;}#sk-container-id-2 label.sk-toggleable__label-arrow:hover:before {color: black;}#sk-container-id-2 div.sk-estimator:hover label.sk-toggleable__label-arrow:before {color: black;}#sk-container-id-2 div.sk-toggleable__content {max-height: 0;max-width: 0;overflow: hidden;text-align: left;background-color: #f0f8ff;}#sk-container-id-2 div.sk-toggleable__content pre {margin: 0.2em;color: black;border-radius: 0.25em;background-color: #f0f8ff;}#sk-container-id-2 input.sk-toggleable__control:checked~div.sk-toggleable__content {max-height: 200px;max-width: 100%;overflow: auto;}#sk-container-id-2 input.sk-toggleable__control:checked~label.sk-toggleable__label-arrow:before {content: \"▾\";}#sk-container-id-2 div.sk-estimator input.sk-toggleable__control:checked~label.sk-toggleable__label {background-color: #d4ebff;}#sk-container-id-2 div.sk-label input.sk-toggleable__control:checked~label.sk-toggleable__label {background-color: #d4ebff;}#sk-container-id-2 input.sk-hidden--visually {border: 0;clip: rect(1px 1px 1px 1px);clip: rect(1px, 1px, 1px, 1px);height: 1px;margin: -1px;overflow: hidden;padding: 0;position: absolute;width: 1px;}#sk-container-id-2 div.sk-estimator {font-family: monospace;background-color: #f0f8ff;border: 1px dotted black;border-radius: 0.25em;box-sizing: border-box;margin-bottom: 0.5em;}#sk-container-id-2 div.sk-estimator:hover {background-color: #d4ebff;}#sk-container-id-2 div.sk-parallel-item::after {content: \"\";width: 100%;border-bottom: 1px solid gray;flex-grow: 1;}#sk-container-id-2 div.sk-label:hover label.sk-toggleable__label {background-color: #d4ebff;}#sk-container-id-2 div.sk-serial::before {content: \"\";position: absolute;border-left: 1px solid gray;box-sizing: border-box;top: 0;bottom: 0;left: 50%;z-index: 0;}#sk-container-id-2 div.sk-serial {display: flex;flex-direction: column;align-items: center;background-color: white;padding-right: 0.2em;padding-left: 0.2em;position: relative;}#sk-container-id-2 div.sk-item {position: relative;z-index: 1;}#sk-container-id-2 div.sk-parallel {display: flex;align-items: stretch;justify-content: center;background-color: white;position: relative;}#sk-container-id-2 div.sk-item::before, #sk-container-id-2 div.sk-parallel-item::before {content: \"\";position: absolute;border-left: 1px solid gray;box-sizing: border-box;top: 0;bottom: 0;left: 50%;z-index: -1;}#sk-container-id-2 div.sk-parallel-item {display: flex;flex-direction: column;z-index: 1;position: relative;background-color: white;}#sk-container-id-2 div.sk-parallel-item:first-child::after {align-self: flex-end;width: 50%;}#sk-container-id-2 div.sk-parallel-item:last-child::after {align-self: flex-start;width: 50%;}#sk-container-id-2 div.sk-parallel-item:only-child::after {width: 0;}#sk-container-id-2 div.sk-dashed-wrapped {border: 1px dashed gray;margin: 0 0.4em 0.5em 0.4em;box-sizing: border-box;padding-bottom: 0.4em;background-color: white;}#sk-container-id-2 div.sk-label label {font-family: monospace;font-weight: bold;display: inline-block;line-height: 1.2em;}#sk-container-id-2 div.sk-label-container {text-align: center;}#sk-container-id-2 div.sk-container {/* jupyter's `normalize.less` sets `[hidden] { display: none; }` but bootstrap.min.css set `[hidden] { display: none !important; }` so we also need the `!important` here to be able to override the default hidden behavior on the sphinx rendered scikit-learn.org. See: https://github.com/scikit-learn/scikit-learn/issues/21755 */display: inline-block !important;position: relative;}#sk-container-id-2 div.sk-text-repr-fallback {display: none;}</style><div id=\"sk-container-id-2\" class=\"sk-top-container\"><div class=\"sk-text-repr-fallback\"><pre>Ridge(alpha=1)</pre><b>In a Jupyter environment, please rerun this cell to show the HTML representation or trust the notebook. <br />On GitHub, the HTML representation is unable to render, please try loading this page with nbviewer.org.</b></div><div class=\"sk-container\" hidden><div class=\"sk-item\"><div class=\"sk-estimator sk-toggleable\"><input class=\"sk-toggleable__control sk-hidden--visually\" id=\"sk-estimator-id-2\" type=\"checkbox\" checked><label for=\"sk-estimator-id-2\" class=\"sk-toggleable__label sk-toggleable__label-arrow\">Ridge</label><div class=\"sk-toggleable__content\"><pre>Ridge(alpha=1)</pre></div></div></div></div></div>"
      ],
      "text/plain": [
       "Ridge(alpha=1)"
      ]
     },
     "execution_count": 49,
     "metadata": {},
     "output_type": "execute_result"
    }
   ],
   "source": [
    "# pemodelan dg regresi ridge\n",
    "from sklearn. linear_model import Ridge\n",
    "\n",
    "model_ridge = Ridge(alpha=1)\n",
    "model_ridge.fit(x_train, y_train)"
   ]
  },
  {
   "cell_type": "code",
   "execution_count": 50,
   "id": "f31673da-daae-4300-9455-0ed12180d413",
   "metadata": {},
   "outputs": [
    {
     "name": "stdout",
     "output_type": "stream",
     "text": [
      "Performa model ridge untuk data training adalah\n",
      "--------------------------------------------------------------\n",
      "RMSE adalah 2142.094927124981\n",
      "R2 adalah 0.9282399387045034\n",
      "--------------------------------------------------------------\n"
     ]
    }
   ],
   "source": [
    "# Evaluasi model untuk data training\n",
    "y_train_predict_ridge = model_ridge.predict(x_train)\n",
    "rmse  = (np.sqrt(mean_squared_error(y_train, y_train_predict_ridge)))\n",
    "r2 = r2_score(y_train, y_train_predict_ridge)\n",
    "print(\"Performa model ridge untuk data training adalah\")\n",
    "print(\"--------------------------------------------------------------\")\n",
    "print(\"RMSE adalah {}\".format(rmse))\n",
    "print(\"R2 adalah {}\".format(r2))\n",
    "print(\"--------------------------------------------------------------\")"
   ]
  },
  {
   "cell_type": "code",
   "execution_count": 51,
   "id": "2a232748-f396-4f1e-9c57-a23c79ed4057",
   "metadata": {},
   "outputs": [
    {
     "name": "stdout",
     "output_type": "stream",
     "text": [
      "Performa model ridge untuk data testing adalah\n",
      "-----------------------------------------\n",
      "RMSE adalah 3912.015377882656\n",
      "R2 adalah 0.7712351921882099\n",
      "-----------------------------------------\n"
     ]
    }
   ],
   "source": [
    "# Evaluasi model untuk data testing\n",
    "y_test_predict_ridge = model_ridge.predict(x_test)\n",
    "rmse  = (np.sqrt(mean_squared_error(y_test, y_test_predict_ridge)))\n",
    "r2 = r2_score(y_test, y_test_predict_ridge)\n",
    "print(\"Performa model ridge untuk data testing adalah\")\n",
    "print(\"-----------------------------------------\")\n",
    "print(\"RMSE adalah {}\".format(rmse))\n",
    "print(\"R2 adalah {}\".format(r2))\n",
    "print(\"-----------------------------------------\")"
   ]
  },
  {
   "cell_type": "markdown",
   "id": "facfc38f-701a-42fe-977e-67a6cd1ccd30",
   "metadata": {},
   "source": [
    "## Regresi Lasso "
   ]
  },
  {
   "cell_type": "code",
   "execution_count": 52,
   "id": "7c1e95ce-e702-4ed9-af59-1d0b58a40407",
   "metadata": {},
   "outputs": [
    {
     "data": {
      "text/html": [
       "<style>#sk-container-id-3 {color: black;background-color: white;}#sk-container-id-3 pre{padding: 0;}#sk-container-id-3 div.sk-toggleable {background-color: white;}#sk-container-id-3 label.sk-toggleable__label {cursor: pointer;display: block;width: 100%;margin-bottom: 0;padding: 0.3em;box-sizing: border-box;text-align: center;}#sk-container-id-3 label.sk-toggleable__label-arrow:before {content: \"▸\";float: left;margin-right: 0.25em;color: #696969;}#sk-container-id-3 label.sk-toggleable__label-arrow:hover:before {color: black;}#sk-container-id-3 div.sk-estimator:hover label.sk-toggleable__label-arrow:before {color: black;}#sk-container-id-3 div.sk-toggleable__content {max-height: 0;max-width: 0;overflow: hidden;text-align: left;background-color: #f0f8ff;}#sk-container-id-3 div.sk-toggleable__content pre {margin: 0.2em;color: black;border-radius: 0.25em;background-color: #f0f8ff;}#sk-container-id-3 input.sk-toggleable__control:checked~div.sk-toggleable__content {max-height: 200px;max-width: 100%;overflow: auto;}#sk-container-id-3 input.sk-toggleable__control:checked~label.sk-toggleable__label-arrow:before {content: \"▾\";}#sk-container-id-3 div.sk-estimator input.sk-toggleable__control:checked~label.sk-toggleable__label {background-color: #d4ebff;}#sk-container-id-3 div.sk-label input.sk-toggleable__control:checked~label.sk-toggleable__label {background-color: #d4ebff;}#sk-container-id-3 input.sk-hidden--visually {border: 0;clip: rect(1px 1px 1px 1px);clip: rect(1px, 1px, 1px, 1px);height: 1px;margin: -1px;overflow: hidden;padding: 0;position: absolute;width: 1px;}#sk-container-id-3 div.sk-estimator {font-family: monospace;background-color: #f0f8ff;border: 1px dotted black;border-radius: 0.25em;box-sizing: border-box;margin-bottom: 0.5em;}#sk-container-id-3 div.sk-estimator:hover {background-color: #d4ebff;}#sk-container-id-3 div.sk-parallel-item::after {content: \"\";width: 100%;border-bottom: 1px solid gray;flex-grow: 1;}#sk-container-id-3 div.sk-label:hover label.sk-toggleable__label {background-color: #d4ebff;}#sk-container-id-3 div.sk-serial::before {content: \"\";position: absolute;border-left: 1px solid gray;box-sizing: border-box;top: 0;bottom: 0;left: 50%;z-index: 0;}#sk-container-id-3 div.sk-serial {display: flex;flex-direction: column;align-items: center;background-color: white;padding-right: 0.2em;padding-left: 0.2em;position: relative;}#sk-container-id-3 div.sk-item {position: relative;z-index: 1;}#sk-container-id-3 div.sk-parallel {display: flex;align-items: stretch;justify-content: center;background-color: white;position: relative;}#sk-container-id-3 div.sk-item::before, #sk-container-id-3 div.sk-parallel-item::before {content: \"\";position: absolute;border-left: 1px solid gray;box-sizing: border-box;top: 0;bottom: 0;left: 50%;z-index: -1;}#sk-container-id-3 div.sk-parallel-item {display: flex;flex-direction: column;z-index: 1;position: relative;background-color: white;}#sk-container-id-3 div.sk-parallel-item:first-child::after {align-self: flex-end;width: 50%;}#sk-container-id-3 div.sk-parallel-item:last-child::after {align-self: flex-start;width: 50%;}#sk-container-id-3 div.sk-parallel-item:only-child::after {width: 0;}#sk-container-id-3 div.sk-dashed-wrapped {border: 1px dashed gray;margin: 0 0.4em 0.5em 0.4em;box-sizing: border-box;padding-bottom: 0.4em;background-color: white;}#sk-container-id-3 div.sk-label label {font-family: monospace;font-weight: bold;display: inline-block;line-height: 1.2em;}#sk-container-id-3 div.sk-label-container {text-align: center;}#sk-container-id-3 div.sk-container {/* jupyter's `normalize.less` sets `[hidden] { display: none; }` but bootstrap.min.css set `[hidden] { display: none !important; }` so we also need the `!important` here to be able to override the default hidden behavior on the sphinx rendered scikit-learn.org. See: https://github.com/scikit-learn/scikit-learn/issues/21755 */display: inline-block !important;position: relative;}#sk-container-id-3 div.sk-text-repr-fallback {display: none;}</style><div id=\"sk-container-id-3\" class=\"sk-top-container\"><div class=\"sk-text-repr-fallback\"><pre>Lasso(alpha=1)</pre><b>In a Jupyter environment, please rerun this cell to show the HTML representation or trust the notebook. <br />On GitHub, the HTML representation is unable to render, please try loading this page with nbviewer.org.</b></div><div class=\"sk-container\" hidden><div class=\"sk-item\"><div class=\"sk-estimator sk-toggleable\"><input class=\"sk-toggleable__control sk-hidden--visually\" id=\"sk-estimator-id-3\" type=\"checkbox\" checked><label for=\"sk-estimator-id-3\" class=\"sk-toggleable__label sk-toggleable__label-arrow\">Lasso</label><div class=\"sk-toggleable__content\"><pre>Lasso(alpha=1)</pre></div></div></div></div></div>"
      ],
      "text/plain": [
       "Lasso(alpha=1)"
      ]
     },
     "execution_count": 52,
     "metadata": {},
     "output_type": "execute_result"
    }
   ],
   "source": [
    "# pemodelan dg regresi lasso\n",
    "from sklearn.linear_model import Lasso\n",
    "\n",
    "model_lasso = Lasso(alpha=1)\n",
    "model_lasso.fit(x_train,y_train)"
   ]
  },
  {
   "cell_type": "code",
   "execution_count": 53,
   "id": "d6fd00d7-a11b-49b4-881b-8b5881be2794",
   "metadata": {},
   "outputs": [
    {
     "name": "stdout",
     "output_type": "stream",
     "text": [
      "Performa model lasso untuk data training adalah\n",
      "--------------------------------------------------------------\n",
      "RMSE adalah 2008.6979190800942\n",
      "R2 adalah 0.9368992334821409\n",
      "--------------------------------------------------------------\n"
     ]
    }
   ],
   "source": [
    "# Evaluasi model untuk data training\n",
    "y_train_predict_lasso = model_lasso.predict(x_train)\n",
    "rmse  = (np.sqrt(mean_squared_error(y_train, y_train_predict_lasso)))\n",
    "r2 = r2_score(y_train, y_train_predict_lasso)\n",
    "print(\"Performa model lasso untuk data training adalah\")\n",
    "print(\"--------------------------------------------------------------\")\n",
    "print(\"RMSE adalah {}\".format(rmse))\n",
    "print(\"R2 adalah {}\".format(r2))\n",
    "print(\"--------------------------------------------------------------\")"
   ]
  },
  {
   "cell_type": "code",
   "execution_count": 54,
   "id": "c9d15c5c-1905-43ad-a7bd-0e4fac4046cc",
   "metadata": {},
   "outputs": [
    {
     "name": "stdout",
     "output_type": "stream",
     "text": [
      "Performa model lasso untuk data testing adalah\n",
      "-----------------------------------------\n",
      "RMSE adalah 3859.3044418593395\n",
      "R2 adalah 0.777358465142765\n",
      "-----------------------------------------\n"
     ]
    }
   ],
   "source": [
    "# Evaluasi model untuk data testing (Regresi Linear)\n",
    "y_test_predict_lasso = model_lasso.predict(x_test)\n",
    "rmse  = (np.sqrt(mean_squared_error(y_test, y_test_predict_lasso)))\n",
    "r2 = r2_score(y_test, y_test_predict_lasso)\n",
    "print(\"Performa model lasso untuk data testing adalah\")\n",
    "print(\"-----------------------------------------\")\n",
    "print(\"RMSE adalah {}\".format(rmse))\n",
    "print(\"R2 adalah {}\".format(r2))\n",
    "print(\"-----------------------------------------\")"
   ]
  },
  {
   "cell_type": "markdown",
   "id": "6d1b5dc0-d985-437a-9453-265be77d7b55",
   "metadata": {},
   "source": [
    "## Kesimpulan : Dari hasil evaluasi perbandingan model Regresi linear, polinomial, ridge, dan lasso didapatkan hasil bahwa untuk model terbaiknya adalah algoritma dengan model regresi linear sebesar (0,779) untuk hasil data testingnya, sehingga pada tahap selanjutnya di modeling dan pembuatan prediksi akan menggunakan algoritma regresi liniear "
   ]
  },
  {
   "cell_type": "markdown",
   "id": "9598af6a-e52d-4000-a6f3-cde8f29f52d5",
   "metadata": {},
   "source": [
    "Step 8 : Modeling and Prediction With Linear Regresion\n",
    "======================="
   ]
  },
  {
   "cell_type": "code",
   "execution_count": 63,
   "id": "b0a986c4-6bf1-4723-b182-0c0c39e72339",
   "metadata": {},
   "outputs": [],
   "source": [
    "sig_col = ['price', 'wheelbase','curbweight', 'enginesize', 'boreratio','horsepower', \n",
    "                    'citympg','highwaympg', 'carlength','carwidth']"
   ]
  },
  {
   "cell_type": "code",
   "execution_count": 64,
   "id": "2b3f1cbf-69f3-4007-aefb-98f51094397e",
   "metadata": {},
   "outputs": [
    {
     "data": {
      "text/html": [
       "<div>\n",
       "<style scoped>\n",
       "    .dataframe tbody tr th:only-of-type {\n",
       "        vertical-align: middle;\n",
       "    }\n",
       "\n",
       "    .dataframe tbody tr th {\n",
       "        vertical-align: top;\n",
       "    }\n",
       "\n",
       "    .dataframe thead th {\n",
       "        text-align: right;\n",
       "    }\n",
       "</style>\n",
       "<table border=\"1\" class=\"dataframe\">\n",
       "  <thead>\n",
       "    <tr style=\"text-align: right;\">\n",
       "      <th></th>\n",
       "      <th>price</th>\n",
       "      <th>wheelbase</th>\n",
       "      <th>curbweight</th>\n",
       "      <th>enginesize</th>\n",
       "      <th>boreratio</th>\n",
       "      <th>horsepower</th>\n",
       "      <th>citympg</th>\n",
       "      <th>highwaympg</th>\n",
       "      <th>carlength</th>\n",
       "      <th>carwidth</th>\n",
       "    </tr>\n",
       "  </thead>\n",
       "  <tbody>\n",
       "    <tr>\n",
       "      <th>0</th>\n",
       "      <td>0.207959</td>\n",
       "      <td>0.058309</td>\n",
       "      <td>0.411171</td>\n",
       "      <td>0.260377</td>\n",
       "      <td>0.664286</td>\n",
       "      <td>0.294393</td>\n",
       "      <td>21</td>\n",
       "      <td>27</td>\n",
       "      <td>0.413433</td>\n",
       "      <td>0.324786</td>\n",
       "    </tr>\n",
       "    <tr>\n",
       "      <th>1</th>\n",
       "      <td>0.282558</td>\n",
       "      <td>0.058309</td>\n",
       "      <td>0.411171</td>\n",
       "      <td>0.260377</td>\n",
       "      <td>0.664286</td>\n",
       "      <td>0.294393</td>\n",
       "      <td>21</td>\n",
       "      <td>27</td>\n",
       "      <td>0.413433</td>\n",
       "      <td>0.324786</td>\n",
       "    </tr>\n",
       "    <tr>\n",
       "      <th>2</th>\n",
       "      <td>0.282558</td>\n",
       "      <td>0.230321</td>\n",
       "      <td>0.517843</td>\n",
       "      <td>0.343396</td>\n",
       "      <td>0.100000</td>\n",
       "      <td>0.495327</td>\n",
       "      <td>19</td>\n",
       "      <td>26</td>\n",
       "      <td>0.449254</td>\n",
       "      <td>0.444444</td>\n",
       "    </tr>\n",
       "    <tr>\n",
       "      <th>3</th>\n",
       "      <td>0.219254</td>\n",
       "      <td>0.384840</td>\n",
       "      <td>0.329325</td>\n",
       "      <td>0.181132</td>\n",
       "      <td>0.464286</td>\n",
       "      <td>0.252336</td>\n",
       "      <td>24</td>\n",
       "      <td>30</td>\n",
       "      <td>0.529851</td>\n",
       "      <td>0.504274</td>\n",
       "    </tr>\n",
       "    <tr>\n",
       "      <th>4</th>\n",
       "      <td>0.306142</td>\n",
       "      <td>0.373178</td>\n",
       "      <td>0.518231</td>\n",
       "      <td>0.283019</td>\n",
       "      <td>0.464286</td>\n",
       "      <td>0.313084</td>\n",
       "      <td>18</td>\n",
       "      <td>22</td>\n",
       "      <td>0.529851</td>\n",
       "      <td>0.521368</td>\n",
       "    </tr>\n",
       "    <tr>\n",
       "      <th>...</th>\n",
       "      <td>...</td>\n",
       "      <td>...</td>\n",
       "      <td>...</td>\n",
       "      <td>...</td>\n",
       "      <td>...</td>\n",
       "      <td>...</td>\n",
       "      <td>...</td>\n",
       "      <td>...</td>\n",
       "      <td>...</td>\n",
       "      <td>...</td>\n",
       "    </tr>\n",
       "    <tr>\n",
       "      <th>200</th>\n",
       "      <td>0.291123</td>\n",
       "      <td>0.655977</td>\n",
       "      <td>0.567882</td>\n",
       "      <td>0.301887</td>\n",
       "      <td>0.885714</td>\n",
       "      <td>0.308411</td>\n",
       "      <td>23</td>\n",
       "      <td>28</td>\n",
       "      <td>0.711940</td>\n",
       "      <td>0.735043</td>\n",
       "    </tr>\n",
       "    <tr>\n",
       "      <th>201</th>\n",
       "      <td>0.345738</td>\n",
       "      <td>0.655977</td>\n",
       "      <td>0.605508</td>\n",
       "      <td>0.301887</td>\n",
       "      <td>0.885714</td>\n",
       "      <td>0.523364</td>\n",
       "      <td>19</td>\n",
       "      <td>25</td>\n",
       "      <td>0.711940</td>\n",
       "      <td>0.726496</td>\n",
       "    </tr>\n",
       "    <tr>\n",
       "      <th>202</th>\n",
       "      <td>0.406311</td>\n",
       "      <td>0.655977</td>\n",
       "      <td>0.591156</td>\n",
       "      <td>0.422642</td>\n",
       "      <td>0.742857</td>\n",
       "      <td>0.401869</td>\n",
       "      <td>18</td>\n",
       "      <td>23</td>\n",
       "      <td>0.711940</td>\n",
       "      <td>0.735043</td>\n",
       "    </tr>\n",
       "    <tr>\n",
       "      <th>203</th>\n",
       "      <td>0.430763</td>\n",
       "      <td>0.655977</td>\n",
       "      <td>0.670675</td>\n",
       "      <td>0.316981</td>\n",
       "      <td>0.335714</td>\n",
       "      <td>0.271028</td>\n",
       "      <td>26</td>\n",
       "      <td>27</td>\n",
       "      <td>0.711940</td>\n",
       "      <td>0.735043</td>\n",
       "    </tr>\n",
       "    <tr>\n",
       "      <th>204</th>\n",
       "      <td>0.434611</td>\n",
       "      <td>0.655977</td>\n",
       "      <td>0.610551</td>\n",
       "      <td>0.301887</td>\n",
       "      <td>0.885714</td>\n",
       "      <td>0.308411</td>\n",
       "      <td>19</td>\n",
       "      <td>25</td>\n",
       "      <td>0.711940</td>\n",
       "      <td>0.735043</td>\n",
       "    </tr>\n",
       "  </tbody>\n",
       "</table>\n",
       "<p>195 rows × 10 columns</p>\n",
       "</div>"
      ],
      "text/plain": [
       "        price  wheelbase  curbweight  enginesize  boreratio  horsepower  \\\n",
       "0    0.207959   0.058309    0.411171    0.260377   0.664286    0.294393   \n",
       "1    0.282558   0.058309    0.411171    0.260377   0.664286    0.294393   \n",
       "2    0.282558   0.230321    0.517843    0.343396   0.100000    0.495327   \n",
       "3    0.219254   0.384840    0.329325    0.181132   0.464286    0.252336   \n",
       "4    0.306142   0.373178    0.518231    0.283019   0.464286    0.313084   \n",
       "..        ...        ...         ...         ...        ...         ...   \n",
       "200  0.291123   0.655977    0.567882    0.301887   0.885714    0.308411   \n",
       "201  0.345738   0.655977    0.605508    0.301887   0.885714    0.523364   \n",
       "202  0.406311   0.655977    0.591156    0.422642   0.742857    0.401869   \n",
       "203  0.430763   0.655977    0.670675    0.316981   0.335714    0.271028   \n",
       "204  0.434611   0.655977    0.610551    0.301887   0.885714    0.308411   \n",
       "\n",
       "     citympg  highwaympg  carlength  carwidth  \n",
       "0         21          27   0.413433  0.324786  \n",
       "1         21          27   0.413433  0.324786  \n",
       "2         19          26   0.449254  0.444444  \n",
       "3         24          30   0.529851  0.504274  \n",
       "4         18          22   0.529851  0.521368  \n",
       "..       ...         ...        ...       ...  \n",
       "200       23          28   0.711940  0.735043  \n",
       "201       19          25   0.711940  0.726496  \n",
       "202       18          23   0.711940  0.735043  \n",
       "203       26          27   0.711940  0.735043  \n",
       "204       19          25   0.711940  0.735043  \n",
       "\n",
       "[195 rows x 10 columns]"
      ]
     },
     "execution_count": 64,
     "metadata": {},
     "output_type": "execute_result"
    }
   ],
   "source": [
    "df_auto = dfdrop[sig_col]\n",
    "df_auto"
   ]
  },
  {
   "cell_type": "code",
   "execution_count": 65,
   "id": "11e44922-b849-4c93-8e98-16945917bfe7",
   "metadata": {},
   "outputs": [],
   "source": [
    "# We specify this so that the train and test data set always have the same rows, respectively\n",
    "# We divide the df into 70/30 ratio\n",
    "\n",
    "np.random.seed(0)\n",
    "df_train, df_test = train_test_split(df_auto, train_size = 0.7, test_size = 0.3, random_state = 100)"
   ]
  },
  {
   "cell_type": "code",
   "execution_count": 66,
   "id": "9145141e-b81e-46f6-84c4-470a1d71a816",
   "metadata": {},
   "outputs": [
    {
     "data": {
      "text/html": [
       "<div>\n",
       "<style scoped>\n",
       "    .dataframe tbody tr th:only-of-type {\n",
       "        vertical-align: middle;\n",
       "    }\n",
       "\n",
       "    .dataframe tbody tr th {\n",
       "        vertical-align: top;\n",
       "    }\n",
       "\n",
       "    .dataframe thead th {\n",
       "        text-align: right;\n",
       "    }\n",
       "</style>\n",
       "<table border=\"1\" class=\"dataframe\">\n",
       "  <thead>\n",
       "    <tr style=\"text-align: right;\">\n",
       "      <th></th>\n",
       "      <th>price</th>\n",
       "      <th>wheelbase</th>\n",
       "      <th>curbweight</th>\n",
       "      <th>enginesize</th>\n",
       "      <th>boreratio</th>\n",
       "      <th>horsepower</th>\n",
       "      <th>citympg</th>\n",
       "      <th>highwaympg</th>\n",
       "      <th>carlength</th>\n",
       "      <th>carwidth</th>\n",
       "    </tr>\n",
       "  </thead>\n",
       "  <tbody>\n",
       "    <tr>\n",
       "      <th>3</th>\n",
       "      <td>0.219254</td>\n",
       "      <td>0.384840</td>\n",
       "      <td>0.329325</td>\n",
       "      <td>0.181132</td>\n",
       "      <td>0.464286</td>\n",
       "      <td>0.252336</td>\n",
       "      <td>24</td>\n",
       "      <td>30</td>\n",
       "      <td>0.529851</td>\n",
       "      <td>0.504274</td>\n",
       "    </tr>\n",
       "    <tr>\n",
       "      <th>195</th>\n",
       "      <td>0.205973</td>\n",
       "      <td>0.516035</td>\n",
       "      <td>0.599690</td>\n",
       "      <td>0.301887</td>\n",
       "      <td>0.885714</td>\n",
       "      <td>0.308411</td>\n",
       "      <td>23</td>\n",
       "      <td>28</td>\n",
       "      <td>0.711940</td>\n",
       "      <td>0.589744</td>\n",
       "    </tr>\n",
       "    <tr>\n",
       "      <th>27</th>\n",
       "      <td>0.085398</td>\n",
       "      <td>0.206997</td>\n",
       "      <td>0.272692</td>\n",
       "      <td>0.139623</td>\n",
       "      <td>0.350000</td>\n",
       "      <td>0.252336</td>\n",
       "      <td>24</td>\n",
       "      <td>30</td>\n",
       "      <td>0.241791</td>\n",
       "      <td>0.299145</td>\n",
       "    </tr>\n",
       "    <tr>\n",
       "      <th>127</th>\n",
       "      <td>0.717690</td>\n",
       "      <td>0.084548</td>\n",
       "      <td>0.491854</td>\n",
       "      <td>0.501887</td>\n",
       "      <td>0.857143</td>\n",
       "      <td>0.742991</td>\n",
       "      <td>17</td>\n",
       "      <td>25</td>\n",
       "      <td>0.414925</td>\n",
       "      <td>0.401709</td>\n",
       "    </tr>\n",
       "    <tr>\n",
       "      <th>133</th>\n",
       "      <td>0.175066</td>\n",
       "      <td>0.364431</td>\n",
       "      <td>0.468192</td>\n",
       "      <td>0.226415</td>\n",
       "      <td>0.714286</td>\n",
       "      <td>0.289720</td>\n",
       "      <td>21</td>\n",
       "      <td>28</td>\n",
       "      <td>0.679104</td>\n",
       "      <td>0.529915</td>\n",
       "    </tr>\n",
       "  </tbody>\n",
       "</table>\n",
       "</div>"
      ],
      "text/plain": [
       "        price  wheelbase  curbweight  enginesize  boreratio  horsepower  \\\n",
       "3    0.219254   0.384840    0.329325    0.181132   0.464286    0.252336   \n",
       "195  0.205973   0.516035    0.599690    0.301887   0.885714    0.308411   \n",
       "27   0.085398   0.206997    0.272692    0.139623   0.350000    0.252336   \n",
       "127  0.717690   0.084548    0.491854    0.501887   0.857143    0.742991   \n",
       "133  0.175066   0.364431    0.468192    0.226415   0.714286    0.289720   \n",
       "\n",
       "     citympg  highwaympg  carlength  carwidth  \n",
       "3         24          30   0.529851  0.504274  \n",
       "195       23          28   0.711940  0.589744  \n",
       "27        24          30   0.241791  0.299145  \n",
       "127       17          25   0.414925  0.401709  \n",
       "133       21          28   0.679104  0.529915  "
      ]
     },
     "execution_count": 66,
     "metadata": {},
     "output_type": "execute_result"
    }
   ],
   "source": [
    "df_train.head()"
   ]
  },
  {
   "cell_type": "code",
   "execution_count": 67,
   "id": "4b591f55-c2de-47c9-be1c-2beda10e151c",
   "metadata": {},
   "outputs": [
    {
     "data": {
      "image/png": "[encoded data removed]",
      "text/plain": [
       "<Figure size 1440x1440 with 2 Axes>"
      ]
     },
     "metadata": {
      "needs_background": "light"
     },
     "output_type": "display_data"
    }
   ],
   "source": [
    "# Let's check the correlation coefficients to see which variables are highly correlated\n",
    "\n",
    "plt.figure(figsize = (20, 20))\n",
    "sns.heatmap(df_train.corr(), cmap=\"RdYlGn\")\n",
    "plt.show()"
   ]
  },
  {
   "cell_type": "code",
   "execution_count": 71,
   "id": "bd286785-8607-4d1e-83c7-50b36090251c",
   "metadata": {},
   "outputs": [
    {
     "ename": "IndexError",
     "evalue": "index 2 is out of bounds for axis 0 with size 2",
     "output_type": "error",
     "traceback": [
      "\u001b[1;31m---------------------------------------------------------------------------\u001b[0m",
      "\u001b[1;31mIndexError\u001b[0m                                Traceback (most recent call last)",
      "\u001b[1;32m<ipython-input-71-e6bfb874d80d>\u001b[0m in \u001b[0;36m<module>\u001b[1;34m\u001b[0m\n\u001b[0;32m      4\u001b[0m \u001b[1;32mfor\u001b[0m \u001b[0mseg\u001b[0m\u001b[1;33m,\u001b[0m\u001b[0mcol\u001b[0m \u001b[1;32min\u001b[0m \u001b[0menumerate\u001b[0m\u001b[1;33m(\u001b[0m\u001b[0msig_col\u001b[0m\u001b[1;33m)\u001b[0m\u001b[1;33m:\u001b[0m\u001b[1;33m\u001b[0m\u001b[1;33m\u001b[0m\u001b[0m\n\u001b[0;32m      5\u001b[0m     \u001b[0mx\u001b[0m\u001b[1;33m,\u001b[0m\u001b[0my\u001b[0m \u001b[1;33m=\u001b[0m \u001b[0mseg\u001b[0m\u001b[1;33m//\u001b[0m\u001b[1;36m3\u001b[0m\u001b[1;33m,\u001b[0m\u001b[0mseg\u001b[0m\u001b[1;33m%\u001b[0m\u001b[1;36m3\u001b[0m\u001b[1;33m\u001b[0m\u001b[1;33m\u001b[0m\u001b[0m\n\u001b[1;32m----> 6\u001b[1;33m     \u001b[0man\u001b[0m\u001b[1;33m=\u001b[0m\u001b[0msns\u001b[0m\u001b[1;33m.\u001b[0m\u001b[0mscatterplot\u001b[0m\u001b[1;33m(\u001b[0m\u001b[0mx\u001b[0m\u001b[1;33m=\u001b[0m\u001b[0mcol\u001b[0m\u001b[1;33m,\u001b[0m \u001b[0my\u001b[0m\u001b[1;33m=\u001b[0m\u001b[1;34m'price'\u001b[0m \u001b[1;33m,\u001b[0m\u001b[0mdata\u001b[0m\u001b[1;33m=\u001b[0m\u001b[0mdf_auto\u001b[0m\u001b[1;33m,\u001b[0m \u001b[0max\u001b[0m\u001b[1;33m=\u001b[0m\u001b[0maxes\u001b[0m\u001b[1;33m[\u001b[0m\u001b[0mx\u001b[0m\u001b[1;33m,\u001b[0m\u001b[0my\u001b[0m\u001b[1;33m]\u001b[0m\u001b[1;33m)\u001b[0m\u001b[1;33m\u001b[0m\u001b[1;33m\u001b[0m\u001b[0m\n\u001b[0m\u001b[0;32m      7\u001b[0m     \u001b[0mplt\u001b[0m\u001b[1;33m.\u001b[0m\u001b[0msetp\u001b[0m\u001b[1;33m(\u001b[0m\u001b[0man\u001b[0m\u001b[1;33m.\u001b[0m\u001b[0mget_xticklabels\u001b[0m\u001b[1;33m(\u001b[0m\u001b[1;33m)\u001b[0m\u001b[1;33m,\u001b[0m \u001b[0mrotation\u001b[0m\u001b[1;33m=\u001b[0m\u001b[1;36m45\u001b[0m\u001b[1;33m)\u001b[0m\u001b[1;33m\u001b[0m\u001b[1;33m\u001b[0m\u001b[0m\n\u001b[0;32m      8\u001b[0m \u001b[1;33m\u001b[0m\u001b[0m\n",
      "\u001b[1;31mIndexError\u001b[0m: index 2 is out of bounds for axis 0 with size 2"
     ]
    },
    {
     "data": {
      "image/png": "[encoded data removed]",
      "text/plain": [
       "<Figure size 1296x1080 with 6 Axes>"
      ]
     },
     "metadata": {
      "needs_background": "light"
     },
     "output_type": "display_data"
    }
   ],
   "source": [
    "# Scatter Plot of independent variables vs dependent variables\n",
    "\n",
    "fig,axes = plt.subplots(2,3,figsize=(18,15))\n",
    "for seg,col in enumerate(sig_col):\n",
    "    x,y = seg//3,seg%3\n",
    "    an=sns.scatterplot(x=col, y='price' ,data=df_auto, ax=axes[x,y])\n",
    "    plt.setp(an.get_xticklabels(), rotation=45)\n",
    "   \n",
    "plt.subplots_adjust(hspace=0.5)"
   ]
  },
  {
   "cell_type": "code",
   "execution_count": 75,
   "id": "8f1e015d-f7a2-44dc-8cf7-c9d34b6c2cbe",
   "metadata": {},
   "outputs": [],
   "source": [
    "# import all libraries and dependencies for machine learning\n",
    "from sklearn.model_selection import train_test_split\n",
    "from sklearn import preprocessing\n",
    "from sklearn.base import TransformerMixin\n",
    "from sklearn.model_selection import train_test_split\n",
    "from sklearn.preprocessing import MinMaxScaler\n",
    "import statsmodels.api as sm\n",
    "from sklearn.feature_selection import RFE\n",
    "from sklearn.linear_model import LinearRegression\n",
    "from statsmodels.stats.outliers_influence import variance_inflation_factor\n",
    "from sklearn.metrics import r2_score"
   ]
  },
  {
   "cell_type": "code",
   "execution_count": 72,
   "id": "8c898ae0-0b10-4e8c-a05e-f612ce5cea5e",
   "metadata": {},
   "outputs": [],
   "source": [
    "y_train = df_train.pop('price')\n",
    "X_train = df_train"
   ]
  },
  {
   "cell_type": "code",
   "execution_count": 73,
   "id": "b71d00e0-e3b9-40d3-b53e-cdc2e7bf1c72",
   "metadata": {},
   "outputs": [],
   "source": [
    "X_train_1 = X_train['horsepower']"
   ]
  },
  {
   "cell_type": "code",
   "execution_count": 76,
   "id": "db509327-3f4c-49de-aa37-0e9db553939b",
   "metadata": {},
   "outputs": [],
   "source": [
    "# Add a constant\n",
    "X_train_1c = sm.add_constant(X_train_1)\n",
    "\n",
    "# Create a first fitted model\n",
    "lr_1 = sm.OLS(y_train, X_train_1c).fit()"
   ]
  },
  {
   "cell_type": "code",
   "execution_count": 78,
   "id": "d8a4679e-8bf5-4d34-a36a-6ae760b6ef21",
   "metadata": {},
   "outputs": [
    {
     "data": {
      "text/plain": [
       "const        -0.045803\n",
       "horsepower    0.975476\n",
       "dtype: float64"
      ]
     },
     "execution_count": 78,
     "metadata": {},
     "output_type": "execute_result"
    }
   ],
   "source": [
    "# Check parameters created\n",
    "\n",
    "lr_1.params"
   ]
  },
  {
   "cell_type": "code",
   "execution_count": 79,
   "id": "6b9c5e21-0847-4866-9182-1996c2e93c42",
   "metadata": {},
   "outputs": [
    {
     "data": {
      "image/png": "[encoded data removed]",
      "text/plain": [
       "<Figure size 1080x576 with 1 Axes>"
      ]
     },
     "metadata": {
      "needs_background": "light"
     },
     "output_type": "display_data"
    }
   ],
   "source": [
    "# Let's visualise the data with a scatter plot and the fitted regression line\n",
    "\n",
    "plt.scatter(X_train_1c.iloc[:, 1], y_train)\n",
    "plt.plot(X_train_1c.iloc[:, 1], 0.8062*X_train_1c.iloc[:, 1], 'r')\n",
    "plt.show()"
   ]
  },
  {
   "cell_type": "code",
   "execution_count": 80,
   "id": "8f1a6afc-9751-4923-8dc2-bdf311f46509",
   "metadata": {},
   "outputs": [
    {
     "name": "stdout",
     "output_type": "stream",
     "text": [
      "                            OLS Regression Results                            \n",
      "==============================================================================\n",
      "Dep. Variable:                  price   R-squared:                       0.662\n",
      "Model:                            OLS   Adj. R-squared:                  0.659\n",
      "Method:                 Least Squares   F-statistic:                     262.0\n",
      "Date:                Sat, 01 Apr 2023   Prob (F-statistic):           2.49e-33\n",
      "Time:                        15:25:33   Log-Likelihood:                 100.59\n",
      "No. Observations:                 136   AIC:                            -197.2\n",
      "Df Residuals:                     134   BIC:                            -191.4\n",
      "Df Model:                           1                                         \n",
      "Covariance Type:            nonrobust                                         \n",
      "==============================================================================\n",
      "                 coef    std err          t      P>|t|      [0.025      0.975]\n",
      "------------------------------------------------------------------------------\n",
      "const         -0.0458      0.018     -2.510      0.013      -0.082      -0.010\n",
      "horsepower     0.9755      0.060     16.186      0.000       0.856       1.095\n",
      "==============================================================================\n",
      "Omnibus:                       18.478   Durbin-Watson:                   1.921\n",
      "Prob(Omnibus):                  0.000   Jarque-Bera (JB):               26.984\n",
      "Skew:                           0.711   Prob(JB):                     1.38e-06\n",
      "Kurtosis:                       4.654   Cond. No.                         6.44\n",
      "==============================================================================\n",
      "\n",
      "Notes:\n",
      "[1] Standard Errors assume that the covariance matrix of the errors is correctly specified.\n"
     ]
    }
   ],
   "source": [
    "# Print a summary of the linear regression model obtained\n",
    "print(lr_1.summary())"
   ]
  },
  {
   "cell_type": "code",
   "execution_count": 81,
   "id": "0a561c0e-7cd1-47ce-86cd-b9bf8a34909e",
   "metadata": {},
   "outputs": [],
   "source": [
    "# The R-squared value obtained is 0.66. \n",
    "# Since we have so many variables, we can clearly do better than this. \n",
    "# So let's go ahead and add the other highly correlated variable, i.e. curbweight."
   ]
  },
  {
   "cell_type": "code",
   "execution_count": 82,
   "id": "e90db898-2454-479d-aeea-572e8d2bd9a1",
   "metadata": {},
   "outputs": [],
   "source": [
    "X_train_2 = X_train[['horsepower', 'curbweight']]"
   ]
  },
  {
   "cell_type": "code",
   "execution_count": 83,
   "id": "a3c1a6cb-1e8d-4266-862f-03f9aa61f5ed",
   "metadata": {},
   "outputs": [],
   "source": [
    "# Add a constant\n",
    "X_train_2c = sm.add_constant(X_train_2)\n",
    "\n",
    "# Create a second fitted model\n",
    "lr_2 = sm.OLS(y_train, X_train_2c).fit()"
   ]
  },
  {
   "cell_type": "code",
   "execution_count": 84,
   "id": "4a25f5d9-e485-45d2-958c-76dcffbb7a28",
   "metadata": {},
   "outputs": [
    {
     "data": {
      "text/plain": [
       "const        -0.132251\n",
       "horsepower    0.544165\n",
       "curbweight    0.466520\n",
       "dtype: float64"
      ]
     },
     "execution_count": 84,
     "metadata": {},
     "output_type": "execute_result"
    }
   ],
   "source": [
    "lr_2.params"
   ]
  },
  {
   "cell_type": "code",
   "execution_count": 85,
   "id": "5816ee34-0e9b-4d29-a645-0ee282ff993d",
   "metadata": {},
   "outputs": [
    {
     "name": "stdout",
     "output_type": "stream",
     "text": [
      "                            OLS Regression Results                            \n",
      "==============================================================================\n",
      "Dep. Variable:                  price   R-squared:                       0.773\n",
      "Model:                            OLS   Adj. R-squared:                  0.769\n",
      "Method:                 Least Squares   F-statistic:                     226.1\n",
      "Date:                Sat, 01 Apr 2023   Prob (F-statistic):           1.61e-43\n",
      "Time:                        15:27:29   Log-Likelihood:                 127.66\n",
      "No. Observations:                 136   AIC:                            -249.3\n",
      "Df Residuals:                     133   BIC:                            -240.6\n",
      "Df Model:                           2                                         \n",
      "Covariance Type:            nonrobust                                         \n",
      "==============================================================================\n",
      "                 coef    std err          t      P>|t|      [0.025      0.975]\n",
      "------------------------------------------------------------------------------\n",
      "const         -0.1323      0.018     -7.170      0.000      -0.169      -0.096\n",
      "horsepower     0.5442      0.073      7.462      0.000       0.400       0.688\n",
      "curbweight     0.4665      0.058      8.065      0.000       0.352       0.581\n",
      "==============================================================================\n",
      "Omnibus:                       15.825   Durbin-Watson:                   2.014\n",
      "Prob(Omnibus):                  0.000   Jarque-Bera (JB):               26.662\n",
      "Skew:                           0.552   Prob(JB):                     1.62e-06\n",
      "Kurtosis:                       4.867   Cond. No.                         11.9\n",
      "==============================================================================\n",
      "\n",
      "Notes:\n",
      "[1] Standard Errors assume that the covariance matrix of the errors is correctly specified.\n"
     ]
    }
   ],
   "source": [
    "print(lr_2.summary())"
   ]
  },
  {
   "cell_type": "code",
   "execution_count": 86,
   "id": "3dad108a-1775-4fdd-abdc-1fac4594ca57",
   "metadata": {},
   "outputs": [],
   "source": [
    "# The r-square meningkat dari 0,66 menjadi 0,77\n",
    "# So lets add another correlated variable, i.e. enginesize"
   ]
  },
  {
   "cell_type": "code",
   "execution_count": 87,
   "id": "0863add7-c425-4141-a912-16af9c172061",
   "metadata": {},
   "outputs": [],
   "source": [
    "X_train_3 = X_train[['horsepower', 'curbweight', 'enginesize']]"
   ]
  },
  {
   "cell_type": "code",
   "execution_count": 88,
   "id": "bd0a5bc6-ef0d-4b2e-9ad8-ece81142f0f5",
   "metadata": {},
   "outputs": [],
   "source": [
    "# Add a constant\n",
    "X_train_3c = sm.add_constant(X_train_3)\n",
    "\n",
    "# Create a third fitted model\n",
    "lr_3 = sm.OLS(y_train, X_train_3c).fit()"
   ]
  },
  {
   "cell_type": "code",
   "execution_count": 89,
   "id": "78c9a118-3f26-4343-9814-4e519efa0211",
   "metadata": {},
   "outputs": [
    {
     "data": {
      "text/plain": [
       "const        -0.119735\n",
       "horsepower    0.226493\n",
       "curbweight    0.181695\n",
       "enginesize    0.746796\n",
       "dtype: float64"
      ]
     },
     "execution_count": 89,
     "metadata": {},
     "output_type": "execute_result"
    }
   ],
   "source": [
    "lr_3.params"
   ]
  },
  {
   "cell_type": "code",
   "execution_count": 90,
   "id": "6885b18b-d6a3-4820-a582-777b86458b77",
   "metadata": {},
   "outputs": [
    {
     "name": "stdout",
     "output_type": "stream",
     "text": [
      "                            OLS Regression Results                            \n",
      "==============================================================================\n",
      "Dep. Variable:                  price   R-squared:                       0.830\n",
      "Model:                            OLS   Adj. R-squared:                  0.826\n",
      "Method:                 Least Squares   F-statistic:                     214.1\n",
      "Date:                Sat, 01 Apr 2023   Prob (F-statistic):           1.63e-50\n",
      "Time:                        15:29:12   Log-Likelihood:                 147.21\n",
      "No. Observations:                 136   AIC:                            -286.4\n",
      "Df Residuals:                     132   BIC:                            -274.8\n",
      "Df Model:                           3                                         \n",
      "Covariance Type:            nonrobust                                         \n",
      "==============================================================================\n",
      "                 coef    std err          t      P>|t|      [0.025      0.975]\n",
      "------------------------------------------------------------------------------\n",
      "const         -0.1197      0.016     -7.416      0.000      -0.152      -0.088\n",
      "horsepower     0.2265      0.079      2.850      0.005       0.069       0.384\n",
      "curbweight     0.1817      0.066      2.747      0.007       0.051       0.313\n",
      "enginesize     0.7468      0.113      6.631      0.000       0.524       0.970\n",
      "==============================================================================\n",
      "Omnibus:                        7.237   Durbin-Watson:                   1.846\n",
      "Prob(Omnibus):                  0.027   Jarque-Bera (JB):               10.036\n",
      "Skew:                           0.264   Prob(JB):                      0.00662\n",
      "Kurtosis:                       4.221   Cond. No.                         21.1\n",
      "==============================================================================\n",
      "\n",
      "Notes:\n",
      "[1] Standard Errors assume that the covariance matrix of the errors is correctly specified.\n"
     ]
    }
   ],
   "source": [
    "print(lr_3.summary())"
   ]
  },
  {
   "cell_type": "code",
   "execution_count": 91,
   "id": "fdbad680-5f2d-41bc-a7f0-05aba22b8a08",
   "metadata": {},
   "outputs": [],
   "source": [
    "# R-Squared sudah meningkat menjadi 0.83\n",
    "# We have achieved a R-squared of 0.819 by manually picking the highly correlated variables. \n",
    "# Now lets use RFE to select the independent variables which accurately predicts the dependent variable price."
   ]
  },
  {
   "cell_type": "code",
   "execution_count": 92,
   "id": "c05d55d3-2359-46d6-8e65-581dc967b4d2",
   "metadata": {},
   "outputs": [],
   "source": [
    "# Running RFE with the output number of the variable equal to 15\n",
    "lm = LinearRegression()\n",
    "lm.fit(X_train, y_train)\n",
    "\n",
    "rfe = RFE(lm, 15)             \n",
    "rfe = rfe.fit(X_train, y_train)"
   ]
  },
  {
   "cell_type": "code",
   "execution_count": 93,
   "id": "d8631bc7-0557-4de4-ae65-6860bd0e19ca",
   "metadata": {},
   "outputs": [
    {
     "data": {
      "text/plain": [
       "[('wheelbase', True, 1),\n",
       " ('curbweight', True, 1),\n",
       " ('enginesize', True, 1),\n",
       " ('boreratio', True, 1),\n",
       " ('horsepower', True, 1),\n",
       " ('citympg', True, 1),\n",
       " ('highwaympg', True, 1),\n",
       " ('carlength', True, 1),\n",
       " ('carwidth', True, 1)]"
      ]
     },
     "execution_count": 93,
     "metadata": {},
     "output_type": "execute_result"
    }
   ],
   "source": [
    "list(zip(X_train.columns,rfe.support_,rfe.ranking_))"
   ]
  },
  {
   "cell_type": "code",
   "execution_count": 94,
   "id": "da2eb166-8d43-4c6e-a933-98e1485d7b02",
   "metadata": {},
   "outputs": [
    {
     "data": {
      "text/plain": [
       "Index(['wheelbase', 'curbweight', 'enginesize', 'boreratio', 'horsepower',\n",
       "       'citympg', 'highwaympg', 'carlength', 'carwidth'],\n",
       "      dtype='object')"
      ]
     },
     "execution_count": 94,
     "metadata": {},
     "output_type": "execute_result"
    }
   ],
   "source": [
    "# Selecting the variables which are in support\n",
    "\n",
    "col_sup = X_train.columns[rfe.support_]\n",
    "col_sup"
   ]
  },
  {
   "cell_type": "code",
   "execution_count": 95,
   "id": "a88fd7a9-f8d7-4fba-b2f1-07c2a495ed9c",
   "metadata": {},
   "outputs": [],
   "source": [
    "# Creating X_train dataframe with RFE selected variables\n",
    "\n",
    "X_train_rfe = X_train[col_sup]"
   ]
  },
  {
   "cell_type": "code",
   "execution_count": 96,
   "id": "b5226503-ed40-415d-8c53-72bb3403ee96",
   "metadata": {},
   "outputs": [],
   "source": [
    "# After passing the arbitary selected columns by RFE we will manually evaluate each models p-value and VIF value. \n",
    "# Unless we find the acceptable range for p-values and VIF we keep dropping the variables one at a time based on below criteria.\n",
    "\n",
    "# High p-value High VIF : Drop the variable\n",
    "# High p-value Low VIF or Low p-value High VIF : Drop the variable with high p-value first\n",
    "# Low p-value Low VIF : accept the variable"
   ]
  },
  {
   "cell_type": "code",
   "execution_count": 97,
   "id": "7bd7c24c-860f-4200-974e-3d9a8cdc12c9",
   "metadata": {},
   "outputs": [
    {
     "name": "stdout",
     "output_type": "stream",
     "text": [
      "                            OLS Regression Results                            \n",
      "==============================================================================\n",
      "Dep. Variable:                  price   R-squared:                       0.847\n",
      "Model:                            OLS   Adj. R-squared:                  0.836\n",
      "Method:                 Least Squares   F-statistic:                     77.62\n",
      "Date:                Sat, 01 Apr 2023   Prob (F-statistic):           4.34e-47\n",
      "Time:                        15:31:45   Log-Likelihood:                 154.65\n",
      "No. Observations:                 136   AIC:                            -289.3\n",
      "Df Residuals:                     126   BIC:                            -260.2\n",
      "Df Model:                           9                                         \n",
      "Covariance Type:            nonrobust                                         \n",
      "==============================================================================\n",
      "                 coef    std err          t      P>|t|      [0.025      0.975]\n",
      "------------------------------------------------------------------------------\n",
      "const         -0.2747      0.105     -2.618      0.010      -0.482      -0.067\n",
      "wheelbase      0.1703      0.105      1.616      0.109      -0.038       0.379\n",
      "curbweight     0.0404      0.113      0.358      0.721      -0.183       0.264\n",
      "enginesize     0.6563      0.114      5.743      0.000       0.430       0.882\n",
      "boreratio     -0.0262      0.048     -0.546      0.586      -0.121       0.069\n",
      "horsepower     0.3983      0.115      3.471      0.001       0.171       0.625\n",
      "citympg       -0.0014      0.006     -0.251      0.802      -0.012       0.010\n",
      "highwaympg     0.0045      0.005      0.876      0.383      -0.006       0.015\n",
      "carlength     -0.1047      0.113     -0.924      0.357      -0.329       0.120\n",
      "carwidth       0.1997      0.086      2.324      0.022       0.030       0.370\n",
      "==============================================================================\n",
      "Omnibus:                       11.904   Durbin-Watson:                   1.996\n",
      "Prob(Omnibus):                  0.003   Jarque-Bera (JB):               18.170\n",
      "Skew:                           0.443   Prob(JB):                     0.000113\n",
      "Kurtosis:                       4.556   Cond. No.                         924.\n",
      "==============================================================================\n",
      "\n",
      "Notes:\n",
      "[1] Standard Errors assume that the covariance matrix of the errors is correctly specified.\n"
     ]
    }
   ],
   "source": [
    "# Adding a constant variable and Build a first fitted model\n",
    "import statsmodels.api as sm  \n",
    "X_train_rfec = sm.add_constant(X_train_rfe)\n",
    "lm_rfe = sm.OLS(y_train,X_train_rfec).fit()\n",
    "\n",
    "#Summary of linear model\n",
    "print(lm_rfe.summary())"
   ]
  },
  {
   "cell_type": "code",
   "execution_count": 98,
   "id": "785e090e-287e-4d15-adf5-738e555e3af4",
   "metadata": {},
   "outputs": [
    {
     "data": {
      "text/html": [
       "<div>\n",
       "<style scoped>\n",
       "    .dataframe tbody tr th:only-of-type {\n",
       "        vertical-align: middle;\n",
       "    }\n",
       "\n",
       "    .dataframe tbody tr th {\n",
       "        vertical-align: top;\n",
       "    }\n",
       "\n",
       "    .dataframe thead th {\n",
       "        text-align: right;\n",
       "    }\n",
       "</style>\n",
       "<table border=\"1\" class=\"dataframe\">\n",
       "  <thead>\n",
       "    <tr style=\"text-align: right;\">\n",
       "      <th></th>\n",
       "      <th>Features</th>\n",
       "      <th>VIF</th>\n",
       "    </tr>\n",
       "  </thead>\n",
       "  <tbody>\n",
       "    <tr>\n",
       "      <th>6</th>\n",
       "      <td>highwaympg</td>\n",
       "      <td>451.40</td>\n",
       "    </tr>\n",
       "    <tr>\n",
       "      <th>5</th>\n",
       "      <td>citympg</td>\n",
       "      <td>427.32</td>\n",
       "    </tr>\n",
       "    <tr>\n",
       "      <th>7</th>\n",
       "      <td>carlength</td>\n",
       "      <td>73.43</td>\n",
       "    </tr>\n",
       "    <tr>\n",
       "      <th>1</th>\n",
       "      <td>curbweight</td>\n",
       "      <td>57.35</td>\n",
       "    </tr>\n",
       "    <tr>\n",
       "      <th>8</th>\n",
       "      <td>carwidth</td>\n",
       "      <td>40.67</td>\n",
       "    </tr>\n",
       "    <tr>\n",
       "      <th>0</th>\n",
       "      <td>wheelbase</td>\n",
       "      <td>39.54</td>\n",
       "    </tr>\n",
       "    <tr>\n",
       "      <th>2</th>\n",
       "      <td>enginesize</td>\n",
       "      <td>22.60</td>\n",
       "    </tr>\n",
       "    <tr>\n",
       "      <th>4</th>\n",
       "      <td>horsepower</td>\n",
       "      <td>18.91</td>\n",
       "    </tr>\n",
       "    <tr>\n",
       "      <th>3</th>\n",
       "      <td>boreratio</td>\n",
       "      <td>16.72</td>\n",
       "    </tr>\n",
       "  </tbody>\n",
       "</table>\n",
       "</div>"
      ],
      "text/plain": [
       "     Features     VIF\n",
       "6  highwaympg  451.40\n",
       "5     citympg  427.32\n",
       "7   carlength   73.43\n",
       "1  curbweight   57.35\n",
       "8    carwidth   40.67\n",
       "0   wheelbase   39.54\n",
       "2  enginesize   22.60\n",
       "4  horsepower   18.91\n",
       "3   boreratio   16.72"
      ]
     },
     "execution_count": 98,
     "metadata": {},
     "output_type": "execute_result"
    }
   ],
   "source": [
    "# Checking VIF\n",
    "\n",
    "# Create a dataframe that will contain the names of all the feature variables and their respective VIFs\n",
    "vif = pd.DataFrame()\n",
    "vif['Features'] = X_train_rfe.columns\n",
    "vif['VIF'] = [variance_inflation_factor(X_train_rfe.values, i) for i in range(X_train_rfe.shape[1])]\n",
    "vif['VIF'] = round(vif['VIF'], 2)\n",
    "vif = vif.sort_values(by = \"VIF\", ascending = False)\n",
    "vif"
   ]
  },
  {
   "cell_type": "code",
   "execution_count": 99,
   "id": "b9b69b2c-97e7-4a35-a9ea-3bc80f58098e",
   "metadata": {},
   "outputs": [],
   "source": [
    "# We generally want a VIF that is less than 5. So there are clearly some variables we need to drop"
   ]
  },
  {
   "cell_type": "code",
   "execution_count": null,
   "id": "6b3ca979-eb3e-4625-978a-f15e6e83fb19",
   "metadata": {},
   "outputs": [],
   "source": [
    "# Dropping the variable and updating the model\n",
    "# Dropping citympg beacuse its p-value is 0.802 and we want p-value less than 0.05 and hence rebuilding the model"
   ]
  },
  {
   "cell_type": "code",
   "execution_count": 100,
   "id": "6a8e8be8-b7e8-4342-bf5c-98d45acd120a",
   "metadata": {},
   "outputs": [
    {
     "name": "stdout",
     "output_type": "stream",
     "text": [
      "                            OLS Regression Results                            \n",
      "==============================================================================\n",
      "Dep. Variable:                  price   R-squared:                       0.847\n",
      "Model:                            OLS   Adj. R-squared:                  0.837\n",
      "Method:                 Least Squares   F-statistic:                     87.97\n",
      "Date:                Sat, 01 Apr 2023   Prob (F-statistic):           4.61e-48\n",
      "Time:                        15:35:24   Log-Likelihood:                 154.62\n",
      "No. Observations:                 136   AIC:                            -291.2\n",
      "Df Residuals:                     127   BIC:                            -265.0\n",
      "Df Model:                           8                                         \n",
      "Covariance Type:            nonrobust                                         \n",
      "==============================================================================\n",
      "                 coef    std err          t      P>|t|      [0.025      0.975]\n",
      "------------------------------------------------------------------------------\n",
      "const         -0.2765      0.104     -2.650      0.009      -0.483      -0.070\n",
      "wheelbase      0.1649      0.103      1.604      0.111      -0.038       0.368\n",
      "curbweight     0.0360      0.111      0.324      0.746      -0.184       0.256\n",
      "enginesize     0.6540      0.113      5.763      0.000       0.429       0.879\n",
      "boreratio     -0.0262      0.048     -0.547      0.585      -0.121       0.069\n",
      "horsepower     0.4079      0.108      3.785      0.000       0.195       0.621\n",
      "highwaympg     0.0034      0.002      1.407      0.162      -0.001       0.008\n",
      "carlength     -0.0983      0.110     -0.893      0.373      -0.316       0.119\n",
      "carwidth       0.2002      0.086      2.339      0.021       0.031       0.370\n",
      "==============================================================================\n",
      "Omnibus:                       11.933   Durbin-Watson:                   1.992\n",
      "Prob(Omnibus):                  0.003   Jarque-Bera (JB):               18.368\n",
      "Skew:                           0.440   Prob(JB):                     0.000103\n",
      "Kurtosis:                       4.570   Cond. No.                         710.\n",
      "==============================================================================\n",
      "\n",
      "Notes:\n",
      "[1] Standard Errors assume that the covariance matrix of the errors is correctly specified.\n"
     ]
    }
   ],
   "source": [
    "# Dropping highly correlated variables and insignificant variables\n",
    "\n",
    "X_train_rfe1 = X_train_rfe.drop('citympg', 1,)\n",
    "\n",
    "# Adding a constant variable and Build a second fitted model\n",
    "\n",
    "X_train_rfe1c = sm.add_constant(X_train_rfe1)\n",
    "lm_rfe1 = sm.OLS(y_train, X_train_rfe1c).fit()\n",
    "\n",
    "#Summary of linear model\n",
    "print(lm_rfe1.summary())"
   ]
  },
  {
   "cell_type": "code",
   "execution_count": 101,
   "id": "b27a0b58-ff6d-4ca2-a951-a75fbf4e5b77",
   "metadata": {},
   "outputs": [
    {
     "data": {
      "text/html": [
       "<div>\n",
       "<style scoped>\n",
       "    .dataframe tbody tr th:only-of-type {\n",
       "        vertical-align: middle;\n",
       "    }\n",
       "\n",
       "    .dataframe tbody tr th {\n",
       "        vertical-align: top;\n",
       "    }\n",
       "\n",
       "    .dataframe thead th {\n",
       "        text-align: right;\n",
       "    }\n",
       "</style>\n",
       "<table border=\"1\" class=\"dataframe\">\n",
       "  <thead>\n",
       "    <tr style=\"text-align: right;\">\n",
       "      <th></th>\n",
       "      <th>Features</th>\n",
       "      <th>VIF</th>\n",
       "    </tr>\n",
       "  </thead>\n",
       "  <tbody>\n",
       "    <tr>\n",
       "      <th>6</th>\n",
       "      <td>carlength</td>\n",
       "      <td>69.97</td>\n",
       "    </tr>\n",
       "    <tr>\n",
       "      <th>1</th>\n",
       "      <td>curbweight</td>\n",
       "      <td>55.78</td>\n",
       "    </tr>\n",
       "    <tr>\n",
       "      <th>7</th>\n",
       "      <td>carwidth</td>\n",
       "      <td>40.65</td>\n",
       "    </tr>\n",
       "    <tr>\n",
       "      <th>0</th>\n",
       "      <td>wheelbase</td>\n",
       "      <td>37.87</td>\n",
       "    </tr>\n",
       "    <tr>\n",
       "      <th>2</th>\n",
       "      <td>enginesize</td>\n",
       "      <td>22.49</td>\n",
       "    </tr>\n",
       "    <tr>\n",
       "      <th>3</th>\n",
       "      <td>boreratio</td>\n",
       "      <td>16.72</td>\n",
       "    </tr>\n",
       "    <tr>\n",
       "      <th>4</th>\n",
       "      <td>horsepower</td>\n",
       "      <td>16.62</td>\n",
       "    </tr>\n",
       "    <tr>\n",
       "      <th>5</th>\n",
       "      <td>highwaympg</td>\n",
       "      <td>6.72</td>\n",
       "    </tr>\n",
       "  </tbody>\n",
       "</table>\n",
       "</div>"
      ],
      "text/plain": [
       "     Features    VIF\n",
       "6   carlength  69.97\n",
       "1  curbweight  55.78\n",
       "7    carwidth  40.65\n",
       "0   wheelbase  37.87\n",
       "2  enginesize  22.49\n",
       "3   boreratio  16.72\n",
       "4  horsepower  16.62\n",
       "5  highwaympg   6.72"
      ]
     },
     "execution_count": 101,
     "metadata": {},
     "output_type": "execute_result"
    }
   ],
   "source": [
    "# Create a dataframe that will contain the names of all the feature variables and their respective VIFs\n",
    "vif = pd.DataFrame()\n",
    "vif['Features'] = X_train_rfe1.columns\n",
    "vif['VIF'] = [variance_inflation_factor(X_train_rfe1.values, i) for i in range(X_train_rfe1.shape[1])]\n",
    "vif['VIF'] = round(vif['VIF'], 2)\n",
    "vif = vif.sort_values(by = \"VIF\", ascending = False)\n",
    "vif"
   ]
  },
  {
   "cell_type": "code",
   "execution_count": 102,
   "id": "b27db6a9-b158-4ea2-bcdb-94dd52149842",
   "metadata": {},
   "outputs": [],
   "source": [
    "# Dropping curbweight beacuse its p-value is 0.746 and we want p-value less than 0.05 and hence rebuilding the model"
   ]
  },
  {
   "cell_type": "code",
   "execution_count": 103,
   "id": "4263b0d6-f9ff-4b5a-bab8-97434bb521be",
   "metadata": {},
   "outputs": [
    {
     "name": "stdout",
     "output_type": "stream",
     "text": [
      "                            OLS Regression Results                            \n",
      "==============================================================================\n",
      "Dep. Variable:                  price   R-squared:                       0.847\n",
      "Model:                            OLS   Adj. R-squared:                  0.839\n",
      "Method:                 Least Squares   F-statistic:                     101.2\n",
      "Date:                Sat, 01 Apr 2023   Prob (F-statistic):           4.64e-49\n",
      "Time:                        15:36:32   Log-Likelihood:                 154.56\n",
      "No. Observations:                 136   AIC:                            -293.1\n",
      "Df Residuals:                     128   BIC:                            -269.8\n",
      "Df Model:                           7                                         \n",
      "Covariance Type:            nonrobust                                         \n",
      "==============================================================================\n",
      "                 coef    std err          t      P>|t|      [0.025      0.975]\n",
      "------------------------------------------------------------------------------\n",
      "const         -0.2713      0.103     -2.641      0.009      -0.475      -0.068\n",
      "wheelbase      0.1724      0.100      1.727      0.087      -0.025       0.370\n",
      "enginesize     0.6662      0.107      6.246      0.000       0.455       0.877\n",
      "boreratio     -0.0249      0.048     -0.523      0.602      -0.119       0.069\n",
      "horsepower     0.4126      0.106      3.878      0.000       0.202       0.623\n",
      "highwaympg     0.0032      0.002      1.374      0.172      -0.001       0.008\n",
      "carlength     -0.0877      0.105     -0.838      0.404      -0.295       0.119\n",
      "carwidth       0.2043      0.084      2.422      0.017       0.037       0.371\n",
      "==============================================================================\n",
      "Omnibus:                       11.898   Durbin-Watson:                   1.987\n",
      "Prob(Omnibus):                  0.003   Jarque-Bera (JB):               17.737\n",
      "Skew:                           0.453   Prob(JB):                     0.000141\n",
      "Kurtosis:                       4.520   Cond. No.                         703.\n",
      "==============================================================================\n",
      "\n",
      "Notes:\n",
      "[1] Standard Errors assume that the covariance matrix of the errors is correctly specified.\n"
     ]
    }
   ],
   "source": [
    "# Dropping highly correlated variables and insignificant variables\n",
    "\n",
    "X_train_rfe2 = X_train_rfe1.drop('curbweight', 1,)\n",
    "\n",
    "# Adding a constant variable and Build a third fitted model\n",
    "\n",
    "X_train_rfe2c = sm.add_constant(X_train_rfe2)\n",
    "lm_rfe2 = sm.OLS(y_train, X_train_rfe2c).fit()\n",
    "\n",
    "#Summary of linear model\n",
    "print(lm_rfe2.summary())"
   ]
  },
  {
   "cell_type": "code",
   "execution_count": 104,
   "id": "9622935c-e916-496f-9731-40e3ffa54249",
   "metadata": {},
   "outputs": [
    {
     "data": {
      "text/html": [
       "<div>\n",
       "<style scoped>\n",
       "    .dataframe tbody tr th:only-of-type {\n",
       "        vertical-align: middle;\n",
       "    }\n",
       "\n",
       "    .dataframe tbody tr th {\n",
       "        vertical-align: top;\n",
       "    }\n",
       "\n",
       "    .dataframe thead th {\n",
       "        text-align: right;\n",
       "    }\n",
       "</style>\n",
       "<table border=\"1\" class=\"dataframe\">\n",
       "  <thead>\n",
       "    <tr style=\"text-align: right;\">\n",
       "      <th></th>\n",
       "      <th>Features</th>\n",
       "      <th>VIF</th>\n",
       "    </tr>\n",
       "  </thead>\n",
       "  <tbody>\n",
       "    <tr>\n",
       "      <th>5</th>\n",
       "      <td>carlength</td>\n",
       "      <td>62.25</td>\n",
       "    </tr>\n",
       "    <tr>\n",
       "      <th>6</th>\n",
       "      <td>carwidth</td>\n",
       "      <td>39.60</td>\n",
       "    </tr>\n",
       "    <tr>\n",
       "      <th>0</th>\n",
       "      <td>wheelbase</td>\n",
       "      <td>35.89</td>\n",
       "    </tr>\n",
       "    <tr>\n",
       "      <th>1</th>\n",
       "      <td>enginesize</td>\n",
       "      <td>20.32</td>\n",
       "    </tr>\n",
       "    <tr>\n",
       "      <th>2</th>\n",
       "      <td>boreratio</td>\n",
       "      <td>16.47</td>\n",
       "    </tr>\n",
       "    <tr>\n",
       "      <th>3</th>\n",
       "      <td>horsepower</td>\n",
       "      <td>15.58</td>\n",
       "    </tr>\n",
       "    <tr>\n",
       "      <th>4</th>\n",
       "      <td>highwaympg</td>\n",
       "      <td>6.21</td>\n",
       "    </tr>\n",
       "  </tbody>\n",
       "</table>\n",
       "</div>"
      ],
      "text/plain": [
       "     Features    VIF\n",
       "5   carlength  62.25\n",
       "6    carwidth  39.60\n",
       "0   wheelbase  35.89\n",
       "1  enginesize  20.32\n",
       "2   boreratio  16.47\n",
       "3  horsepower  15.58\n",
       "4  highwaympg   6.21"
      ]
     },
     "execution_count": 104,
     "metadata": {},
     "output_type": "execute_result"
    }
   ],
   "source": [
    "# Create a dataframe that will contain the names of all the feature variables and their respective VIFs\n",
    "vif = pd.DataFrame()\n",
    "vif['Features'] = X_train_rfe2.columns\n",
    "vif['VIF'] = [variance_inflation_factor(X_train_rfe2.values, i) for i in range(X_train_rfe2.shape[1])]\n",
    "vif['VIF'] = round(vif['VIF'], 2)\n",
    "vif = vif.sort_values(by = \"VIF\", ascending = False)\n",
    "vif"
   ]
  },
  {
   "cell_type": "code",
   "execution_count": 105,
   "id": "ad774b5a-e8a4-4d0b-86df-f3b8428aa474",
   "metadata": {},
   "outputs": [],
   "source": [
    "# Dropping carlength beacuse its p-value is 0.404 and we want p-value less than 0.05 and hence rebuilding the model"
   ]
  },
  {
   "cell_type": "code",
   "execution_count": 106,
   "id": "98c9252d-0396-4aa1-a5c4-0479ed936bc4",
   "metadata": {},
   "outputs": [
    {
     "name": "stdout",
     "output_type": "stream",
     "text": [
      "                            OLS Regression Results                            \n",
      "==============================================================================\n",
      "Dep. Variable:                  price   R-squared:                       0.846\n",
      "Model:                            OLS   Adj. R-squared:                  0.839\n",
      "Method:                 Least Squares   F-statistic:                     118.3\n",
      "Date:                Sat, 01 Apr 2023   Prob (F-statistic):           5.77e-50\n",
      "Time:                        15:39:28   Log-Likelihood:                 154.19\n",
      "No. Observations:                 136   AIC:                            -294.4\n",
      "Df Residuals:                     129   BIC:                            -274.0\n",
      "Df Model:                           6                                         \n",
      "Covariance Type:            nonrobust                                         \n",
      "==============================================================================\n",
      "                 coef    std err          t      P>|t|      [0.025      0.975]\n",
      "------------------------------------------------------------------------------\n",
      "const         -0.2910      0.100     -2.913      0.004      -0.489      -0.093\n",
      "wheelbase      0.1195      0.077      1.548      0.124      -0.033       0.272\n",
      "enginesize     0.6689      0.106      6.282      0.000       0.458       0.880\n",
      "boreratio     -0.0334      0.046     -0.721      0.472      -0.125       0.058\n",
      "horsepower     0.4059      0.106      3.830      0.000       0.196       0.616\n",
      "highwaympg     0.0036      0.002      1.551      0.123      -0.001       0.008\n",
      "carwidth       0.1854      0.081      2.284      0.024       0.025       0.346\n",
      "==============================================================================\n",
      "Omnibus:                       10.723   Durbin-Watson:                   1.968\n",
      "Prob(Omnibus):                  0.005   Jarque-Bera (JB):               15.902\n",
      "Skew:                           0.405   Prob(JB):                     0.000352\n",
      "Kurtosis:                       4.466   Cond. No.                         692.\n",
      "==============================================================================\n",
      "\n",
      "Notes:\n",
      "[1] Standard Errors assume that the covariance matrix of the errors is correctly specified.\n"
     ]
    }
   ],
   "source": [
    "# Dropping highly correlated variables and insignificant variables\n",
    "\n",
    "X_train_rfe3 = X_train_rfe2.drop('carlength', 1,)\n",
    "\n",
    "# Adding a constant variable and Build a fourth fitted model\n",
    "X_train_rfe3c = sm.add_constant(X_train_rfe3)\n",
    "lm_rfe3 = sm.OLS(y_train, X_train_rfe3c).fit()\n",
    "\n",
    "#Summary of linear model\n",
    "print(lm_rfe3.summary())"
   ]
  },
  {
   "cell_type": "code",
   "execution_count": 107,
   "id": "369c0f16-5e49-4a20-8591-21adae5f42b2",
   "metadata": {},
   "outputs": [
    {
     "data": {
      "text/html": [
       "<div>\n",
       "<style scoped>\n",
       "    .dataframe tbody tr th:only-of-type {\n",
       "        vertical-align: middle;\n",
       "    }\n",
       "\n",
       "    .dataframe tbody tr th {\n",
       "        vertical-align: top;\n",
       "    }\n",
       "\n",
       "    .dataframe thead th {\n",
       "        text-align: right;\n",
       "    }\n",
       "</style>\n",
       "<table border=\"1\" class=\"dataframe\">\n",
       "  <thead>\n",
       "    <tr style=\"text-align: right;\">\n",
       "      <th></th>\n",
       "      <th>Features</th>\n",
       "      <th>VIF</th>\n",
       "    </tr>\n",
       "  </thead>\n",
       "  <tbody>\n",
       "    <tr>\n",
       "      <th>5</th>\n",
       "      <td>carwidth</td>\n",
       "      <td>36.09</td>\n",
       "    </tr>\n",
       "    <tr>\n",
       "      <th>1</th>\n",
       "      <td>enginesize</td>\n",
       "      <td>20.22</td>\n",
       "    </tr>\n",
       "    <tr>\n",
       "      <th>0</th>\n",
       "      <td>wheelbase</td>\n",
       "      <td>20.19</td>\n",
       "    </tr>\n",
       "    <tr>\n",
       "      <th>2</th>\n",
       "      <td>boreratio</td>\n",
       "      <td>15.17</td>\n",
       "    </tr>\n",
       "    <tr>\n",
       "      <th>3</th>\n",
       "      <td>horsepower</td>\n",
       "      <td>14.66</td>\n",
       "    </tr>\n",
       "    <tr>\n",
       "      <th>4</th>\n",
       "      <td>highwaympg</td>\n",
       "      <td>6.00</td>\n",
       "    </tr>\n",
       "  </tbody>\n",
       "</table>\n",
       "</div>"
      ],
      "text/plain": [
       "     Features    VIF\n",
       "5    carwidth  36.09\n",
       "1  enginesize  20.22\n",
       "0   wheelbase  20.19\n",
       "2   boreratio  15.17\n",
       "3  horsepower  14.66\n",
       "4  highwaympg   6.00"
      ]
     },
     "execution_count": 107,
     "metadata": {},
     "output_type": "execute_result"
    }
   ],
   "source": [
    "# Create a dataframe that will contain the names of all the feature variables and their respective VIFs\n",
    "vif = pd.DataFrame()\n",
    "vif['Features'] = X_train_rfe3.columns\n",
    "vif['VIF'] = [variance_inflation_factor(X_train_rfe3.values, i) for i in range(X_train_rfe3.shape[1])]\n",
    "vif['VIF'] = round(vif['VIF'], 2)\n",
    "vif = vif.sort_values(by = \"VIF\", ascending = False)\n",
    "vif"
   ]
  },
  {
   "cell_type": "code",
   "execution_count": null,
   "id": "6ae50294-b529-4fbd-9ea6-ae9a89002837",
   "metadata": {},
   "outputs": [],
   "source": []
  }
 ],
 "metadata": {
  "kernelspec": {
   "display_name": "Python 3",
   "language": "python",
   "name": "python3"
  },
  "language_info": {
   "codemirror_mode": {
    "name": "ipython",
    "version": 3
   },
   "file_extension": ".py",
   "mimetype": "text/x-python",
   "name": "python",
   "nbconvert_exporter": "python",
   "pygments_lexer": "ipython3",
   "version": "3.8.8"
  }
 },
 "nbformat": 4,
 "nbformat_minor": 5
}
